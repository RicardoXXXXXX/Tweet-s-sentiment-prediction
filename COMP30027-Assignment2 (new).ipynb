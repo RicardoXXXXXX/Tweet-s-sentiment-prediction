{
 "cells": [
  {
   "cell_type": "markdown",
   "metadata": {},
   "source": [
    "##### The University of Melbourne, School of Computing and Information Systems\n",
    "# COMP30027 Machine Learning, 2022 Semester 1\n",
    "\n",
    "## Assignment 2: Sentiment Classification of Tweets"
   ]
  },
  {
   "cell_type": "code",
   "execution_count": 31,
   "metadata": {},
   "outputs": [
    {
     "name": "stderr",
     "output_type": "stream",
     "text": [
      "[nltk_data] Error loading stopwords: <urlopen error [Errno 11004]\n",
      "[nltk_data]     getaddrinfo failed>\n",
      "[nltk_data] Error loading wordnet: <urlopen error [Errno 11004]\n",
      "[nltk_data]     getaddrinfo failed>\n",
      "[nltk_data] Error loading omw-1.4: <urlopen error [Errno 11004]\n",
      "[nltk_data]     getaddrinfo failed>\n"
     ]
    }
   ],
   "source": [
    "import pandas as pd\n",
    "import matplotlib.pyplot as plt\n",
    "from sklearn.linear_model import LogisticRegression\n",
    "from sklearn.metrics import accuracy_score\n",
    "from sklearn.model_selection import cross_val_score\n",
    "import numpy as np\n",
    "from sklearn.model_selection import train_test_split\n",
    "import nltk\n",
    "nltk.download('stopwords')\n",
    "nltk.download('wordnet')\n",
    "nltk.download('omw-1.4')\n",
    "from bs4 import BeautifulSoup\n",
    "import re\n",
    "import unidecode\n",
    "from nltk.tokenize import TweetTokenizer\n",
    "from string import punctuation\n",
    "import contractions\n",
    "from sklearn.feature_extraction.text import CountVectorizer\n",
    "from tabulate import tabulate\n",
    "from sklearn.feature_extraction.text import TfidfVectorizer\n",
    "from sklearn.feature_selection import SelectKBest, chi2\n",
    "from sklearn.naive_bayes import MultinomialNB\n",
    "from sklearn.linear_model import LogisticRegression\n",
    "import numpy as np\n",
    "from sklearn.model_selection import cross_val_score\n",
    "from sklearn.svm import SVC\n",
    "from sklearn.model_selection import GridSearchCV\n",
    "\n"
   ]
  },
  {
   "cell_type": "code",
   "execution_count": null,
   "metadata": {},
   "outputs": [],
   "source": [
    "\n",
    "#Read the CSV datafiles (Train and Test).\n",
    "train_data = pd.read_csv(\"Train.csv\", sep=',')\n",
    "test_data = pd.read_csv(\"Test.csv\", sep=',')"
   ]
  },
  {
   "cell_type": "markdown",
   "metadata": {},
   "source": [
    "Then we separate the tweet text and the label (sentiment). "
   ]
  },
  {
   "cell_type": "code",
   "execution_count": 7,
   "metadata": {},
   "outputs": [
    {
     "name": "stdout",
     "output_type": "stream",
     "text": [
      "Train length: 21802\n",
      "Test length: 6099\n"
     ]
    }
   ],
   "source": [
    "#separating instance and label for Train\n",
    "X_train_raw = [x[0] for x in train_data[['text']].values]\n",
    "Y_train = [x[0] for x in train_data[['sentiment']].values]\n",
    "\n",
    "#check the result\n",
    "print(\"Train length:\",len(X_train_raw))\n",
    "\n",
    "#separating instance and label for Test\n",
    "X_test_raw = [x[0] for x in test_data[['text']].values]\n",
    "\n",
    "#check the result\n",
    "print(\"Test length:\",len(X_test_raw))"
   ]
  },
  {
   "cell_type": "code",
   "execution_count": 8,
   "metadata": {},
   "outputs": [],
   "source": [
    "#Split data\n",
    "X_train,X_valid,y_train,y_valid = train_test_split(X_train_raw,Y_train,test_size=0.28, random_state=30027)"
   ]
  },
  {
   "cell_type": "code",
   "execution_count": 9,
   "metadata": {},
   "outputs": [],
   "source": [
    "tknzr = TweetTokenizer(strip_handles=True, reduce_len=True) \n",
    "ps = nltk.PorterStemmer()\n",
    "wordnet = nltk.WordNetLemmatizer()\n",
    "stop_words = nltk.corpus.stopwords.words('english')\n",
    "stopwords = []\n",
    "# exclude words from stopwords list\n",
    "for i in stop_words:\n",
    "    if i != 'not' and i != 'no':\n",
    "        stopwords.append(i)\n",
    "    "
   ]
  },
  {
   "cell_type": "code",
   "execution_count": 10,
   "metadata": {},
   "outputs": [],
   "source": [
    "def remove_links(text):\n",
    "    return re.sub(r'\\w+:\\/{2}[\\d\\w-]+(\\.[\\d\\w-]+)*(?:(?:\\/[^\\s/]*))*', '', text)\n",
    "\n",
    "def remove_email(text):\n",
    "    return re.sub(r'[\\.a-zA-Z0-9_-]*@[\\.a-zA-Z0-9_-]*', '', text)\n",
    "\n",
    "\n",
    "def remove_accented_chars(text):\n",
    "\n",
    "    \"\"\"remove accented characters from text, e.g. café\"\"\"\n",
    "    text = unidecode.unidecode(text)\n",
    "    return text\n",
    "def expand_contractions(text):\n",
    "    \"\"\"expand shortened words, e.g. don't to do not\"\"\"\n",
    "    text = contractions.fix(text)\n",
    "    return text\n",
    "def remove_num(text):\n",
    "    return ''.join([i for i in text if not i.isdigit()])\n",
    "def strip_html_tags(text):\n",
    "    \"\"\"remove html tags from text\"\"\"\n",
    "    soup = BeautifulSoup(text, \"html.parser\")\n",
    "    stripped_text = soup.get_text(separator=\" \")\n",
    "    return stripped_text\n",
    "def remove_stopwords(text):\n",
    "    return ' '.join([wordnet.lemmatize(i) for i in text.split() if i not in stopwords])\n",
    "\n",
    "def remove_punc(text):\n",
    "    return ''.join([i.casefold() for i in text if i not in punctuation])\n",
    "\n",
    "def remove_num(text):\n",
    "    return ''.join([i for i in text if not i.isdigit()])\n",
    "\n",
    "def remove_whitespace(text):\n",
    "    \"\"\"remove extra whitespaces from text\"\"\"\n",
    "    text = text.strip()\n",
    "    return \" \".join(text.split())\n",
    "\n",
    "\n",
    "#  ps.stem(word)\n",
    "\n",
    "def remove_not_alpha(text):\n",
    "    return re.sub(r'[^\\s\\.a-zA-Z0-9_-]+', '', text)\n",
    "\n",
    "def preprocess(text):\n",
    "    \n",
    "#     text = text.replace(r'\\n','').replace(r'\\m','').replace(r'\\r','').replace(r'\\t','') \n",
    "    no_email = remove_email(text)\n",
    "    no_accented_chars = remove_accented_chars(no_email)\n",
    "    no_links = remove_links(no_accented_chars) \n",
    "    no_white_space = remove_whitespace(no_links)\n",
    "    no_punc = remove_punc(no_white_space)  \n",
    "    no_contractions = expand_contractions(no_punc)\n",
    "    no_html_tags = strip_html_tags(no_contractions)\n",
    "    no_num = remove_num(no_html_tags)\n",
    "    no_stopwords = remove_stopwords(no_num)\n",
    "    no_alpha = remove_not_alpha(no_stopwords)\n",
    "    tok = tknzr.tokenize(no_alpha)\n",
    "    return \" \".join([ps.stem(word) for word in tok])\n",
    "\n",
    "def prepare(text): \n",
    "    res = []\n",
    "    for line in text:\n",
    "        line = preprocess(line) \n",
    "        res.append(line)    \n",
    "    return res    \n",
    "X_train_clean = prepare(X_train)\n",
    "X_valid_clean = prepare(X_valid) \n"
   ]
  },
  {
   "cell_type": "markdown",
   "metadata": {},
   "source": [
    "### Preprocessing: Vectorization\n",
    "**Bag of Words (BoW)**\n",
    "\n",
    "In this approach, we use the **CountVectorizer** library to separate all the words in the Train corpus (dataset). These words are then used as the 'vectors' or 'features' to represent each instance (Tweet) in `Train` and `Test` datasets. "
   ]
  },
  {
   "cell_type": "code",
   "execution_count": 11,
   "metadata": {},
   "outputs": [],
   "source": [
    "\n",
    "\n",
    "BoW_vectorizer_12 = CountVectorizer(ngram_range=(1,2))\n",
    "#Build the feature set (vocabulary) and vectorise the Tarin dataset using BoW\n",
    "X_train_BoW_12 = BoW_vectorizer_12.fit_transform(X_train_clean)\n",
    "\n",
    "#Use the feature set (vocabulary) from Train to vectorise the Test dataset \n",
    "X_valid_BoW_12 = BoW_vectorizer_12.transform(X_valid_clean)\n"
   ]
  },
  {
   "cell_type": "markdown",
   "metadata": {},
   "source": [
    "**TFIDF**\n",
    "\n",
    "In this approach, we use the **TfidfVectorizer** library to separate all the words in this corpus (dataset). Same as the BoW approach, these words are then used as the 'vectors' or 'features' to represent each instance (Tweet).\n",
    "\n",
    "However, in this method for each instance the value associated with each 'vector' (word) is not the number of times the word repeated in that tweet, but the TFIDF value of then 'voctor' (word)."
   ]
  },
  {
   "cell_type": "code",
   "execution_count": 12,
   "metadata": {},
   "outputs": [],
   "source": [
    "\n",
    "\n",
    "tfidf_vectorizer = TfidfVectorizer(ngram_range=(1,2))\n",
    "\n",
    "#Build the feature set (vocabulary) and vectorise the Tarin dataset using TFIDF\n",
    "X_train_tfidf_12 = tfidf_vectorizer.fit_transform(X_train_clean)\n",
    "\n",
    "#Use the feature set (vocabulary) from Train to vectorise the Test dataset \n",
    "X_valid_tfidf_12 = tfidf_vectorizer.transform(X_valid_clean)\n"
   ]
  },
  {
   "cell_type": "markdown",
   "metadata": {},
   "source": [
    "### Preprocessing: feature selection \n",
    "**select kbest + chi2** "
   ]
  },
  {
   "cell_type": "code",
   "execution_count": 13,
   "metadata": {},
   "outputs": [],
   "source": [
    "\n",
    "\n",
    "def chi(k_value):\n",
    "    selector = SelectKBest(chi2,k=k_value)\n",
    "    x_train_chi_12 = selector.fit_transform(X_train_BoW_12 ,y_train)\n",
    "    x_test_chi_12 = selector.transform(X_valid_BoW_12)\n",
    "\n",
    "    return x_train_chi_12, x_test_chi_12\n",
    "\n"
   ]
  },
  {
   "cell_type": "markdown",
   "metadata": {},
   "source": [
    "### Compare BoW and TFIDF\n"
   ]
  },
  {
   "cell_type": "code",
   "execution_count": 14,
   "metadata": {},
   "outputs": [],
   "source": [
    "\n",
    "def chi_Tfidf(k_value, X_train_tfidf,X_valid_tfidf):\n",
    "    selector = SelectKBest(chi2,k=k_value)\n",
    "    x_train_chi_Tfidf = selector.fit_transform(X_train_tfidf ,y_train)\n",
    "    x_test_chi_Tfidf = selector.transform(X_valid_tfidf)\n",
    "\n",
    "    return x_train_chi_Tfidf , x_test_chi_Tfidf\n",
    "    \n",
    "def chi_BoW(k_value, X_train_BoW,X_valid_BoW ):\n",
    "    selector = SelectKBest(chi2,k=k_value)\n",
    "    x_train_chi_Bow = selector.fit_transform(X_train_BoW ,y_train)\n",
    "    x_test_chi_Bow = selector.transform(X_valid_BoW)\n",
    "\n",
    "    return x_train_chi_Bow, x_test_chi_Bow\n"
   ]
  },
  {
   "cell_type": "code",
   "execution_count": 15,
   "metadata": {},
   "outputs": [],
   "source": [
    "#TFidf vs BoW\n",
    "\n",
    "\n",
    "lr_BoW = []\n",
    "lr_tfidf = []\n",
    "svm_BoW = []\n",
    "svm_tfidf = []\n",
    "NB_BoW = []\n",
    "NB_tfidf = []\n",
    "for k in range(200,3000,200):\n",
    "    x_train_chi_Bow, x_test_chi_Bow = chi_BoW(k, X_train_BoW_12, X_valid_BoW_12)\n",
    "    x_train_chi_Tfidf , x_test_chi_Tfidf = chi_Tfidf(k, X_train_tfidf_12,X_valid_tfidf_12)\n",
    "    lr1 = LogisticRegression(max_iter=2000).fit(x_train_chi_Bow, y_train)\n",
    "    lr1_acc = np.mean(cross_val_score(lr1,x_test_chi_Bow,y_valid,cv = 5))\n",
    "    lr_BoW.append(lr1_acc)\n",
    "    lr2 = LogisticRegression(max_iter=2000).fit(x_train_chi_Tfidf, y_train)\n",
    "    lr2_acc = np.mean(cross_val_score(lr2,x_test_chi_Tfidf,y_valid,cv = 5))\n",
    "    lr_tfidf.append(lr2_acc)\n",
    "    clf1 = SVC().fit(x_train_chi_Bow, y_train)\n",
    "    clf1_acc = np.mean(cross_val_score(clf1,x_test_chi_Bow,y_valid,cv = 5))\n",
    "    svm_BoW.append(clf1_acc)\n",
    "    clf2 = SVC().fit(x_train_chi_Tfidf, y_train)\n",
    "    clf2_acc = np.mean(cross_val_score(clf2,x_test_chi_Tfidf,y_valid,cv = 5))\n",
    "    svm_tfidf.append(clf2_acc)\n",
    "    nb1 = MultinomialNB().fit(x_train_chi_Bow, y_train)\n",
    "    nb1_acc = np.mean(cross_val_score(nb1,x_test_chi_Bow,y_valid,cv = 5))\n",
    "    NB_BoW.append(nb1_acc)\n",
    "    nb2 = MultinomialNB().fit(x_train_chi_Tfidf, y_train)\n",
    "    nb2_acc = np.mean(cross_val_score(nb2,x_test_chi_Tfidf,y_valid,cv = 5))\n",
    "    NB_tfidf.append(nb2_acc)"
   ]
  },
  {
   "cell_type": "code",
   "execution_count": 21,
   "metadata": {},
   "outputs": [
    {
     "data": {
      "text/plain": [
       "<matplotlib.legend.Legend at 0x1b1f1a5bee0>"
      ]
     },
     "execution_count": 21,
     "metadata": {},
     "output_type": "execute_result"
    },
    {
     "data": {
      "image/png": "[encoded data removed]",
      "text/plain": [
       "<Figure size 432x288 with 1 Axes>"
      ]
     },
     "metadata": {
      "needs_background": "light"
     },
     "output_type": "display_data"
    }
   ],
   "source": [
    "x = np.arange(200,3000,200)\n",
    "y1 = np.array(lr_BoW )\n",
    "y2 = np.array(lr_tfidf)\n",
    "y3 = np.array(svm_BoW )\n",
    "y4 = np.array(svm_tfidf)\n",
    "y5 = np.array(NB_BoW )\n",
    "y6 = np.array(NB_tfidf)\n",
    "plt.plot(x, y1) \n",
    "plt.plot(x, y2)\n",
    "plt.plot(x, y3)\n",
    "plt.plot(x, y4) \n",
    "plt.plot(x, y5)\n",
    "plt.plot(x, y6)\n",
    "plt.xlabel(\"K Value\") \n",
    "plt.ylabel(\"Accuracy rate\") \n",
    "plt.title('BoW VS TF-idf')\n",
    "plt.legend(['LR_BoW','LR_TFidf', 'SVM_BoW', 'SVM_TFidf', 'NB_BoW', 'NB_TFidf'],bbox_to_anchor=(1, 0.48))"
   ]
  },
  {
   "cell_type": "markdown",
   "metadata": {},
   "source": [
    "**By obsverving the plots, K = 400 and BoW has the best perfermence.**"
   ]
  },
  {
   "cell_type": "markdown",
   "metadata": {},
   "source": [
    "### Model: Logistic Regression\n",
    " "
   ]
  },
  {
   "cell_type": "code",
   "execution_count": 29,
   "metadata": {},
   "outputs": [],
   "source": [
    "\n",
    "#Set K = 400\n",
    "x_train_chi_lr, x_test_chi_lr = chi(400)\n",
    "\n",
    "def gs_LogisticRegression(x_train):\n",
    "    parameters_lr = {'solver':('newton-cg','lbfgs','sag','saga'),'C':[0.1,0.2,0.3,0.4,0.5,0.6,0.7,0.8,0.9,1],'multi_class':('auto','ovr','multinomial')}\n",
    "    lr = LogisticRegression(max_iter=2000)\n",
    "    gs = GridSearchCV(lr,parameters_lr)\n",
    "    gs.fit(x_train,y_train)\n",
    "\n",
    "    return gs.best_estimator_, gs.best_score_\n",
    "\n",
    "\n",
    "best_estimator_lr, best_score_lr = gs_LogisticRegression(x_train_chi_lr)\n"
   ]
  },
  {
   "cell_type": "code",
   "execution_count": 30,
   "metadata": {},
   "outputs": [
    {
     "name": "stdout",
     "output_type": "stream",
     "text": [
      "The best estimators area: LogisticRegression(C=1, max_iter=2000, solver='saga')\n",
      "The best score is: 0.6746513859945661\n"
     ]
    }
   ],
   "source": [
    "print(f\"The best estimators area: {best_estimator_lr}\")\n",
    "print(f\"The best score is: {best_score_lr}\")"
   ]
  },
  {
   "cell_type": "code",
   "execution_count": 42,
   "metadata": {},
   "outputs": [],
   "source": [
    "#C, solver, multi_class, penalty, max_iter\n",
    "def logistic_regression(k_value, c_value):\n",
    "    \n",
    "    x_train_chi_final_lr, x_test_chi_final_lr = chi(k_value)\n",
    "    #newton-cg's acc is as same as other solvers, e.g. saga\n",
    "    lr = LogisticRegression(solver= 'newton-cg', C = c_value, max_iter = 2000).fit(x_train_chi_final_lr, y_train)\n",
    "    y_train_predicted = lr.predict(x_train_chi_final_lr)\n",
    "    #print(\"training accuracy \", np.mean(y_train_predicted == y_train))\n",
    "    lr_acc = np.mean(cross_val_score(lr,x_test_chi_final_lr,y_valid,cv = 5))\n",
    "    #print('validation accuracy: ' ,lr_acc)\n",
    "    # y_predicted = lr.predict(x_test_chi)\n",
    "    #print('prediction accuracy: ',lr.score(x_test_chi_final, y_valid))\n",
    "\n",
    "    return np.mean(y_train_predicted == y_train), lr_acc, lr.score(x_test_chi_final_lr, y_valid)\n",
    "\n",
    "#ta_lr, va_lr, pa_lr = logistic_regression(400, 1)"
   ]
  },
  {
   "cell_type": "markdown",
   "metadata": {},
   "source": [
    "**By observing the plots, K = 400**"
   ]
  },
  {
   "cell_type": "code",
   "execution_count": 43,
   "metadata": {},
   "outputs": [
    {
     "data": {
      "image/png": "[encoded data removed]",
      "text/plain": [
       "<Figure size 432x288 with 1 Axes>"
      ]
     },
     "metadata": {
      "needs_background": "light"
     },
     "output_type": "display_data"
    }
   ],
   "source": [
    "#Accuracy when K = 400\n",
    "training_accuracy_list = []\n",
    "validation_accuracy_list = []\n",
    "prediction_accuracy_list = []\n",
    "\n",
    "\n",
    "for i in range(1,11,1):\n",
    "    ta, va, pa = logistic_regression(400, i/10)\n",
    "    training_accuracy_list.append(ta)\n",
    "    validation_accuracy_list.append(va)\n",
    "    prediction_accuracy_list.append(pa)\n",
    "\n",
    "x = np.arange(0.1,1.1,0.1) \n",
    "y1 = np.array(training_accuracy_list)\n",
    "y2 = np.array(validation_accuracy_list)\n",
    "y3 = np.array(prediction_accuracy_list)\n",
    "# PLot\n",
    "plt.plot(x, y1) \n",
    "plt.plot(x, y2)\n",
    "plt.plot(x, y3)\n",
    "# Add Title\n",
    "plt.title(\"Logistic Regression Accuracy (BoW)\") \n",
    "\n",
    "# Add Axes Labels and legend\n",
    "plt.xlabel(\"C Value\") \n",
    "plt.ylabel(\"Accuracy rate\") \n",
    "plt.legend(['Training accuracy','Validation accuracy', 'Prediction accuracy'])\n",
    "# Display\n",
    "plt.show()"
   ]
  },
  {
   "cell_type": "code",
   "execution_count": 44,
   "metadata": {},
   "outputs": [
    {
     "data": {
      "image/png": "[encoded data removed]",
      "text/plain": [
       "<Figure size 432x288 with 1 Axes>"
      ]
     },
     "metadata": {
      "needs_background": "light"
     },
     "output_type": "display_data"
    }
   ],
   "source": [
    "#Accuracy when c = 0.4\n",
    "training_accuracy_list = []\n",
    "validation_accuracy_list = []\n",
    "prediction_accuracy_list = []\n",
    "\n",
    "\n",
    "for i in range(100,1600,100):\n",
    "    ta, va, pa = logistic_regression(i,0.4)\n",
    "    training_accuracy_list.append(ta)\n",
    "    validation_accuracy_list.append(va)\n",
    "    prediction_accuracy_list.append(pa)\n",
    "\n",
    "x = np.arange(100,1600,100) \n",
    "y1 = np.array(training_accuracy_list)\n",
    "y2 = np.array(validation_accuracy_list)\n",
    "y3 = np.array(prediction_accuracy_list)\n",
    "# PLot\n",
    "plt.plot(x, y1) \n",
    "plt.plot(x, y2)\n",
    "plt.plot(x, y3)\n",
    "# Add Title\n",
    "plt.title(\"Logistic Regression Accuracy (BoW)\") \n",
    "\n",
    "# Add Axes Labels and legend\n",
    "plt.xlabel(\"K Value\") \n",
    "plt.ylabel(\"Accuracy rate\") \n",
    "plt.legend(['Training accuracy','Validation accuracy', 'Prediction accuracy'])\n",
    "# Display\n",
    "plt.show()"
   ]
  },
  {
   "cell_type": "code",
   "execution_count": 48,
   "metadata": {},
   "outputs": [
    {
     "name": "stdout",
     "output_type": "stream",
     "text": [
      "training accuracy  0.6901318723322928\n",
      "validation accuracy:  0.6584766584766585\n",
      "prediction accuracy:  0.6684684684684684\n"
     ]
    }
   ],
   "source": [
    "#Finla model: K = 400, c = 0.4\n",
    "#x_train_chi_final_lr, x_test_chi_final_lr = chi(400)\n",
    "lr = LogisticRegression(solver= 'saga', C = 0.4, max_iter = 2000).fit(x_train_chi_lr, y_train)\n",
    "y_train_predicted = lr.predict(x_train_chi_lr)\n",
    "print(\"training accuracy \", np.mean(y_train_predicted == y_train))\n",
    "lr_acc = np.mean(cross_val_score(lr,x_test_chi_lr,y_valid,cv = 5))\n",
    "print('validation accuracy: ' ,lr_acc)\n",
    "y_predicted = lr.predict(x_test_chi_lr)\n",
    "print('prediction accuracy: ',lr.score(x_test_chi_lr, y_valid))"
   ]
  },
  {
   "cell_type": "markdown",
   "metadata": {},
   "source": [
    "### Model: SVM\n",
    "\n"
   ]
  },
  {
   "cell_type": "code",
   "execution_count": 49,
   "metadata": {},
   "outputs": [],
   "source": [
    "from sklearn.svm import SVC\n",
    "x_train_chi_svm, x_test_chi_svm = chi(500)\n"
   ]
  },
  {
   "cell_type": "code",
   "execution_count": 244,
   "metadata": {},
   "outputs": [
    {
     "data": {
      "text/plain": [
       "GridSearchCV(estimator=SVC(),\n",
       "             param_grid={'C': [0.1, 0.2, 0.3, 0.4, 0.5, 0.6],\n",
       "                         'decision_function_shape': ('ovo', 'ovr'),\n",
       "                         'kernel': ('linear', 'poly', 'rbf')})"
      ]
     },
     "execution_count": 244,
     "metadata": {},
     "output_type": "execute_result"
    }
   ],
   "source": [
    "gs_svc = GridSearchCV(SVC(), param_grid={\"kernel\":('linear', 'poly', 'rbf'), \"C\":[0.1,0.2,0.3,0.4,0.5,0.6],\"decision_function_shape\":('ovo','ovr')})  \n",
    "gs_svc.fit(x_train_chi, y_train)\n",
    "\n"
   ]
  },
  {
   "cell_type": "code",
   "execution_count": 245,
   "metadata": {},
   "outputs": [
    {
     "name": "stdout",
     "output_type": "stream",
     "text": [
      "{'C': 0.6, 'decision_function_shape': 'ovo', 'kernel': 'linear'}\n"
     ]
    }
   ],
   "source": [
    "print(gs_svc.best_params_)"
   ]
  },
  {
   "cell_type": "code",
   "execution_count": 247,
   "metadata": {},
   "outputs": [
    {
     "name": "stdout",
     "output_type": "stream",
     "text": [
      "training accuracy  0.6961839842008027\n",
      "validation accuracy:  0.6494676494676493\n",
      "prediction accuracy:  0.6568386568386568\n"
     ]
    }
   ],
   "source": [
    "#C, kernel, degree, gamma, max_iter, decision_function_shape\n",
    "\n",
    "clf = SVC(kernel=\"linear\", C = 0.6, decision_function_shape = 'ovo').fit(x_train_chi_svm, y_train)\n",
    "y_train_predicted = clf.predict(x_train_chi_svm)\n",
    "print(\"training accuracy \", np.mean(y_train_predicted == y_train))\n",
    "clf_acc = np.mean(cross_val_score(clf,x_test_chi_svm,y_valid,cv = 5))\n",
    "print('validation accuracy: ' ,clf_acc)\n",
    "# y_predicted = lr.predict(x_test_chi)\n",
    "print('prediction accuracy: ',clf.score(x_test_chi_svm, y_valid))\n"
   ]
  },
  {
   "cell_type": "code",
   "execution_count": null,
   "metadata": {},
   "outputs": [],
   "source": [
    "\n",
    "def gs_result_chi():\n",
    "    best_params_chi = []\n",
    "    best_scores_chi = []\n",
    "    \n",
    "    for i in range(500,2000,500):\n",
    "        gs_params_chi, gs_score_chi = gs_LogisticRegression(x_train_chi)\n",
    "        best_params_chi.append(gs_params_chi)\n",
    "        best_scores_chi.append(gs_score_chi)\n",
    "\n",
    "    return best_params_chi, best_scores_chi, x_train_chi, x_test_chi\n",
    "\n",
    "best_params_chi, best_scores_chi, x_train_chi, x_test_chi = gs_result_chi()"
   ]
  }
 ],
 "metadata": {
  "kernelspec": {
   "display_name": "Python 3",
   "language": "python",
   "name": "python3"
  },
  "language_info": {
   "codemirror_mode": {
    "name": "ipython",
    "version": 3
   },
   "file_extension": ".py",
   "mimetype": "text/x-python",
   "name": "python",
   "nbconvert_exporter": "python",
   "pygments_lexer": "ipython3",
   "version": "3.10.2"
  }
 },
 "nbformat": 4,
 "nbformat_minor": 4
}
