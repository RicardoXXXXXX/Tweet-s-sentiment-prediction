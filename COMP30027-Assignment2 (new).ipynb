{
 "cells": [
  {
   "cell_type": "markdown",
   "metadata": {},
   "source": [
    "##### The University of Melbourne, School of Computing and Information Systems\n",
    "# COMP30027 Machine Learning, 2022 Semester 1\n",
    "\n",
    "## Assignment 2: Sentiment Classification of Tweets"
   ]
  },
  {
   "cell_type": "code",
   "execution_count": 10,
   "metadata": {},
   "outputs": [
    {
     "name": "stderr",
     "output_type": "stream",
     "text": [
      "[nltk_data] Downloading package stopwords to\n",
      "[nltk_data]     C:\\Users\\Lingpeng\\AppData\\Roaming\\nltk_data...\n",
      "[nltk_data]   Package stopwords is already up-to-date!\n",
      "[nltk_data] Downloading package wordnet to\n",
      "[nltk_data]     C:\\Users\\Lingpeng\\AppData\\Roaming\\nltk_data...\n",
      "[nltk_data]   Package wordnet is already up-to-date!\n",
      "[nltk_data] Downloading package omw-1.4 to\n",
      "[nltk_data]     C:\\Users\\Lingpeng\\AppData\\Roaming\\nltk_data...\n",
      "[nltk_data]   Package omw-1.4 is already up-to-date!\n"
     ]
    }
   ],
   "source": [
    "import pandas as pd\n",
    "from IPython.display import display\n",
    "import matplotlib.pyplot as plt\n",
    "import numpy as np\n",
    "import nltk\n",
    "nltk.download('stopwords')\n",
    "nltk.download('wordnet')\n",
    "nltk.download('omw-1.4')\n",
    "from nltk.tokenize import TweetTokenizer\n",
    "from bs4 import BeautifulSoup\n",
    "import re\n",
    "import unidecode\n",
    "from string import punctuation\n",
    "import contractions\n",
    "from tabulate import tabulate\n",
    "import collections\n",
    "\n",
    "from sklearn.linear_model import LogisticRegression\n",
    "from sklearn.model_selection import cross_val_score\n",
    "from sklearn.model_selection import train_test_split\n",
    "from sklearn.feature_extraction.text import TfidfVectorizer\n",
    "from sklearn.feature_selection import SelectKBest, chi2, f_classif\n",
    "from sklearn.naive_bayes import MultinomialNB\n",
    "from sklearn.svm import SVC\n",
    "from sklearn.model_selection import GridSearchCV\n",
    "from sklearn.feature_extraction.text import CountVectorizer\n",
    "from sklearn.ensemble import RandomForestClassifier\n",
    "from sklearn.ensemble import StackingClassifier\n",
    "from sklearn import metrics\n",
    "from sklearn.metrics import accuracy_score\n",
    "from sklearn.metrics import precision_score\n",
    "from sklearn.metrics import recall_score\n",
    "from sklearn.metrics import f1_score\n",
    "from sklearn.metrics import confusion_matrix, ConfusionMatrixDisplay\n",
    "from sklearn.dummy import DummyClassifier\n",
    "import time"
   ]
  },
  {
   "cell_type": "markdown",
   "metadata": {},
   "source": [
    "# Preprocessing"
   ]
  },
  {
   "cell_type": "markdown",
   "metadata": {},
   "source": [
    "### Read&Split data "
   ]
  },
  {
   "cell_type": "code",
   "execution_count": 11,
   "metadata": {},
   "outputs": [],
   "source": [
    "\n",
    "#Read the CSV datafiles (Train and Test).\n",
    "train_data = pd.read_csv(\"Train.csv\", sep=',')\n",
    "test_data = pd.read_csv(\"Test.csv\", sep=',')\n",
    "\n"
   ]
  },
  {
   "cell_type": "markdown",
   "metadata": {},
   "source": [
    "Then we separate the tweet text and the label (sentiment). "
   ]
  },
  {
   "cell_type": "code",
   "execution_count": 12,
   "metadata": {},
   "outputs": [
    {
     "name": "stdout",
     "output_type": "stream",
     "text": [
      "Train length: 21802\n",
      "Test length: 6099\n"
     ]
    }
   ],
   "source": [
    "#separating instance and label for Train\n",
    "X_train_raw = [x[0] for x in train_data[['text']].values]\n",
    "Y_train = [x[0] for x in train_data[['sentiment']].values]\n",
    "\n",
    "#check the result\n",
    "print(\"Train length:\",len(X_train_raw))\n",
    "\n",
    "#separating instance and label for Test\n",
    "X_test_raw = [x[0] for x in test_data[['text']].values]\n",
    "\n",
    "#check the result\n",
    "print(\"Test length:\",len(X_test_raw))"
   ]
  },
  {
   "cell_type": "code",
   "execution_count": 13,
   "metadata": {},
   "outputs": [
    {
     "data": {
      "image/png": "[encoded data removed]",
      "text/plain": [
       "<Figure size 432x288 with 1 Axes>"
      ]
     },
     "metadata": {
      "needs_background": "light"
     },
     "output_type": "display_data"
    }
   ],
   "source": [
    "\n",
    "counter = dict(collections.Counter(Y_train))\n",
    "label = ['positive','netural','negative']\n",
    "data = [counter['positive'],counter['neutral'],counter['negative']]\n",
    "plt.bar(label, data)\n",
    "plt.title('label distribution of the training set')\n",
    "plt.xlabel('label type')\n",
    "plt.ylabel('number of labels')\n",
    "plt.show()"
   ]
  },
  {
   "cell_type": "code",
   "execution_count": 14,
   "metadata": {},
   "outputs": [],
   "source": [
    "#Split data\n",
    "X_train,X_valid,y_train,y_valid = train_test_split(X_train_raw,Y_train,test_size=0.28, random_state=30027)"
   ]
  },
  {
   "cell_type": "markdown",
   "metadata": {},
   "source": [
    "### Preprocessing: Data cleaning"
   ]
  },
  {
   "cell_type": "code",
   "execution_count": 15,
   "metadata": {},
   "outputs": [],
   "source": [
    "tknzr = TweetTokenizer(strip_handles=True, reduce_len=True) \n",
    "ps = nltk.PorterStemmer()\n",
    "wordnet = nltk.WordNetLemmatizer()\n",
    "stop_words = nltk.corpus.stopwords.words('english')\n",
    "stopwords = []\n",
    "# exclude words from stopwords list\n",
    "for i in stop_words:\n",
    "    if i != 'not' and i != 'no':\n",
    "        stopwords.append(i)\n",
    "    "
   ]
  },
  {
   "cell_type": "code",
   "execution_count": 75,
   "metadata": {},
   "outputs": [],
   "source": [
    "def remove_links(text):\n",
    "    return re.sub(r'\\w+:\\/{2}[\\d\\w-]+(\\.[\\d\\w-]+)*(?:(?:\\/[^\\s/]*))*', '', text)\n",
    "def remove_email(text):\n",
    "    return re.sub(r'[\\.a-zA-Z0-9_-]*@[\\.a-zA-Z0-9_-]*', '', text)\n",
    "def remove_accented_chars(text):\n",
    "    \"\"\"remove accented characters from text, e.g. café\"\"\"\n",
    "    text = unidecode.unidecode(text)\n",
    "    return text\n",
    "\n",
    "def expand_contractions(text):\n",
    "    \"\"\"expand shortened words, e.g. don't to do not\"\"\"\n",
    "    text = contractions.fix(text)\n",
    "    return text\n",
    "\n",
    "def remove_num(text):\n",
    "    return ''.join([i for i in text if not i.isdigit()])\n",
    "\n",
    "def strip_html_tags(text):\n",
    "    \"\"\"remove html tags from text\"\"\"\n",
    "    soup = BeautifulSoup(text, \"html.parser\")\n",
    "    stripped_text = soup.get_text(separator=\" \")\n",
    "    return stripped_text\n",
    "def remove_stopwords(text):\n",
    "    return ' '.join([wordnet.lemmatize(i) for i in text.split() if i not in stopwords])\n",
    "\n",
    "def remove_punc(text):\n",
    "    return ''.join([i.casefold() for i in text if i not in punctuation])\n",
    "\n",
    "def remove_num(text):\n",
    "    return ''.join([i for i in text if not i.isdigit()])\n",
    "\n",
    "def remove_whitespace(text):\n",
    "    \"\"\"remove extra whitespaces from text\"\"\"\n",
    "    text = text.strip()\n",
    "    return \" \".join(text.split())\n",
    "\n",
    "def remove_not_alpha(text):\n",
    "    return re.sub(r'[^\\s\\.a-zA-Z0-9_-]+', '', text)\n",
    "\n",
    "def preprocess(text):\n",
    "    \n",
    "#     text = text.replace(r'\\n','').replace(r'\\m','').replace(r'\\r','').replace(r'\\t','') \n",
    "    no_email = remove_email(text)\n",
    "    no_accented_chars = remove_accented_chars(no_email)\n",
    "    no_links = remove_links(no_accented_chars) \n",
    "    no_white_space = remove_whitespace(no_links)\n",
    "    no_punc = remove_punc(no_white_space)  \n",
    "    no_contractions = expand_contractions(no_punc)\n",
    "    no_html_tags = strip_html_tags(no_contractions)\n",
    "    no_num = remove_num(no_html_tags)\n",
    "    no_stopwords = remove_stopwords(no_num)\n",
    "    no_alpha = remove_not_alpha(no_stopwords)\n",
    "    tok = tknzr.tokenize(no_alpha)\n",
    "    return \" \".join([ps.stem(word) for word in tok])\n",
    "\n",
    "def prepare(text): \n",
    "    res = []\n",
    "    for line in text:\n",
    "        line = preprocess(line) \n",
    "        res.append(line)    \n",
    "    return res    \n",
    "\n",
    "#Data cleaning\n",
    "X_train_clean = prepare(X_train)\n",
    "X_valid_clean = prepare(X_valid) \n"
   ]
  },
  {
   "cell_type": "markdown",
   "metadata": {},
   "source": [
    "### Preprocessing: Vectorization\n",
    "**Bag of Words (BoW)**\n",
    "\n",
    "In this approach, we use the **CountVectorizer** library to separate all the words in the Train corpus (dataset). These words are then used as the 'vectors' or 'features' to represent each instance (Tweet) in `Train` and `Test` datasets. "
   ]
  },
  {
   "cell_type": "code",
   "execution_count": 78,
   "metadata": {},
   "outputs": [
    {
     "data": {
      "text/plain": [
       "(6105, 127764)"
      ]
     },
     "execution_count": 78,
     "metadata": {},
     "output_type": "execute_result"
    }
   ],
   "source": [
    "\n",
    "BoW_vectorizer_12 = CountVectorizer(ngram_range=(1,2))\n",
    "#Build the feature set (vocabulary) and vectorise the Tarin dataset using BoW\n",
    "X_train_BoW_12 = BoW_vectorizer_12.fit_transform(X_train_clean)\n",
    "\n",
    "#Use the feature set (vocabulary) from Train to vectorise the Test dataset \n",
    "X_valid_BoW_12 = BoW_vectorizer_12.transform(X_valid_clean)\n",
    "X_valid_BoW_12.shape\n"
   ]
  },
  {
   "cell_type": "markdown",
   "metadata": {},
   "source": [
    "**TFIDF**\n",
    "\n",
    "In this approach, we use the **TfidfVectorizer** library to separate all the words in this corpus (dataset). Same as the BoW approach, these words are then used as the 'vectors' or 'features' to represent each instance (Tweet).\n",
    "\n",
    "However, in this method for each instance the value associated with each 'vector' (word) is not the number of times the word repeated in that tweet, but the TFIDF value of then 'voctor' (word)."
   ]
  },
  {
   "cell_type": "code",
   "execution_count": 18,
   "metadata": {},
   "outputs": [],
   "source": [
    "\n",
    "\n",
    "tfidf_vectorizer = TfidfVectorizer(ngram_range=(1,2))\n",
    "\n",
    "#Build the feature set (vocabulary) and vectorise the Tarin dataset using TFIDF\n",
    "X_train_tfidf_12 = tfidf_vectorizer.fit_transform(X_train_clean)\n",
    "\n",
    "#Use the feature set (vocabulary) from Train to vectorise the Test dataset \n",
    "X_valid_tfidf_12 = tfidf_vectorizer.transform(X_valid_clean)\n"
   ]
  },
  {
   "cell_type": "markdown",
   "metadata": {},
   "source": [
    "### Preprocessing: feature selection \n",
    "**select kbest + chi2** "
   ]
  },
  {
   "cell_type": "code",
   "execution_count": 19,
   "metadata": {},
   "outputs": [],
   "source": [
    "\n",
    "\n",
    "def chi(k_value):\n",
    "    selector = SelectKBest(chi2,k=k_value)\n",
    "    x_train_chi_12 = selector.fit_transform(X_train_BoW_12 ,y_train)\n",
    "    x_test_chi_12 = selector.transform(X_valid_BoW_12)\n",
    "\n",
    "    return x_train_chi_12, x_test_chi_12\n"
   ]
  },
  {
   "cell_type": "markdown",
   "metadata": {},
   "source": [
    "**select kbest + f-test** "
   ]
  },
  {
   "cell_type": "code",
   "execution_count": 20,
   "metadata": {},
   "outputs": [],
   "source": [
    "def fscore(k_value):\n",
    "    selector = SelectKBest(f_classif,k=k_value)\n",
    "    x_train_f_12 = selector.fit_transform(X_train_BoW_12 ,y_train)\n",
    "    x_test_f_12 = selector.transform(X_valid_BoW_12)\n",
    "\n",
    "    return x_train_f_12, x_test_f_12\n"
   ]
  },
  {
   "cell_type": "markdown",
   "metadata": {},
   "source": [
    "### Compare BoW and TFIDF\n"
   ]
  },
  {
   "cell_type": "code",
   "execution_count": 21,
   "metadata": {},
   "outputs": [],
   "source": [
    "\n",
    "def Tfidf_chi(k_value, X_train_tfidf,X_valid_tfidf):\n",
    "    selector = SelectKBest(chi2,k=k_value)\n",
    "    x_train_chi_Tfidf = selector.fit_transform(X_train_tfidf ,y_train)\n",
    "    x_test_chi_Tfidf = selector.transform(X_valid_tfidf)\n",
    "\n",
    "    return x_train_chi_Tfidf , x_test_chi_Tfidf\n",
    "    \n",
    "def BoW_chi(k_value, X_train_BoW,X_valid_BoW ):\n",
    "    selector = SelectKBest(chi2,k=k_value)\n",
    "    x_train_chi_Bow = selector.fit_transform(X_train_BoW ,y_train)\n",
    "    x_test_chi_Bow = selector.transform(X_valid_BoW)\n",
    "\n",
    "    return x_train_chi_Bow, x_test_chi_Bow\n"
   ]
  },
  {
   "cell_type": "code",
   "execution_count": 22,
   "metadata": {},
   "outputs": [],
   "source": [
    "\n",
    "def Tfidf_f(k_value, X_train_tfidf,X_valid_tfidf):\n",
    "    selector = SelectKBest(f_classif,k=k_value)\n",
    "    x_train_f_Tfidf = selector.fit_transform(X_train_tfidf ,y_train)\n",
    "    x_test_f_Tfidf = selector.transform(X_valid_tfidf)\n",
    "\n",
    "    return x_train_f_Tfidf , x_test_f_Tfidf\n",
    "    \n",
    "def BoW_f(k_value, X_train_BoW,X_valid_BoW ):\n",
    "    selector = SelectKBest(f_classif,k=k_value)\n",
    "    x_train_f_Bow = selector.fit_transform(X_train_BoW ,y_train)\n",
    "    x_test_f_Bow = selector.transform(X_valid_BoW)\n",
    "\n",
    "    return x_train_f_Bow, x_test_f_Bow"
   ]
  },
  {
   "cell_type": "code",
   "execution_count": 25,
   "metadata": {},
   "outputs": [],
   "source": [
    "#TFidf vs BoW\n",
    "LR_BoW_chi = []\n",
    "LR_tfidf_chi = []\n",
    "SVM_BoW_chi = []\n",
    "SVM_tfidf_chi = []\n",
    "NB_BoW_chi = []\n",
    "NB_tfidf_chi = []\n",
    "RF_BoW_chi = []\n",
    "RF_tfidf_chi = []\n",
    "for k in range(200,3000,200):\n",
    "    x_train_chi_Bow, x_test_chi_Bow = BoW_chi(k, X_train_BoW_12, X_valid_BoW_12)\n",
    "    x_train_chi_Tfidf , x_test_chi_Tfidf = Tfidf_chi(k, X_train_tfidf_12,X_valid_tfidf_12)\n",
    "    lr1 = LogisticRegression(max_iter=2000).fit(x_train_chi_Bow, y_train)\n",
    "    LR1_acc = np.mean(cross_val_score(lr1,x_test_chi_Bow,y_valid,cv = 5))\n",
    "    LR_BoW_chi.append(LR1_acc)\n",
    "    lr2 = LogisticRegression(max_iter=2000).fit(x_train_chi_Tfidf, y_train)\n",
    "    LR2_acc = np.mean(cross_val_score(lr2,x_test_chi_Tfidf,y_valid,cv = 5))\n",
    "    LR_tfidf_chi.append(LR2_acc)\n",
    "    clf1 = SVC().fit(x_train_chi_Bow, y_train)\n",
    "    clf1_acc = np.mean(cross_val_score(clf1,x_test_chi_Bow,y_valid,cv = 5))\n",
    "    SVM_BoW_chi.append(clf1_acc)\n",
    "    clf2 = SVC().fit(x_train_chi_Tfidf, y_train)\n",
    "    clf2_acc = np.mean(cross_val_score(clf2,x_test_chi_Tfidf,y_valid,cv = 5))\n",
    "    SVM_tfidf_chi.append(clf2_acc)\n",
    "    nb1 = MultinomialNB().fit(x_train_chi_Bow, y_train)\n",
    "    nb1_acc = np.mean(cross_val_score(nb1,x_test_chi_Bow,y_valid,cv = 5))\n",
    "    NB_BoW_chi.append(nb1_acc)\n",
    "    nb2 = MultinomialNB().fit(x_train_chi_Tfidf, y_train)\n",
    "    nb2_acc = np.mean(cross_val_score(nb2,x_test_chi_Tfidf,y_valid,cv = 5))\n",
    "    NB_tfidf_chi.append(nb2_acc)\n",
    "    rf1 = RandomForestClassifier().fit(x_train_chi_Bow, y_train)\n",
    "    rf1_acc = np.mean(cross_val_score(rf1,x_test_chi_Bow,y_valid,cv = 5))\n",
    "    RF_BoW_chi.append(rf1_acc)\n",
    "    rf2 = RandomForestClassifier().fit(x_train_chi_Tfidf, y_train)\n",
    "    rf2_acc = np.mean(cross_val_score(rf2,x_test_chi_Tfidf,y_valid,cv = 5))\n",
    "    RF_tfidf_chi.append(rf2_acc)\n"
   ]
  },
  {
   "cell_type": "code",
   "execution_count": null,
   "metadata": {},
   "outputs": [],
   "source": [
    "#TFidf vs BoW\n",
    "LR_BoW_f = []\n",
    "LR_tfidf_f = []\n",
    "SVM_BoW_f = []\n",
    "SVM_tfidf_f = []\n",
    "NB_BoW_f = []\n",
    "NB_tfidf_f = []\n",
    "RF_BoW_f = []\n",
    "RF_tfidf_f = []\n",
    "for k in range(100,2000,200):\n",
    "    x_train_f_Bow, x_test_f_Bow = BoW_f(k, X_train_BoW_12, X_valid_BoW_12)\n",
    "    x_train_f_Tfidf , x_test_f_Tfidf = Tfidf_f(k, X_train_tfidf_12,X_valid_tfidf_12)\n",
    "    lr1 = LogisticRegression(max_iter=2000).fit(x_train_f_Bow, y_train)\n",
    "    LR1_acc = np.mean(cross_val_score(lr1,x_test_f_Bow,y_valid,cv = 5))\n",
    "    LR_BoW_f.append(LR1_acc)\n",
    "    lr2 = LogisticRegression(max_iter=2000).fit(x_train_f_Tfidf, y_train)\n",
    "    LR2_acc = np.mean(cross_val_score(lr2,x_test_f_Tfidf,y_valid,cv = 5))\n",
    "    LR_tfidf_f.append(LR2_acc)\n",
    "    clf1 = SVC().fit(x_train_f_Bow, y_train)\n",
    "    clf1_acc = np.mean(cross_val_score(clf1,x_test_f_Bow,y_valid,cv = 5))\n",
    "    SVM_BoW_f.append(clf1_acc)\n",
    "    clf2 = SVC().fit(x_train_f_Tfidf, y_train)\n",
    "    clf2_acc = np.mean(cross_val_score(clf2,x_test_f_Tfidf,y_valid,cv = 5))\n",
    "    SVM_tfidf_f.append(clf2_acc)\n",
    "    nb1 = MultinomialNB().fit(x_train_f_Bow, y_train)\n",
    "    nb1_acc = np.mean(cross_val_score(nb1,x_test_f_Bow,y_valid,cv = 5))\n",
    "    NB_BoW_f.append(nb1_acc)\n",
    "    nb2 = MultinomialNB().fit(x_train_f_Tfidf, y_train)\n",
    "    nb2_acc = np.mean(cross_val_score(nb2,x_test_f_Tfidf,y_valid,cv = 5))\n",
    "    NB_tfidf_f.append(nb2_acc)\n",
    "    rf1 = RandomForestClassifier().fit(x_train_f_Bow, y_train)\n",
    "    rf1_acc = np.mean(cross_val_score(rf1,x_test_f_Bow,y_valid,cv = 5))\n",
    "    RF_BoW_f.append(rf1_acc)\n",
    "    rf2 = RandomForestClassifier().fit(x_train_f_Tfidf, y_train)\n",
    "    rf2_acc = np.mean(cross_val_score(rf2,x_test_f_Tfidf,y_valid,cv = 5))\n",
    "    RF_tfidf_f.append(rf2_acc)"
   ]
  },
  {
   "cell_type": "code",
   "execution_count": 215,
   "metadata": {},
   "outputs": [
    {
     "data": {
      "text/plain": [
       "<matplotlib.legend.Legend at 0x7f7c24f010d0>"
      ]
     },
     "execution_count": 215,
     "metadata": {},
     "output_type": "execute_result"
    },
    {
     "data": {
      "image/png": "[encoded data removed]",
      "text/plain": [
       "<Figure size 432x288 with 1 Axes>"
      ]
     },
     "metadata": {
      "needs_background": "light"
     },
     "output_type": "display_data"
    }
   ],
   "source": [
    "#for chi\n",
    "x = np.arange(1000,6000,1000)\n",
    "y1 = np.array(LR_BoW_chi )\n",
    "y2 = np.array(LR_tfidf_chi)\n",
    "y3 = np.array(SVM_BoW_chi) \n",
    "y4 = np.array(SVM_tfidf_chi)\n",
    "y5 = np.array(NB_BoW_chi )\n",
    "y6 = np.array(NB_tfidf_chi)\n",
    "y7 = np.array(RF_BoW_chi )\n",
    "y8 = np.array(RF_tfidf_chi)\n",
    "plt.plot(x, y1) \n",
    "plt.plot(x, y2)\n",
    "plt.plot(x, y3)\n",
    "plt.plot(x, y4) \n",
    "plt.plot(x, y5)\n",
    "plt.plot(x, y6)\n",
    "plt.plot(x, y7)\n",
    "plt.plot(x, y8)\n",
    "\n",
    "plt.xlabel(\"K Value\") \n",
    "plt.ylabel(\"Accuracy rate\") \n",
    "plt.title('BoW VS TF-idf')\n",
    "plt.legend(['LR_BoW','LR_TFidf', 'SVM_BoW', 'SVM_TFidf', 'NB_BoW', 'NB_TFidf','RF_BoW','RF_TFidf'],bbox_to_anchor=(1, 0.60))"
   ]
  },
  {
   "cell_type": "code",
   "execution_count": 203,
   "metadata": {},
   "outputs": [
    {
     "data": {
      "text/plain": [
       "<matplotlib.legend.Legend at 0x7f7b876bc820>"
      ]
     },
     "execution_count": 203,
     "metadata": {},
     "output_type": "execute_result"
    },
    {
     "data": {
      "image/png": "[encoded data removed]",
      "text/plain": [
       "<Figure size 432x288 with 1 Axes>"
      ]
     },
     "metadata": {
      "needs_background": "light"
     },
     "output_type": "display_data"
    }
   ],
   "source": [
    "#for f\n",
    "x = np.arange(200,3000,200)\n",
    "y1 = np.array(LR_BoW_f )\n",
    "y2 = np.array(LR_tfidf_f)\n",
    "y3 = np.array(SVM_BoW_f )\n",
    "y4 = np.array(SVM_tfidf_f)\n",
    "y5 = np.array(NB_BoW_f )\n",
    "y6 = np.array(NB_tfidf_f)\n",
    "y7 = np.array(RF_BoW_f )\n",
    "y8 = np.array(RF_tfidf_f)\n",
    "plt.plot(x, y1) \n",
    "plt.plot(x, y2)\n",
    "plt.plot(x, y3)\n",
    "plt.plot(x, y4) \n",
    "plt.plot(x, y5)\n",
    "plt.plot(x, y6)\n",
    "plt.plot(x, y7)\n",
    "plt.plot(x, y8)\n",
    "\n",
    "plt.xlabel(\"K Value\") \n",
    "plt.ylabel(\"Accuracy rate\") \n",
    "plt.title('BoW VS TF-idf')\n",
    "plt.legend(['LR_BoW','LR_TFidf', 'SVM_BoW', 'SVM_TFidf', 'NB_BoW', 'NB_TFidf','RF_BoW','RF_TFidf'],bbox_to_anchor=(1, 0.60))"
   ]
  },
  {
   "cell_type": "markdown",
   "metadata": {},
   "source": [
    "**By obsverving the plots, K = 400 and BoW has the best perfermence.**"
   ]
  },
  {
   "cell_type": "markdown",
   "metadata": {},
   "source": [
    "# Models"
   ]
  },
  {
   "cell_type": "markdown",
   "metadata": {},
   "source": [
    "### Model: Print results\n",
    " "
   ]
  },
  {
   "cell_type": "code",
   "execution_count": 43,
   "metadata": {},
   "outputs": [],
   "source": [
    "#This function print the result of models\n",
    "x_train_chi, x_valid_chi = chi(400)\n",
    "x_train_f, x_valid_f = fscore(400)\n",
    "\n",
    "def print_result(model, x_train, x_test):\n",
    "    y_train_predicted = model.predict(x_train)\n",
    "    ta = np.mean(y_train_predicted == y_train)\n",
    "    print(\"training accuracy \", ta)\n",
    "    va = np.mean(cross_val_score(model,x_test,y_valid,cv = 5))\n",
    "    print('validation accuracy: ' ,va)\n",
    "    #y_predicted = model.predict(x_test)\n",
    "    pa = model.score(x_test, y_valid)\n",
    "    print('prediction accuracy: ', pa)\n",
    "\n",
    "    y_pred = model.predict(x_test)\n",
    "    M_precision = precision_score(y_valid, y_pred, average=\"macro\")\n",
    "    print('Macro Precision: %f ' % M_precision)\n",
    "    M_recall = recall_score(y_valid, y_pred, average=\"macro\")\n",
    "    print('Macro Recall: %f ' % M_recall)\n",
    "    M_f1 = f1_score(y_valid, y_pred, average=\"macro\")\n",
    "    print('Macro F1 score: %f ' % M_f1)\n",
    "\n",
    "    W_precision = precision_score(y_valid, y_pred, average=\"weighted\")\n",
    "    print('Weighted Precision: %f ' % W_precision)\n",
    "    W_recall = recall_score(y_valid, y_pred, average=\"weighted\")\n",
    "    print('Weighted Recall: %f ' % W_recall)\n",
    "    W_f1 = f1_score(y_valid, y_pred, average=\"weighted\")\n",
    "    print('Weighted F1 score: %f ' % W_f1)\n",
    "    cm = confusion_matrix(y_valid, y_pred, labels =model.classes_)\n",
    "    disp =ConfusionMatrixDisplay(confusion_matrix = cm, display_labels =model.classes_ )\n",
    "    disp.plot()\n",
    "\n",
    "    return ta,va,pa,M_precision,M_recall,M_f1,W_precision,W_recall,W_f1\n",
    "\n",
    "ta_chi = []\n",
    "va_chi = []\n",
    "pa_chi = []\n",
    "M_precision_chi = []\n",
    "M_recall_chi = []\n",
    "M_f1_chi = []\n",
    "W_precision_chi = []\n",
    "W_recall_chi = []\n",
    "W_f1_chi = []\n",
    "time_chi = []\n",
    "\n",
    "ta_f = []\n",
    "va_f = []\n",
    "pa_f = []\n",
    "M_precision_f = []\n",
    "M_recall_f = []\n",
    "M_f1_f = []\n",
    "W_precision_f = []\n",
    "W_recall_f = []\n",
    "W_f1_f = []\n",
    "time_f = []"
   ]
  },
  {
   "cell_type": "markdown",
   "metadata": {},
   "source": [
    "### Model: Zero-R"
   ]
  },
  {
   "cell_type": "code",
   "execution_count": 44,
   "metadata": {},
   "outputs": [
    {
     "name": "stdout",
     "output_type": "stream",
     "text": [
      "Excution time of Logtistic Regression classifier: 0.003s\n",
      "\n",
      "training accuracy  0.578964133273874\n",
      "validation accuracy:  0.5849303849303849\n",
      "prediction accuracy:  0.584930384930385\n",
      "Macro Precision: 0.194977 \n",
      "Macro Recall: 0.333333 \n",
      "Macro F1 score: 0.246038 \n",
      "Weighted Precision: 0.342144 \n",
      "Weighted Recall: 0.584930 \n",
      "Weighted F1 score: 0.431746 \n"
     ]
    },
    {
     "name": "stderr",
     "output_type": "stream",
     "text": [
      "C:\\Users\\Lingpeng\\AppData\\Roaming\\Python\\Python310\\site-packages\\sklearn\\metrics\\_classification.py:1318: UndefinedMetricWarning: Precision is ill-defined and being set to 0.0 in labels with no predicted samples. Use `zero_division` parameter to control this behavior.\n",
      "  _warn_prf(average, modifier, msg_start, len(result))\n",
      "C:\\Users\\Lingpeng\\AppData\\Roaming\\Python\\Python310\\site-packages\\sklearn\\metrics\\_classification.py:1318: UndefinedMetricWarning: Precision is ill-defined and being set to 0.0 in labels with no predicted samples. Use `zero_division` parameter to control this behavior.\n",
      "  _warn_prf(average, modifier, msg_start, len(result))\n"
     ]
    },
    {
     "data": {
      "image/png": "[encoded data removed]",
      "text/plain": [
       "<Figure size 432x288 with 2 Axes>"
      ]
     },
     "metadata": {
      "needs_background": "light"
     },
     "output_type": "display_data"
    }
   ],
   "source": [
    "#chi\n",
    "x_train_chi, x_valid_chi = chi(400)\n",
    "clf_0R = DummyClassifier(strategy= 'most_frequent')\n",
    "\n",
    "t0 = time.time()\n",
    "model_chi = clf_0R.fit(x_train_chi,y_train)\n",
    "t1 = time.time()-t0\n",
    "print(\"Excution time of Logtistic Regression classifier: {}s\\n\". format(round(t1,3)))\n",
    "\n",
    "model_chi.score(x_valid_chi,y_valid)\n",
    "ta_chi_base,va_chi_base,pa_chi_base,M_precision_chi_base,M_recall_chi_base,M_f1_chi_base,W_precision_chi_base,W_recall_chi_base,W_f1_chi_base = print_result(model_chi, x_train_chi,x_valid_chi)\n",
    "ta_chi.append(ta_chi_base)\n",
    "va_chi.append(va_chi_base)\n",
    "pa_chi.append(pa_chi_base)\n",
    "M_precision_chi.append(M_precision_chi_base)\n",
    "M_recall_chi.append(M_recall_chi_base)\n",
    "M_f1_chi.append(M_f1_chi_base)\n",
    "W_precision_chi.append(W_precision_chi_base)\n",
    "W_recall_chi.append(W_recall_chi_base)\n",
    "W_f1_chi.append(W_f1_chi_base)\n",
    "time_chi.append(t1)"
   ]
  },
  {
   "cell_type": "code",
   "execution_count": 45,
   "metadata": {},
   "outputs": [
    {
     "name": "stdout",
     "output_type": "stream",
     "text": [
      "Excution time of Logtistic Regression classifier: 0.005s\n",
      "\n",
      "training accuracy  0.578964133273874\n",
      "validation accuracy:  0.5849303849303849\n",
      "prediction accuracy:  0.584930384930385\n",
      "Macro Precision: 0.194977 \n",
      "Macro Recall: 0.333333 \n",
      "Macro F1 score: 0.246038 \n",
      "Weighted Precision: 0.342144 \n",
      "Weighted Recall: 0.584930 \n",
      "Weighted F1 score: 0.431746 \n"
     ]
    },
    {
     "name": "stderr",
     "output_type": "stream",
     "text": [
      "C:\\Users\\Lingpeng\\AppData\\Roaming\\Python\\Python310\\site-packages\\sklearn\\metrics\\_classification.py:1318: UndefinedMetricWarning: Precision is ill-defined and being set to 0.0 in labels with no predicted samples. Use `zero_division` parameter to control this behavior.\n",
      "  _warn_prf(average, modifier, msg_start, len(result))\n",
      "C:\\Users\\Lingpeng\\AppData\\Roaming\\Python\\Python310\\site-packages\\sklearn\\metrics\\_classification.py:1318: UndefinedMetricWarning: Precision is ill-defined and being set to 0.0 in labels with no predicted samples. Use `zero_division` parameter to control this behavior.\n",
      "  _warn_prf(average, modifier, msg_start, len(result))\n"
     ]
    },
    {
     "data": {
      "image/png": "[encoded data removed]",
      "text/plain": [
       "<Figure size 432x288 with 2 Axes>"
      ]
     },
     "metadata": {
      "needs_background": "light"
     },
     "output_type": "display_data"
    }
   ],
   "source": [
    "#f\n",
    "x_train_f, x_valid_f = chi(400)\n",
    "clf_0R = DummyClassifier(strategy= 'most_frequent')\n",
    "\n",
    "t0 = time.time()\n",
    "model_f = clf_0R.fit(x_train_chi,y_train)\n",
    "t1 = time.time()-t0\n",
    "print(\"Excution time of Logtistic Regression classifier: {}s\\n\". format(round(t1,3)))\n",
    "\n",
    "model_f.score(x_valid_f,y_valid)\n",
    "ta_f_base,va_f_base,pa_f_base,M_precision_f_base,M_recall_f_base,M_f1_f_base,W_precision_f_base,W_recall_f_base,W_f1_f_base = print_result(model_f, x_train_f,x_valid_f)\n",
    "ta_f.append(ta_f_base)\n",
    "va_f.append(va_f_base)\n",
    "pa_f.append(pa_f_base)\n",
    "M_precision_f.append(M_precision_f_base)\n",
    "M_recall_f.append(M_recall_f_base)\n",
    "M_f1_f.append(M_f1_f_base)\n",
    "W_precision_f.append(W_precision_f_base)\n",
    "W_recall_f.append(W_recall_f_base)\n",
    "W_f1_f.append(W_f1_f_base)\n",
    "time_f.append(t1)"
   ]
  },
  {
   "cell_type": "markdown",
   "metadata": {},
   "source": [
    "### Model: Logistic Regression"
   ]
  },
  {
   "cell_type": "code",
   "execution_count": 31,
   "metadata": {},
   "outputs": [],
   "source": [
    "\n",
    "#Set K = 400\n",
    "x_train_chi_LR, x_test_chi_LR = chi(400)\n",
    "\n",
    "def gs_LogisticRegression(x_train):\n",
    "    parameters_LR = {'solver':('newton-cg','lbfgs','sag','saga'),'C':np.arange(0.1,2.5,0.2),'multi_class':('auto','ovr','multinomial')}\n",
    "    LR = LogisticRegression(max_iter=2000)\n",
    "    gs = GridSearchCV(LR,parameters_LR)\n",
    "    gs.fit(x_train,y_train)\n",
    "\n",
    "    return gs.best_estimator_, gs.best_score_\n",
    "\n",
    "\n",
    "best_estimator_LR, best_score_LR = gs_LogisticRegression(x_train_chi_LR)\n"
   ]
  },
  {
   "cell_type": "code",
   "execution_count": 32,
   "metadata": {},
   "outputs": [
    {
     "name": "stdout",
     "output_type": "stream",
     "text": [
      "The best estimators are: LogisticRegression(C=2.1000000000000005, max_iter=2000, solver='saga')\n",
      "The best score is: 0.6761804136576418\n"
     ]
    }
   ],
   "source": [
    "print(f\"The best estimators are: {best_estimator_LR}\")\n",
    "print(f\"The best score is: {best_score_LR}\")"
   ]
  },
  {
   "cell_type": "code",
   "execution_count": 46,
   "metadata": {},
   "outputs": [],
   "source": [
    "#C, solver, multi_class, penalty, max_iter\n",
    "def logistic_regression(k_value, c_value):\n",
    "    \n",
    "    x_train_chi_final_LR, x_test_chi_final_LR = chi(k_value)\n",
    "    #newton-cg's acc is as same as other solvers, e.g. saga\n",
    "    LR = LogisticRegression(solver= 'saga', C = c_value, max_iter = 2000).fit(x_train_chi_final_LR, y_train)\n",
    "    y_train_predicted = LR.predict(x_train_chi_final_LR)\n",
    "    #print(\"training accuracy \", np.mean(y_train_predicted == y_train))\n",
    "    LR_acc = np.mean(cross_val_score(LR,x_test_chi_final_LR,y_valid,cv = 5))\n",
    "    #print('validation accuracy: ' ,LR_acc)\n",
    "    # y_predicted = LR.predict(x_test_chi)\n",
    "    #print('prediction accuracy: ',LR.score(x_test_chi_final, y_valid))\n",
    "\n",
    "    return np.mean(y_train_predicted == y_train), LR_acc, LR.score(x_test_chi_final_LR, y_valid)\n",
    "\n",
    "#ta_LR, va_LR, pa_LR = logistic_regression(400, 1)"
   ]
  },
  {
   "cell_type": "markdown",
   "metadata": {},
   "source": [
    "**By observing the plots, K = 400**"
   ]
  },
  {
   "cell_type": "code",
   "execution_count": 36,
   "metadata": {},
   "outputs": [
    {
     "data": {
      "image/png": "[encoded data removed]",
      "text/plain": [
       "<Figure size 432x288 with 1 Axes>"
      ]
     },
     "metadata": {
      "needs_background": "light"
     },
     "output_type": "display_data"
    }
   ],
   "source": [
    "#Accuracy when K = 400\n",
    "training_accuracy_list_LR = []\n",
    "validation_accuracy_list_LR = []\n",
    "prediction_accuracy_list_LR = []\n",
    "\n",
    "\n",
    "for i in range(1,26,1):\n",
    "    ta, va, pa = logistic_regression(400, i/10)\n",
    "    training_accuracy_list_LR.append(ta)\n",
    "    validation_accuracy_list_LR.append(va)\n",
    "    prediction_accuracy_list_LR.append(pa)\n",
    "\n",
    "x = np.arange(0.1,2.6,0.1) \n",
    "y1 = np.array(training_accuracy_list_LR)\n",
    "y2 = np.array(validation_accuracy_list_LR)\n",
    "y3 = np.array(prediction_accuracy_list_LR)\n",
    "\n",
    "# PLot\n",
    "plt.plot(x, y1) \n",
    "plt.plot(x, y2)\n",
    "plt.plot(x, y3)\n",
    "# Add Title\n",
    "plt.title(\"Logistic Regression Accuracy (BoW)\") \n",
    "# Add Axes Labels and legend\n",
    "plt.xlabel(\"C Value\") \n",
    "plt.ylabel(\"Accuracy rate\") \n",
    "plt.legend(['Training accuracy','Validation accuracy', 'Prediction accuracy'])\n",
    "# Display\n",
    "plt.show()"
   ]
  },
  {
   "cell_type": "markdown",
   "metadata": {},
   "source": [
    "**C = 1.4 => Highest validation accuracy**\n",
    "\n",
    "**C = 2.1 => Highest prefiction accuracy**"
   ]
  },
  {
   "cell_type": "code",
   "execution_count": 37,
   "metadata": {},
   "outputs": [
    {
     "data": {
      "image/png": "[encoded data removed]",
      "text/plain": [
       "<Figure size 432x288 with 1 Axes>"
      ]
     },
     "metadata": {
      "needs_background": "light"
     },
     "output_type": "display_data"
    }
   ],
   "source": [
    "#Accuracy when c = 1.4\n",
    "training_accuracy_list_LR = []\n",
    "validation_accuracy_list_LR = []\n",
    "prediction_accuracy_list_LR = []\n",
    "\n",
    "\n",
    "for i in range(100,1600,100):\n",
    "    ta, va, pa = logistic_regression(i,1.4)\n",
    "    training_accuracy_list_LR.append(ta)\n",
    "    validation_accuracy_list_LR.append(va)\n",
    "    prediction_accuracy_list_LR.append(pa)\n",
    "\n",
    "x = np.arange(100,1600,100) \n",
    "y1 = np.array(training_accuracy_list_LR)\n",
    "y2 = np.array(validation_accuracy_list_LR)\n",
    "y3 = np.array(prediction_accuracy_list_LR)\n",
    "# PLot\n",
    "plt.plot(x, y1) \n",
    "plt.plot(x, y2)\n",
    "plt.plot(x, y3)\n",
    "# Add Title\n",
    "plt.title(\"Logistic Regression Accuracy (BoW)\") \n",
    "\n",
    "# Add Axes Labels and legend\n",
    "plt.xlabel(\"K Value\") \n",
    "plt.ylabel(\"Accuracy rate\") \n",
    "plt.legend(['Training accuracy','Validation accuracy', 'Prediction accuracy'])\n",
    "# Display\n",
    "plt.show()"
   ]
  },
  {
   "cell_type": "code",
   "execution_count": 47,
   "metadata": {},
   "outputs": [
    {
     "name": "stdout",
     "output_type": "stream",
     "text": [
      "Excution time of Logtistic Regression classifier: 0.265 s\n",
      "\n",
      "training accuracy  0.695865451997197\n",
      "validation accuracy:  0.6665028665028665\n",
      "prediction accuracy:  0.6701064701064701\n",
      "Macro Precision: 0.651511 \n",
      "Macro Recall: 0.540452 \n",
      "Macro F1 score: 0.568480 \n",
      "Weighted Precision: 0.665460 \n",
      "Weighted Recall: 0.670106 \n",
      "Weighted F1 score: 0.646076 \n"
     ]
    },
    {
     "data": {
      "image/png": "[encoded data removed]",
      "text/plain": [
       "<Figure size 432x288 with 2 Axes>"
      ]
     },
     "metadata": {
      "needs_background": "light"
     },
     "output_type": "display_data"
    }
   ],
   "source": [
    "#Finla model: K = 400, c = 1.4\n",
    "#chi\n",
    "x_train_chi, x_valid_chi = chi(400)\n",
    "\n",
    "t0 = time.time()\n",
    "LR_final_chi = LogisticRegression(solver= 'saga', C = 1.4, max_iter = 2000).fit(x_train_chi, y_train)\n",
    "t1 = time.time()-t0\n",
    "print(\"Excution time of Logtistic Regression classifier: {} s\\n\". format(round(t1,3)))\n",
    "\n",
    "ta_chi_LR,va_chi_LR,pa_chi_LR,M_precision_chi_LR,M_recall_chi_LR,M_f1_chi_LR,W_precision_chi_LR,W_recall_chi_LR,W_f1_chi_LR = print_result(LR_final_chi, x_train_chi, x_valid_chi)\n",
    "ta_chi.append(ta_chi_LR)\n",
    "va_chi.append(va_chi_LR)\n",
    "pa_chi.append(pa_chi_LR)\n",
    "M_precision_chi.append(M_precision_chi_LR)\n",
    "M_recall_chi.append(M_recall_chi_LR)\n",
    "M_f1_chi.append(M_f1_chi_LR)\n",
    "W_precision_chi.append(W_precision_chi_LR)\n",
    "W_recall_chi.append(W_recall_chi_LR)\n",
    "W_f1_chi.append(W_f1_chi_LR)\n",
    "time_chi.append(t1)"
   ]
  },
  {
   "cell_type": "code",
   "execution_count": 48,
   "metadata": {},
   "outputs": [
    {
     "name": "stdout",
     "output_type": "stream",
     "text": [
      "Excution time of Logtistic Regression classifier: 0.275s\n",
      "\n",
      "training accuracy  0.6982862967446009\n",
      "validation accuracy:  0.6663390663390663\n",
      "prediction accuracy:  0.6710892710892711\n",
      "Macro Precision: 0.652429 \n",
      "Macro Recall: 0.544082 \n",
      "Macro F1 score: 0.572214 \n",
      "Weighted Precision: 0.666459 \n",
      "Weighted Recall: 0.671089 \n",
      "Weighted F1 score: 0.648128 \n"
     ]
    },
    {
     "data": {
      "image/png": "[encoded data removed]",
      "text/plain": [
       "<Figure size 432x288 with 2 Axes>"
      ]
     },
     "metadata": {
      "needs_background": "light"
     },
     "output_type": "display_data"
    }
   ],
   "source": [
    "#fscore\n",
    "x_train_f, x_valid_f = fscore(400)\n",
    "\n",
    "t0 = time.time()\n",
    "LR_final_f = LogisticRegression(solver= 'saga', C = 1.4, max_iter = 2000).fit(x_train_f, y_train)\n",
    "t1 = time.time()-t0\n",
    "print(\"Excution time of Logtistic Regression classifier: {}s\\n\". format(round(t1,3)))\n",
    "\n",
    "ta_f_LR,va_f_LR,pa_f_LR,M_precision_f_LR,M_recall_f_LR,M_f1_f_LR,W_precision_f_LR,W_recall_f_LR,W_f1_f_LR = print_result(LR_final_f, x_train_f, x_valid_f)\n",
    "ta_f.append(ta_f_LR)\n",
    "va_f.append(va_f_LR)\n",
    "pa_f.append(pa_f_LR)\n",
    "M_precision_f.append(M_precision_f_LR)\n",
    "M_recall_f.append(M_recall_f_LR)\n",
    "M_f1_f.append(M_f1_f_LR)\n",
    "W_precision_f.append(W_precision_f_LR)\n",
    "W_recall_f.append(W_recall_f_LR)\n",
    "W_f1_f.append(W_f1_f_LR)\n",
    "time_f.append(t1)"
   ]
  },
  {
   "cell_type": "markdown",
   "metadata": {},
   "source": [
    "### Model: SVM\n",
    "\n"
   ]
  },
  {
   "cell_type": "code",
   "execution_count": null,
   "metadata": {},
   "outputs": [],
   "source": [
    "parameters_svc = {\"kernel\":('linear', 'poly', 'rbf', 'sigmoid'), \"decision_function_shape\":('ovo','ovr'), 'C':np.arange(0.1,2.5,0.3)}\n",
    "gs_svc = GridSearchCV(SVC(), param_grid = parameters_svc)  \n",
    "gs_svc.fit(x_train_chi, y_train)"
   ]
  },
  {
   "cell_type": "code",
   "execution_count": 31,
   "metadata": {},
   "outputs": [
    {
     "name": "stdout",
     "output_type": "stream",
     "text": [
      "{'C': 1.0000000000000002, 'gamma': 1e-06, 'kernel': 'linear'}\n"
     ]
    }
   ],
   "source": [
    "print(gs_svc.best_params_)"
   ]
  },
  {
   "cell_type": "code",
   "execution_count": 49,
   "metadata": {},
   "outputs": [],
   "source": [
    "#C, kernel, degree, gamma, max_iter, decision_function_shape\n",
    "def svc(c_value):\n",
    "    clf = SVC(kernel=\"linear\", C = c_value, decision_function_shape = 'ovo').fit(x_train_chi, y_train)\n",
    "    y_train_predicted = clf.predict(x_train_chi)\n",
    "    #print(\"training accuracy \", np.mean(y_train_predicted == y_train))\n",
    "    clf_va = np.mean(cross_val_score(clf,x_valid_chi,y_valid,cv = 5))\n",
    "    #print('validation accuracy: ' ,clf_va)\n",
    "    # y_predicted = LR.predict(x_test_chi)\n",
    "    #print('prediction accuracy: ',clf.score(x_test_chi_SVM, y_valid))\n",
    "\n",
    "    return np.mean(y_train_predicted == y_train), clf_va, clf.score(x_valid_chi, y_valid)"
   ]
  },
  {
   "cell_type": "code",
   "execution_count": 42,
   "metadata": {},
   "outputs": [
    {
     "data": {
      "image/png": "[encoded data removed]",
      "text/plain": [
       "<Figure size 432x288 with 1 Axes>"
      ]
     },
     "metadata": {
      "needs_background": "light"
     },
     "output_type": "display_data"
    }
   ],
   "source": [
    "#Accuracy when K = 400\n",
    "training_accuracy_list_SVM = []\n",
    "validation_accuracy_list_SVM = []\n",
    "prediction_accuracy_list_SVM = []\n",
    "\n",
    "\n",
    "for i in range(1,25,3):\n",
    "    ta, va, pa = svc(i/10)\n",
    "    training_accuracy_list_SVM.append(ta)\n",
    "    validation_accuracy_list_SVM.append(va)\n",
    "    prediction_accuracy_list_SVM.append(pa)\n",
    "\n",
    "x = np.arange(0.1,2.5,0.3) \n",
    "y1 = np.array(training_accuracy_list_SVM)\n",
    "y2 = np.array(validation_accuracy_list_SVM)\n",
    "y3 = np.array(prediction_accuracy_list_SVM)\n",
    "# PLot\n",
    "plt.plot(x, y1) \n",
    "plt.plot(x, y2)\n",
    "plt.plot(x, y3)\n",
    "# Add Title\n",
    "plt.title(\"SVM Accuracy (BoW)\") \n",
    "\n",
    "# Add Axes Labels and legend\n",
    "plt.xlabel(\"C Value\") \n",
    "plt.ylabel(\"Accuracy rate\") \n",
    "plt.legend(['Training accuracy','Validation accuracy', 'Prediction accuracy'])\n",
    "# Display\n",
    "plt.show()"
   ]
  },
  {
   "cell_type": "markdown",
   "metadata": {},
   "source": [
    "Highest va: c =0.4\n",
    "\n",
    "Highest pa: c =1.7"
   ]
  },
  {
   "cell_type": "code",
   "execution_count": 50,
   "metadata": {},
   "outputs": [
    {
     "name": "stdout",
     "output_type": "stream",
     "text": [
      "Excution time of SVM classifier: 5.633 s\n",
      "training accuracy  0.6866917245333504\n",
      "validation accuracy:  0.6515970515970517\n",
      "prediction accuracy:  0.6588042588042589\n",
      "Macro Precision: 0.627407 \n",
      "Macro Recall: 0.523475 \n",
      "Macro F1 score: 0.548211 \n",
      "Weighted Precision: 0.649630 \n",
      "Weighted Recall: 0.658804 \n",
      "Weighted F1 score: 0.632546 \n"
     ]
    },
    {
     "data": {
      "image/png": "[encoded data removed]",
      "text/plain": [
       "<Figure size 432x288 with 2 Axes>"
      ]
     },
     "metadata": {
      "needs_background": "light"
     },
     "output_type": "display_data"
    }
   ],
   "source": [
    "#chi\n",
    "x_train_chi, x_valid_chi = chi(400)\n",
    "\n",
    "t0 = time.time()\n",
    "SVM_final_chi = SVC(kernel=\"linear\", C = 0.4, decision_function_shape = 'ovo').fit(x_train_chi, y_train)\n",
    "t1 = time.time()-t0\n",
    "print(\"Excution time of SVM classifier: {} s\". format(round(t1,3)))\n",
    "\n",
    "ta_chi_SVM,va_chi_SVM,pa_chi_SVM,M_precision_chi_SVM,M_recall_chi_SVM,M_f1_chi_SVM,W_precision_chi_SVM,W_recall_chi_SVM,W_f1_chi_SVM = print_result(SVM_final_chi, x_train_chi, x_valid_chi)\n",
    "ta_chi.append(ta_chi_SVM)\n",
    "va_chi.append(va_chi_SVM)\n",
    "pa_chi.append(pa_chi_SVM)\n",
    "M_precision_chi.append(M_precision_chi_SVM)\n",
    "M_recall_chi.append(M_recall_chi_SVM)\n",
    "M_f1_chi.append(M_f1_chi_SVM)\n",
    "W_precision_chi.append(W_precision_chi_SVM)\n",
    "W_recall_chi.append(W_recall_chi_SVM)\n",
    "W_f1_chi.append(W_f1_chi_SVM)\n",
    "time_chi.append(t1)"
   ]
  },
  {
   "cell_type": "code",
   "execution_count": 51,
   "metadata": {},
   "outputs": [
    {
     "name": "stdout",
     "output_type": "stream",
     "text": [
      "Excution time of SVM classifier: 5.505 s\n",
      "training accuracy  0.6876473211441677\n",
      "validation accuracy:  0.6515970515970517\n",
      "prediction accuracy:  0.6565110565110565\n",
      "Macro Precision: 0.622619 \n",
      "Macro Recall: 0.522959 \n",
      "Macro F1 score: 0.547180 \n",
      "Weighted Precision: 0.646399 \n",
      "Weighted Recall: 0.656511 \n",
      "Weighted F1 score: 0.630968 \n"
     ]
    },
    {
     "data": {
      "image/png": "[encoded data removed]",
      "text/plain": [
       "<Figure size 432x288 with 2 Axes>"
      ]
     },
     "metadata": {
      "needs_background": "light"
     },
     "output_type": "display_data"
    }
   ],
   "source": [
    "#f-score\n",
    "x_train_f, x_valid_f = fscore(400)\n",
    "\n",
    "t0 = time.time()\n",
    "SVM_final_f = SVC(kernel=\"linear\", C = 0.4, decision_function_shape = 'ovo').fit(x_train_f, y_train)\n",
    "t1 = time.time()-t0\n",
    "\n",
    "print(\"Excution time of SVM classifier: {} s\". format(round(t1,3)))\n",
    "ta_f_SVM,va_f_SVM,pa_f_SVM,M_precision_f_SVM,M_recall_f_SVM,M_f1_f_SVM,W_precision_f_SVM,W_recall_f_SVM,W_f1_f_SVM = print_result(SVM_final_f, x_train_f, x_valid_f)\n",
    "ta_f.append(ta_f_SVM)\n",
    "va_f.append(va_f_SVM)\n",
    "pa_f.append(pa_f_SVM)\n",
    "M_precision_f.append(M_precision_f_SVM)\n",
    "M_recall_f.append(M_recall_f_SVM)\n",
    "M_f1_f.append(M_f1_f_SVM)\n",
    "W_precision_f.append(W_precision_f_SVM)\n",
    "W_recall_f.append(W_recall_f_SVM)\n",
    "W_f1_f.append(W_f1_f_SVM)\n",
    "time_f.append(t1)"
   ]
  },
  {
   "cell_type": "markdown",
   "metadata": {},
   "source": [
    "### Model: Multi-nominal Naive Bayes"
   ]
  },
  {
   "cell_type": "code",
   "execution_count": 189,
   "metadata": {},
   "outputs": [
    {
     "data": {
      "text/plain": [
       "GridSearchCV(estimator=MultinomialNB(),\n",
       "             param_grid={'alpha': array([1.000e-04, 1.010e-02, 2.010e-02, 3.010e-02, 4.010e-02, 5.010e-02,\n",
       "       6.010e-02, 7.010e-02, 8.010e-02, 9.010e-02, 1.001e-01, 1.101e-01,\n",
       "       1.201e-01, 1.301e-01, 1.401e-01, 1.501e-01, 1.601e-01, 1.701e-01,\n",
       "       1.801e-01, 1.901e-01, 2.001e-01, 2.101e-01, 2.201e-01, 2.301e-01,\n",
       "       2.401e-01, 2.501e-01, 2.601e-01, 2.701e-01, 2.80...\n",
       "       6.001e-01, 6.101e-01, 6.201e-01, 6.301e-01, 6.401e-01, 6.501e-01,\n",
       "       6.601e-01, 6.701e-01, 6.801e-01, 6.901e-01, 7.001e-01, 7.101e-01,\n",
       "       7.201e-01, 7.301e-01, 7.401e-01, 7.501e-01, 7.601e-01, 7.701e-01,\n",
       "       7.801e-01, 7.901e-01, 8.001e-01, 8.101e-01, 8.201e-01, 8.301e-01,\n",
       "       8.401e-01, 8.501e-01, 8.601e-01, 8.701e-01, 8.801e-01, 8.901e-01,\n",
       "       9.001e-01, 9.101e-01, 9.201e-01, 9.301e-01, 9.401e-01, 9.501e-01,\n",
       "       9.601e-01, 9.701e-01, 9.801e-01, 9.901e-01])})"
      ]
     },
     "execution_count": 189,
     "metadata": {},
     "output_type": "execute_result"
    }
   ],
   "source": [
    "parameters_MNB = {\"alpha\":( np.arange(0.0001,1,0.01))}\n",
    "gs_MNB = GridSearchCV(MultinomialNB(), param_grid = parameters_MNB)  \n",
    "gs_MNB.fit(x_train_chi, y_train)"
   ]
  },
  {
   "cell_type": "code",
   "execution_count": 190,
   "metadata": {},
   "outputs": [
    {
     "data": {
      "text/plain": [
       "MultinomialNB(alpha=0.7501)"
      ]
     },
     "execution_count": 190,
     "metadata": {},
     "output_type": "execute_result"
    }
   ],
   "source": [
    "gs_MNB.best_estimator_"
   ]
  },
  {
   "cell_type": "code",
   "execution_count": 52,
   "metadata": {},
   "outputs": [
    {
     "name": "stdout",
     "output_type": "stream",
     "text": [
      "Excution time of Multi-nominal Naive Bayes classifier: 0.014 s\n",
      "training accuracy  0.67235777537109\n",
      "validation accuracy:  0.6465192465192466\n",
      "prediction accuracy:  0.6515970515970516\n",
      "Macro Precision: 0.612864 \n",
      "Macro Recall: 0.562455 \n",
      "Macro F1 score: 0.579800 \n",
      "Weighted Precision: 0.644554 \n",
      "Weighted Recall: 0.651597 \n",
      "Weighted F1 score: 0.641032 \n"
     ]
    },
    {
     "data": {
      "image/png": "[encoded data removed]",
      "text/plain": [
       "<Figure size 432x288 with 2 Axes>"
      ]
     },
     "metadata": {
      "needs_background": "light"
     },
     "output_type": "display_data"
    }
   ],
   "source": [
    "x_train_chi, x_valid_chi = chi(400)\n",
    "\n",
    "t0 = time.time()\n",
    "MNB_final_chi = MultinomialNB(alpha = 0.75).fit(x_train_chi, y_train)\n",
    "t1 = time.time()-t0\n",
    "print(\"Excution time of Multi-nominal Naive Bayes classifier: {} s\". format(round(t1,3)))\n",
    "\n",
    "ta_chi_MNB,va_chi_MNB,pa_chi_MNB,M_precision_chi_MNB,M_recall_chi_MNB,M_f1_chi_MNB,W_precision_chi_MNB,W_recall_chi_MNB,W_f1_chi_MNB = print_result(MNB_final_chi, x_train_chi, x_valid_chi)\n",
    "ta_chi.append(ta_chi_MNB)\n",
    "va_chi.append(va_chi_MNB)\n",
    "pa_chi.append(pa_chi_MNB)\n",
    "M_precision_chi.append(M_precision_chi_MNB)\n",
    "M_recall_chi.append(M_recall_chi_MNB)\n",
    "M_f1_chi.append(M_f1_chi_MNB)\n",
    "W_precision_chi.append(W_precision_chi_MNB)\n",
    "W_recall_chi.append(W_recall_chi_MNB)\n",
    "W_f1_chi.append(W_f1_chi_MNB)\n",
    "time_chi.append(t1)"
   ]
  },
  {
   "cell_type": "code",
   "execution_count": 53,
   "metadata": {},
   "outputs": [
    {
     "name": "stdout",
     "output_type": "stream",
     "text": [
      "Excution time of Multi-nominal Naive Bayes classifier: 0.011 s\n",
      "training accuracy  0.6736319041855131\n",
      "validation accuracy:  0.6465192465192464\n",
      "prediction accuracy:  0.650941850941851\n",
      "Macro Precision: 0.611894 \n",
      "Macro Recall: 0.564414 \n",
      "Macro F1 score: 0.581032 \n",
      "Weighted Precision: 0.644376 \n",
      "Weighted Recall: 0.650942 \n",
      "Weighted F1 score: 0.641254 \n"
     ]
    },
    {
     "data": {
      "image/png": "[encoded data removed]",
      "text/plain": [
       "<Figure size 432x288 with 2 Axes>"
      ]
     },
     "metadata": {
      "needs_background": "light"
     },
     "output_type": "display_data"
    }
   ],
   "source": [
    "x_train_f, x_valid_f = fscore(400)\n",
    "\n",
    "t0 = time.time()\n",
    "MNB_final_f = MultinomialNB(alpha = 0.0251).fit(x_train_f, y_train)\n",
    "t1 = time.time()-t0\n",
    "print(\"Excution time of Multi-nominal Naive Bayes classifier: {} s\". format(round(t1,3)))\n",
    "\n",
    "ta_f_MNB,va_f_MNB,pa_f_MNB,M_precision_f_MNB,M_recall_f_MNB,M_f1_f_MNB,W_precision_f_MNB,W_recall_f_MNB,W_f1_f_MNB = print_result(MNB_final_f, x_train_f, x_valid_f)\n",
    "ta_f.append(ta_f_MNB)\n",
    "va_f.append(va_f_MNB)\n",
    "pa_f.append(pa_f_MNB)\n",
    "M_precision_f.append(M_precision_f_MNB)\n",
    "M_recall_f.append(M_recall_f_MNB)\n",
    "M_f1_f.append(M_f1_f_MNB)\n",
    "W_precision_f.append(W_precision_f_MNB)\n",
    "W_recall_f.append(W_recall_f_MNB)\n",
    "W_f1_f.append(W_f1_f_MNB)\n",
    "time_f.append(t1)"
   ]
  },
  {
   "cell_type": "markdown",
   "metadata": {},
   "source": [
    "### Model: Random Forest"
   ]
  },
  {
   "cell_type": "code",
   "execution_count": null,
   "metadata": {},
   "outputs": [],
   "source": [
    "x_train_chi_RF, x_test_chi_RF = chi(400)\n",
    "parameters_RF = {\"n_estimators\":[100,200,250,300,350,400], \"criterion\": ('gini', 'entropy'), \"max_depth\":[40,50,60,70], \"min_samples_split\":[2,3,4,5,6], \"min_samples_leaf\":[1,2,3,4,5]}\n",
    "gs_RF = GridSearchCV(RandomForestClassifier(), param_grid = parameters_RF)  \n",
    "gs_RF.fit(x_train_chi_RF, y_train)"
   ]
  },
  {
   "cell_type": "code",
   "execution_count": 108,
   "metadata": {},
   "outputs": [
    {
     "data": {
      "text/plain": [
       "RandomForestClassifier(max_depth=70, min_samples_leaf=3, n_estimators=300)"
      ]
     },
     "execution_count": 108,
     "metadata": {},
     "output_type": "execute_result"
    }
   ],
   "source": [
    "gs_RF.best_estimator_"
   ]
  },
  {
   "cell_type": "code",
   "execution_count": 54,
   "metadata": {},
   "outputs": [
    {
     "name": "stdout",
     "output_type": "stream",
     "text": [
      "Excution time of Random Forest classifier: 3.073 s\n",
      "training accuracy  0.6994330126775817\n",
      "validation accuracy:  0.6501228501228502\n",
      "prediction accuracy:  0.6571662571662572\n",
      "Macro Precision: 0.642269 \n",
      "Macro Recall: 0.500452 \n",
      "Macro F1 score: 0.521591 \n",
      "Weighted Precision: 0.651610 \n",
      "Weighted Recall: 0.657166 \n",
      "Weighted F1 score: 0.619160 \n"
     ]
    },
    {
     "data": {
      "image/png": "[encoded data removed]",
      "text/plain": [
       "<Figure size 432x288 with 2 Axes>"
      ]
     },
     "metadata": {
      "needs_background": "light"
     },
     "output_type": "display_data"
    }
   ],
   "source": [
    "x_train_chi, x_valid_chi = chi(400)\n",
    "\n",
    "t0 = time.time()\n",
    "RF_final_chi = RandomForestClassifier(max_depth=70, min_samples_leaf=2, n_estimators=350).fit(x_train_chi, y_train)\n",
    "t1 = time.time()-t0\n",
    "print(\"Excution time of Random Forest classifier: {} s\". format(round(t1,3)))\n",
    "\n",
    "ta_chi_RF,va_chi_RF,pa_chi_RF,M_precision_chi_RF,M_recall_chi_RF,M_f1_chi_RF,W_precision_chi_RF,W_recall_chi_RF,W_f1_chi_RF = print_result(RF_final_chi, x_train_chi, x_valid_chi)\n",
    "ta_chi.append(ta_chi_RF)\n",
    "va_chi.append(va_chi_RF)\n",
    "pa_chi.append(pa_chi_RF)\n",
    "M_precision_chi.append(M_precision_chi_RF)\n",
    "M_recall_chi.append(M_recall_chi_RF)\n",
    "M_f1_chi.append(M_f1_chi_RF)\n",
    "W_precision_chi.append(W_precision_chi_RF)\n",
    "W_recall_chi.append(W_recall_chi_RF)\n",
    "W_f1_chi.append(W_f1_chi_RF)\n",
    "time_chi.append(t1)\n"
   ]
  },
  {
   "cell_type": "code",
   "execution_count": null,
   "metadata": {},
   "outputs": [],
   "source": [
    "\n",
    "\"\"\"\n",
    "max_depth=70, min_samples_leaf=4, n_estimators=300\n",
    "    Excution time of Random Forest classifier: 1.767 s\n",
    "    training accuracy  0.6745237943556094\n",
    "    validation accuracy:  0.6461916461916462\n",
    "    prediction accuracy:  0.6538902538902539\n",
    "    Macro Precision: 0.639694 \n",
    "    Macro Recall: 0.490820 \n",
    "    Macro F1 score: 0.507381 \n",
    "    Weighted Precision: 0.648067 \n",
    "    Weighted Recall: 0.653890 \n",
    "    Weighted F1 score: 0.611430 \n",
    "\n",
    "max_depth=70, min_samples_leaf=3, n_estimators=300\n",
    "    Excution time of Random Forest classifier: 2.104 s\n",
    "    training accuracy  0.6813403835127732\n",
    "    validation accuracy:  0.6484848484848484\n",
    "    prediction accuracy:  0.6543816543816544\n",
    "    Macro Precision: 0.640519 \n",
    "    Macro Recall: 0.492805 \n",
    "    Macro F1 score: 0.511207 \n",
    "    Weighted Precision: 0.648942 \n",
    "    Weighted Recall: 0.654382 \n",
    "    Weighted F1 score: 0.613146 \n",
    "\n",
    "\n",
    "max_depth=70, min_samples_leaf=2, n_estimators=300\n",
    "    Excution time of Random Forest classifier: 2.52 s\n",
    "    training accuracy  0.6986048289482066\n",
    "    validation accuracy:  0.6497952497952497\n",
    "    prediction accuracy:  0.657985257985258\n",
    "    Macro Precision: 0.643680 \n",
    "    Macro Recall: 0.501230 \n",
    "    Macro F1 score: 0.522314 \n",
    "    Weighted Precision: 0.652686 \n",
    "    Weighted Recall: 0.657985 \n",
    "    Weighted F1 score: 0.619964 \n",
    "\n",
    "\n",
    "max_depth=70, min_samples_leaf=1, n_estimators=300\n",
    "    Excution time of Random Forest classifier: 7.271 s\n",
    "    training accuracy  0.7997069503726827\n",
    "    validation accuracy:  0.6348894348894347\n",
    "    prediction accuracy:  0.6494676494676495\n",
    "    Macro Precision: 0.635230 \n",
    "    Macro Recall: 0.484273 \n",
    "    Macro F1 score: 0.502493 \n",
    "    Weighted Precision: 0.644150 \n",
    "    Weighted Recall: 0.649468 \n",
    "    Weighted F1 score: 0.606006 \n",
    "\n",
    "Hence, min_samples_leaf=2\n",
    "\n",
    "max_depth=70, min_samples_leaf=2, n_estimators=350\n",
    "    Excution time of Random Forest classifier: 2.856 s\n",
    "    training accuracy  0.6982862967446009\n",
    "    validation accuracy:  0.6519246519246519\n",
    "    prediction accuracy:  0.6553644553644553\n",
    "    Macro Precision: 0.636809 \n",
    "    Macro Recall: 0.496800 \n",
    "    Macro F1 score: 0.515843 \n",
    "    Weighted Precision: 0.648088 \n",
    "    Weighted Recall: 0.655364 \n",
    "    Weighted F1 score: 0.616045 \n",
    "\n",
    "\n",
    "max_depth=70, min_samples_leaf=2, n_estimators=400\n",
    "    Excution time of Random Forest classifier: 3.248 s\n",
    "    training accuracy  0.698350003185322\n",
    "    validation accuracy:  0.6501228501228501\n",
    "    prediction accuracy:  0.6561834561834562\n",
    "    Macro Precision: 0.639291 \n",
    "    Macro Recall: 0.499101 \n",
    "    Macro F1 score: 0.519646 \n",
    "    Weighted Precision: 0.649754 \n",
    "    Weighted Recall: 0.656183 \n",
    "    Weighted F1 score: 0.617913 \n",
    "\n",
    "Hnece, n_estimators=350\n",
    "\n",
    "max_depth=75, min_samples_leaf=2, n_estimators=350\n",
    "    training accuracy  0.7020449767471492\n",
    "    validation accuracy:  0.6507780507780507\n",
    "    prediction accuracy:  0.6565110565110565\n",
    "    Macro Precision: 0.638065 \n",
    "    Macro Recall: 0.501160 \n",
    "    Macro F1 score: 0.521790 \n",
    "    Weighted Precision: 0.649388 \n",
    "    Weighted Recall: 0.656511 \n",
    "    Weighted F1 score: 0.619198 \n",
    "\n",
    "\n",
    "max_depth=65, min_samples_leaf=2, n_estimators=350\n",
    "    training accuracy  0.6960565713193604\n",
    "    validation accuracy:  0.6486486486486487\n",
    "    prediction accuracy:  0.6553644553644553\n",
    "    Macro Precision: 0.639571 \n",
    "    Macro Recall: 0.495767 \n",
    "    Macro F1 score: 0.515601 \n",
    "    Weighted Precision: 0.649458 \n",
    "    Weighted Recall: 0.655364 \n",
    "    Weighted F1 score: 0.615595 \n",
    "\n",
    "final: max_depth=70, min_samples_leaf=2, n_estimators=350\n",
    "\"\"\"\n"
   ]
  },
  {
   "cell_type": "code",
   "execution_count": 55,
   "metadata": {},
   "outputs": [
    {
     "name": "stdout",
     "output_type": "stream",
     "text": [
      "Excution time of Random Forest classifier: 2.969 s\n",
      "training accuracy  0.6987959482703702\n",
      "validation accuracy:  0.6511056511056511\n",
      "prediction accuracy:  0.6573300573300573\n",
      "Macro Precision: 0.641019 \n",
      "Macro Recall: 0.500038 \n",
      "Macro F1 score: 0.520576 \n",
      "Weighted Precision: 0.651139 \n",
      "Weighted Recall: 0.657330 \n",
      "Weighted F1 score: 0.618986 \n"
     ]
    },
    {
     "data": {
      "image/png": "[encoded data removed]",
      "text/plain": [
       "<Figure size 432x288 with 2 Axes>"
      ]
     },
     "metadata": {
      "needs_background": "light"
     },
     "output_type": "display_data"
    }
   ],
   "source": [
    "#fscore\n",
    "x_train_f, x_valid_f = fscore(400)\n",
    "\n",
    "t0 = time.time()\n",
    "RF_final_f = RandomForestClassifier(max_depth=70, min_samples_leaf=2, n_estimators=350).fit(x_train_f, y_train)\n",
    "t1 = time.time()-t0\n",
    "print(\"Excution time of Random Forest classifier: {} s\". format(round(t1,3)))\n",
    "\n",
    "ta_f_RF,va_f_RF,pa_f_RF,M_precision_f_RF,M_recall_f_RF,M_f1_f_RF,W_precision_f_RF,W_recall_f_RF,W_f1_f_RF = print_result(RF_final_f, x_train_f, x_valid_f)\n",
    "ta_f.append(ta_f_RF)\n",
    "va_f.append(va_f_RF)\n",
    "pa_f.append(pa_f_RF)\n",
    "M_precision_f.append(M_precision_f_RF)\n",
    "M_recall_f.append(M_recall_f_RF)\n",
    "M_f1_f.append(M_f1_f_RF)\n",
    "W_precision_f.append(W_precision_f_RF)\n",
    "W_recall_f.append(W_recall_f_RF)\n",
    "W_f1_f.append(W_f1_f_RF)\n",
    "time_f.append(t1)"
   ]
  },
  {
   "cell_type": "markdown",
   "metadata": {},
   "source": [
    "### Model: Stacking"
   ]
  },
  {
   "cell_type": "code",
   "execution_count": 56,
   "metadata": {},
   "outputs": [],
   "source": [
    "x_train_chi, x_valid_chi = chi(400)\n",
    "\n",
    "estimator = [('lr', LogisticRegression(solver= 'saga', C = 1.4, max_iter = 2000)),\n",
    "            ('svc', SVC(kernel=\"linear\", C = 0.4,decision_function_shape = 'ovo')),\n",
    "            ('RF', RandomForestClassifier(max_depth=70, min_samples_leaf=2, n_estimators=350))\n",
    "            ]\n",
    "clf2 = StackingClassifier(estimators= estimator, final_estimator=LogisticRegression(max_iter=2000))\n"
   ]
  },
  {
   "cell_type": "code",
   "execution_count": 57,
   "metadata": {},
   "outputs": [
    {
     "name": "stdout",
     "output_type": "stream",
     "text": [
      "Excution time of Stacking classifier: 44.353 s\n",
      "training accuracy  0.7031916926801299\n",
      "validation accuracy:  0.6661752661752661\n",
      "prediction accuracy:  0.6732186732186732\n",
      "Macro Precision: 0.657268 \n",
      "Macro Recall: 0.545457 \n",
      "Macro F1 score: 0.574220 \n",
      "Weighted Precision: 0.669455 \n",
      "Weighted Recall: 0.673219 \n",
      "Weighted F1 score: 0.650093 \n"
     ]
    },
    {
     "data": {
      "image/png": "[encoded data removed]",
      "text/plain": [
       "<Figure size 432x288 with 2 Axes>"
      ]
     },
     "metadata": {
      "needs_background": "light"
     },
     "output_type": "display_data"
    }
   ],
   "source": [
    "t0 = time.time()\n",
    "S_final_chi = clf2.fit(x_train_chi, y_train)\n",
    "t1 = time.time()-t0\n",
    "print(\"Excution time of Stacking classifier: {} s\". format(round(t1,3)))\n",
    "\n",
    "ta_chi_S,va_chi_S,pa_chi_S,M_precision_chi_S,M_recall_chi_S,M_f1_chi_S,W_precision_chi_S,W_recall_chi_S,W_f1_chi_S = print_result(S_final_chi, x_train_chi, x_valid_chi)\n",
    "ta_chi.append(ta_chi_S)\n",
    "va_chi.append(va_chi_S)\n",
    "pa_chi.append(pa_chi_S)\n",
    "M_precision_chi.append(M_precision_chi_S)\n",
    "M_recall_chi.append(M_recall_chi_S)\n",
    "M_f1_chi.append(M_f1_chi_S)\n",
    "W_precision_chi.append(W_precision_chi_S)\n",
    "W_recall_chi.append(W_recall_chi_S)\n",
    "W_f1_chi.append(W_f1_chi_S)\n",
    "time_chi.append(t1)"
   ]
  },
  {
   "cell_type": "code",
   "execution_count": 58,
   "metadata": {},
   "outputs": [
    {
     "name": "stdout",
     "output_type": "stream",
     "text": [
      "Excution time of Stacking classifier: 54.243 s\n",
      "training accuracy  0.7026183347136395\n",
      "validation accuracy:  0.6669942669942671\n",
      "prediction accuracy:  0.6723996723996724\n",
      "Macro Precision: 0.656538 \n",
      "Macro Recall: 0.545857 \n",
      "Macro F1 score: 0.574629 \n",
      "Weighted Precision: 0.668726 \n",
      "Weighted Recall: 0.672400 \n",
      "Weighted F1 score: 0.649657 \n"
     ]
    },
    {
     "data": {
      "image/png": "[encoded data removed]",
      "text/plain": [
       "<Figure size 432x288 with 2 Axes>"
      ]
     },
     "metadata": {
      "needs_background": "light"
     },
     "output_type": "display_data"
    }
   ],
   "source": [
    "x_train_f, x_valid_f = fscore(400)\n",
    "\n",
    "t0 = time.time()\n",
    "S_final_f = clf2.fit(x_train_f, y_train)\n",
    "t1 = time.time()-t0\n",
    "print(\"Excution time of Stacking classifier: {} s\". format(round(t1,3)))\n",
    "\n",
    "ta_f_S,va_f_S,pa_f_S,M_precision_f_S,M_recall_f_S,M_f1_f_S,W_precision_f_S,W_recall_f_S,W_f1_f_S = print_result(S_final_f, x_train_f, x_valid_f)\n",
    "ta_f.append(ta_f_S)\n",
    "va_f.append(va_f_S)\n",
    "pa_f.append(pa_f_S)\n",
    "M_precision_f.append(M_precision_f_S)\n",
    "M_recall_f.append(M_recall_f_S)\n",
    "M_f1_f.append(M_f1_f_S)\n",
    "W_precision_f.append(W_precision_f_S)\n",
    "W_recall_f.append(W_recall_f_S)\n",
    "W_f1_f.append(W_f1_f_S)\n",
    "time_f.append(t1)"
   ]
  },
  {
   "cell_type": "code",
   "execution_count": 60,
   "metadata": {},
   "outputs": [],
   "source": [
    "#lr, svm, mnb, rf, s\n",
    "chi_list = []\n",
    "chi_columns = []\n",
    "chi_index = []\n",
    "chi_list.append(ta_chi)\n",
    "chi_list.append(va_chi)\n",
    "chi_list.append(pa_chi)\n",
    "chi_list.append(M_precision_chi)\n",
    "chi_list.append(M_recall_chi)\n",
    "chi_list.append(M_f1_chi)\n",
    "chi_list.append(W_precision_chi)\n",
    "chi_list.append(W_recall_chi)\n",
    "chi_list.append(W_f1_chi)\n",
    "chi_list.append(time_chi)\n",
    "chi_columns = ['Base-line','Logistic Regression', 'SVM', 'MNB','Random Forest', 'Staking']\n",
    "chi_index = ['Training Accuracy', 'Validation Accuray', 'Prediction Accuracy', 'Macro Precision', 'Macro Recall', 'Macro F1-score', \n",
    "'Weighted Precision', 'Weighted Recall', 'Weighted F1-score', 'Execute time']\n",
    "chi_np_list = np.array(chi_list)\n",
    "chi_df = pd.DataFrame(chi_np_list,columns=chi_columns, index = chi_index)\n",
    "\n",
    "f_list = []\n",
    "f_columns = []\n",
    "f_index = []\n",
    "f_list.append(ta_f)\n",
    "f_list.append(va_f)\n",
    "f_list.append(pa_f)\n",
    "f_list.append(M_precision_f)\n",
    "f_list.append(M_recall_f)\n",
    "f_list.append(M_f1_f)\n",
    "f_list.append(W_precision_f)\n",
    "f_list.append(W_recall_f)\n",
    "f_list.append(W_f1_f)\n",
    "f_list.append(time_f)\n",
    "f_columns = ['Base-line','Logistic Regression', 'SVM', 'MNB','Random Forest', 'Staking']\n",
    "f_index = ['Training Accuracy', 'Validation Accuray', 'Prediction Accuracy', 'Macro Precision', 'Macro Recall', 'Macro F1-score', \n",
    "'Weighted Precision', 'Weighted Recall', 'Weighted F1-score', 'Execute time']\n",
    "f_np_list = np.array(f_list)\n",
    "f_df = pd.DataFrame(f_np_list,columns=f_columns, index=f_index)\n"
   ]
  },
  {
   "cell_type": "code",
   "execution_count": 61,
   "metadata": {},
   "outputs": [
    {
     "name": "stdout",
     "output_type": "stream",
     "text": [
      "Chi2\n"
     ]
    },
    {
     "data": {
      "text/html": [
       "<div>\n",
       "<style scoped>\n",
       "    .dataframe tbody tr th:only-of-type {\n",
       "        vertical-align: middle;\n",
       "    }\n",
       "\n",
       "    .dataframe tbody tr th {\n",
       "        vertical-align: top;\n",
       "    }\n",
       "\n",
       "    .dataframe thead th {\n",
       "        text-align: right;\n",
       "    }\n",
       "</style>\n",
       "<table border=\"1\" class=\"dataframe\">\n",
       "  <thead>\n",
       "    <tr style=\"text-align: right;\">\n",
       "      <th></th>\n",
       "      <th>Base-line</th>\n",
       "      <th>Logistic Regression</th>\n",
       "      <th>SVM</th>\n",
       "      <th>MNB</th>\n",
       "      <th>Random Forest</th>\n",
       "      <th>Staking</th>\n",
       "    </tr>\n",
       "  </thead>\n",
       "  <tbody>\n",
       "    <tr>\n",
       "      <th>Training Accuracy</th>\n",
       "      <td>0.578964</td>\n",
       "      <td>0.695865</td>\n",
       "      <td>0.686692</td>\n",
       "      <td>0.672358</td>\n",
       "      <td>0.699433</td>\n",
       "      <td>0.703192</td>\n",
       "    </tr>\n",
       "    <tr>\n",
       "      <th>Validation Accuray</th>\n",
       "      <td>0.584930</td>\n",
       "      <td>0.666503</td>\n",
       "      <td>0.651597</td>\n",
       "      <td>0.646519</td>\n",
       "      <td>0.650123</td>\n",
       "      <td>0.666175</td>\n",
       "    </tr>\n",
       "    <tr>\n",
       "      <th>Prediction Accuracy</th>\n",
       "      <td>0.584930</td>\n",
       "      <td>0.670106</td>\n",
       "      <td>0.658804</td>\n",
       "      <td>0.651597</td>\n",
       "      <td>0.657166</td>\n",
       "      <td>0.673219</td>\n",
       "    </tr>\n",
       "    <tr>\n",
       "      <th>Macro Precision</th>\n",
       "      <td>0.194977</td>\n",
       "      <td>0.651511</td>\n",
       "      <td>0.627407</td>\n",
       "      <td>0.612864</td>\n",
       "      <td>0.642269</td>\n",
       "      <td>0.657268</td>\n",
       "    </tr>\n",
       "    <tr>\n",
       "      <th>Macro Recall</th>\n",
       "      <td>0.333333</td>\n",
       "      <td>0.540452</td>\n",
       "      <td>0.523475</td>\n",
       "      <td>0.562455</td>\n",
       "      <td>0.500452</td>\n",
       "      <td>0.545457</td>\n",
       "    </tr>\n",
       "    <tr>\n",
       "      <th>Macro F1-score</th>\n",
       "      <td>0.246038</td>\n",
       "      <td>0.568480</td>\n",
       "      <td>0.548211</td>\n",
       "      <td>0.579800</td>\n",
       "      <td>0.521591</td>\n",
       "      <td>0.574220</td>\n",
       "    </tr>\n",
       "    <tr>\n",
       "      <th>Weighted Precision</th>\n",
       "      <td>0.342144</td>\n",
       "      <td>0.665460</td>\n",
       "      <td>0.649630</td>\n",
       "      <td>0.644554</td>\n",
       "      <td>0.651610</td>\n",
       "      <td>0.669455</td>\n",
       "    </tr>\n",
       "    <tr>\n",
       "      <th>Weighted Recall</th>\n",
       "      <td>0.584930</td>\n",
       "      <td>0.670106</td>\n",
       "      <td>0.658804</td>\n",
       "      <td>0.651597</td>\n",
       "      <td>0.657166</td>\n",
       "      <td>0.673219</td>\n",
       "    </tr>\n",
       "    <tr>\n",
       "      <th>Weighted F1-score</th>\n",
       "      <td>0.431746</td>\n",
       "      <td>0.646076</td>\n",
       "      <td>0.632546</td>\n",
       "      <td>0.641032</td>\n",
       "      <td>0.619160</td>\n",
       "      <td>0.650093</td>\n",
       "    </tr>\n",
       "    <tr>\n",
       "      <th>Execute time</th>\n",
       "      <td>0.002999</td>\n",
       "      <td>0.264592</td>\n",
       "      <td>5.633196</td>\n",
       "      <td>0.013554</td>\n",
       "      <td>3.073300</td>\n",
       "      <td>44.353401</td>\n",
       "    </tr>\n",
       "  </tbody>\n",
       "</table>\n",
       "</div>"
      ],
      "text/plain": [
       "                     Base-line  Logistic Regression       SVM       MNB  \\\n",
       "Training Accuracy     0.578964             0.695865  0.686692  0.672358   \n",
       "Validation Accuray    0.584930             0.666503  0.651597  0.646519   \n",
       "Prediction Accuracy   0.584930             0.670106  0.658804  0.651597   \n",
       "Macro Precision       0.194977             0.651511  0.627407  0.612864   \n",
       "Macro Recall          0.333333             0.540452  0.523475  0.562455   \n",
       "Macro F1-score        0.246038             0.568480  0.548211  0.579800   \n",
       "Weighted Precision    0.342144             0.665460  0.649630  0.644554   \n",
       "Weighted Recall       0.584930             0.670106  0.658804  0.651597   \n",
       "Weighted F1-score     0.431746             0.646076  0.632546  0.641032   \n",
       "Execute time          0.002999             0.264592  5.633196  0.013554   \n",
       "\n",
       "                     Random Forest    Staking  \n",
       "Training Accuracy         0.699433   0.703192  \n",
       "Validation Accuray        0.650123   0.666175  \n",
       "Prediction Accuracy       0.657166   0.673219  \n",
       "Macro Precision           0.642269   0.657268  \n",
       "Macro Recall              0.500452   0.545457  \n",
       "Macro F1-score            0.521591   0.574220  \n",
       "Weighted Precision        0.651610   0.669455  \n",
       "Weighted Recall           0.657166   0.673219  \n",
       "Weighted F1-score         0.619160   0.650093  \n",
       "Execute time              3.073300  44.353401  "
      ]
     },
     "metadata": {},
     "output_type": "display_data"
    },
    {
     "name": "stdout",
     "output_type": "stream",
     "text": [
      "Fscore\n"
     ]
    },
    {
     "data": {
      "text/html": [
       "<div>\n",
       "<style scoped>\n",
       "    .dataframe tbody tr th:only-of-type {\n",
       "        vertical-align: middle;\n",
       "    }\n",
       "\n",
       "    .dataframe tbody tr th {\n",
       "        vertical-align: top;\n",
       "    }\n",
       "\n",
       "    .dataframe thead th {\n",
       "        text-align: right;\n",
       "    }\n",
       "</style>\n",
       "<table border=\"1\" class=\"dataframe\">\n",
       "  <thead>\n",
       "    <tr style=\"text-align: right;\">\n",
       "      <th></th>\n",
       "      <th>Base-line</th>\n",
       "      <th>Logistic Regression</th>\n",
       "      <th>SVM</th>\n",
       "      <th>MNB</th>\n",
       "      <th>Random Forest</th>\n",
       "      <th>Staking</th>\n",
       "    </tr>\n",
       "  </thead>\n",
       "  <tbody>\n",
       "    <tr>\n",
       "      <th>Training Accuracy</th>\n",
       "      <td>0.578964</td>\n",
       "      <td>0.698286</td>\n",
       "      <td>0.687647</td>\n",
       "      <td>0.673632</td>\n",
       "      <td>0.698796</td>\n",
       "      <td>0.702618</td>\n",
       "    </tr>\n",
       "    <tr>\n",
       "      <th>Validation Accuray</th>\n",
       "      <td>0.584930</td>\n",
       "      <td>0.666339</td>\n",
       "      <td>0.651597</td>\n",
       "      <td>0.646519</td>\n",
       "      <td>0.651106</td>\n",
       "      <td>0.666994</td>\n",
       "    </tr>\n",
       "    <tr>\n",
       "      <th>Prediction Accuracy</th>\n",
       "      <td>0.584930</td>\n",
       "      <td>0.671089</td>\n",
       "      <td>0.656511</td>\n",
       "      <td>0.650942</td>\n",
       "      <td>0.657330</td>\n",
       "      <td>0.672400</td>\n",
       "    </tr>\n",
       "    <tr>\n",
       "      <th>Macro Precision</th>\n",
       "      <td>0.194977</td>\n",
       "      <td>0.652429</td>\n",
       "      <td>0.622619</td>\n",
       "      <td>0.611894</td>\n",
       "      <td>0.641019</td>\n",
       "      <td>0.656538</td>\n",
       "    </tr>\n",
       "    <tr>\n",
       "      <th>Macro Recall</th>\n",
       "      <td>0.333333</td>\n",
       "      <td>0.544082</td>\n",
       "      <td>0.522959</td>\n",
       "      <td>0.564414</td>\n",
       "      <td>0.500038</td>\n",
       "      <td>0.545857</td>\n",
       "    </tr>\n",
       "    <tr>\n",
       "      <th>Macro F1-score</th>\n",
       "      <td>0.246038</td>\n",
       "      <td>0.572214</td>\n",
       "      <td>0.547180</td>\n",
       "      <td>0.581032</td>\n",
       "      <td>0.520576</td>\n",
       "      <td>0.574629</td>\n",
       "    </tr>\n",
       "    <tr>\n",
       "      <th>Weighted Precision</th>\n",
       "      <td>0.342144</td>\n",
       "      <td>0.666459</td>\n",
       "      <td>0.646399</td>\n",
       "      <td>0.644376</td>\n",
       "      <td>0.651139</td>\n",
       "      <td>0.668726</td>\n",
       "    </tr>\n",
       "    <tr>\n",
       "      <th>Weighted Recall</th>\n",
       "      <td>0.584930</td>\n",
       "      <td>0.671089</td>\n",
       "      <td>0.656511</td>\n",
       "      <td>0.650942</td>\n",
       "      <td>0.657330</td>\n",
       "      <td>0.672400</td>\n",
       "    </tr>\n",
       "    <tr>\n",
       "      <th>Weighted F1-score</th>\n",
       "      <td>0.431746</td>\n",
       "      <td>0.648128</td>\n",
       "      <td>0.630968</td>\n",
       "      <td>0.641254</td>\n",
       "      <td>0.618986</td>\n",
       "      <td>0.649657</td>\n",
       "    </tr>\n",
       "    <tr>\n",
       "      <th>Execute time</th>\n",
       "      <td>0.005027</td>\n",
       "      <td>0.275307</td>\n",
       "      <td>5.504724</td>\n",
       "      <td>0.011240</td>\n",
       "      <td>2.968959</td>\n",
       "      <td>54.242893</td>\n",
       "    </tr>\n",
       "  </tbody>\n",
       "</table>\n",
       "</div>"
      ],
      "text/plain": [
       "                     Base-line  Logistic Regression       SVM       MNB  \\\n",
       "Training Accuracy     0.578964             0.698286  0.687647  0.673632   \n",
       "Validation Accuray    0.584930             0.666339  0.651597  0.646519   \n",
       "Prediction Accuracy   0.584930             0.671089  0.656511  0.650942   \n",
       "Macro Precision       0.194977             0.652429  0.622619  0.611894   \n",
       "Macro Recall          0.333333             0.544082  0.522959  0.564414   \n",
       "Macro F1-score        0.246038             0.572214  0.547180  0.581032   \n",
       "Weighted Precision    0.342144             0.666459  0.646399  0.644376   \n",
       "Weighted Recall       0.584930             0.671089  0.656511  0.650942   \n",
       "Weighted F1-score     0.431746             0.648128  0.630968  0.641254   \n",
       "Execute time          0.005027             0.275307  5.504724  0.011240   \n",
       "\n",
       "                     Random Forest    Staking  \n",
       "Training Accuracy         0.698796   0.702618  \n",
       "Validation Accuray        0.651106   0.666994  \n",
       "Prediction Accuracy       0.657330   0.672400  \n",
       "Macro Precision           0.641019   0.656538  \n",
       "Macro Recall              0.500038   0.545857  \n",
       "Macro F1-score            0.520576   0.574629  \n",
       "Weighted Precision        0.651139   0.668726  \n",
       "Weighted Recall           0.657330   0.672400  \n",
       "Weighted F1-score         0.618986   0.649657  \n",
       "Execute time              2.968959  54.242893  "
      ]
     },
     "metadata": {},
     "output_type": "display_data"
    }
   ],
   "source": [
    "print(\"Chi2\")\n",
    "display(chi_df)\n",
    "print('Fscore')\n",
    "display(f_df)"
   ]
  },
  {
   "cell_type": "markdown",
   "metadata": {},
   "source": [
    "### Final Prediction"
   ]
  },
  {
   "cell_type": "code",
   "execution_count": 84,
   "metadata": {},
   "outputs": [],
   "source": [
    "#preprocessing\n",
    "test_data = pd.read_csv(\"Test.csv\", sep=',')\n",
    "test = test_data['text']\n",
    "x_test = prepare(test)\n",
    "\n"
   ]
  },
  {
   "cell_type": "code",
   "execution_count": 85,
   "metadata": {},
   "outputs": [],
   "source": [
    "X_test_BoW_12 = BoW_vectorizer_12.transform(x_test)\n",
    "\n",
    "selector = SelectKBest(chi2,k=400)\n",
    "x_train_chi_12 = selector.fit_transform(X_train_BoW_12 ,y_train)\n",
    "\n",
    "x_test_12 = selector.transform(X_test_BoW_12)"
   ]
  },
  {
   "cell_type": "code",
   "execution_count": 88,
   "metadata": {},
   "outputs": [],
   "source": [
    "y_predicted = LR_final_chi.predict(x_test_12)\n",
    "l = pd.DataFrame(y_predicted, columns= ['sentiment'])\n",
    "result = pd.concat([test_data[\"id\"],l], axis = 1)\n",
    "result.to_csv(\"prediction1.csv\", index = None)\n"
   ]
  }
 ],
 "metadata": {
  "kernelspec": {
   "display_name": "Python 3",
   "language": "python",
   "name": "python3"
  },
  "language_info": {
   "codemirror_mode": {
    "name": "ipython",
    "version": 3
   },
   "file_extension": ".py",
   "mimetype": "text/x-python",
   "name": "python",
   "nbconvert_exporter": "python",
   "pygments_lexer": "ipython3",
   "version": "3.10.2"
  }
 },
 "nbformat": 4,
 "nbformat_minor": 4
}
