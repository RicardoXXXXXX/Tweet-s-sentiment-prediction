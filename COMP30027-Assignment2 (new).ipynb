{
 "cells": [
  {
   "cell_type": "markdown",
   "metadata": {},
   "source": [
    "##### The University of Melbourne, School of Computing and Information Systems\n",
    "# COMP30027 Machine Learning, 2022 Semester 1\n",
    "\n",
    "## Assignment 2: Sentiment Classification of Tweets"
   ]
  },
  {
   "cell_type": "code",
   "execution_count": 278,
   "metadata": {},
   "outputs": [
    {
     "name": "stderr",
     "output_type": "stream",
     "text": [
      "[nltk_data] Downloading package stopwords to\n",
      "[nltk_data]     C:\\Users\\Lingpeng\\AppData\\Roaming\\nltk_data...\n",
      "[nltk_data]   Package stopwords is already up-to-date!\n",
      "[nltk_data] Downloading package wordnet to\n",
      "[nltk_data]     C:\\Users\\Lingpeng\\AppData\\Roaming\\nltk_data...\n",
      "[nltk_data]   Package wordnet is already up-to-date!\n",
      "[nltk_data] Downloading package omw-1.4 to\n",
      "[nltk_data]     C:\\Users\\Lingpeng\\AppData\\Roaming\\nltk_data...\n",
      "[nltk_data]   Package omw-1.4 is already up-to-date!\n"
     ]
    }
   ],
   "source": [
    "import pandas as pd\n",
    "from IPython.display import display\n",
    "import matplotlib.pyplot as plt\n",
    "import numpy as np\n",
    "import nltk\n",
    "nltk.download('stopwords')\n",
    "nltk.download('wordnet')\n",
    "nltk.download('omw-1.4')\n",
    "from nltk.tokenize import TweetTokenizer\n",
    "from bs4 import BeautifulSoup\n",
    "import re\n",
    "import unidecode\n",
    "from string import punctuation\n",
    "import contractions\n",
    "from tabulate import tabulate\n",
    "import collections\n",
    "\n",
    "from sklearn.linear_model import LogisticRegression\n",
    "from sklearn.model_selection import cross_val_score\n",
    "from sklearn.model_selection import train_test_split\n",
    "from sklearn.feature_extraction.text import TfidfVectorizer\n",
    "from sklearn.feature_selection import SelectKBest, chi2, f_classif\n",
    "from sklearn.naive_bayes import MultinomialNB\n",
    "from sklearn.model_selection import cross_val_score\n",
    "from sklearn.svm import SVC\n",
    "from sklearn.model_selection import GridSearchCV\n",
    "from sklearn.feature_extraction.text import CountVectorizer\n",
    "from sklearn.ensemble import RandomForestClassifier\n",
    "from sklearn.ensemble import StackingClassifier\n",
    "from sklearn import metrics\n",
    "from sklearn.metrics import accuracy_score\n",
    "from sklearn.metrics import precision_score\n",
    "from sklearn.metrics import recall_score\n",
    "from sklearn.metrics import recall_score\n",
    "from sklearn.metrics import f1_score\n",
    "from sklearn.metrics import confusion_matrix, ConfusionMatrixDisplay\n",
    "import time"
   ]
  },
  {
   "cell_type": "code",
   "execution_count": null,
   "metadata": {},
   "outputs": [],
   "source": [
    "\n",
    "#Read the CSV datafiles (Train and Test).\n",
    "train_data = pd.read_csv(\"Train.csv\", sep=',')\n",
    "test_data = pd.read_csv(\"Test.csv\", sep=',')\n"
   ]
  },
  {
   "cell_type": "markdown",
   "metadata": {},
   "source": [
    "Then we separate the tweet text and the label (sentiment). "
   ]
  },
  {
   "cell_type": "code",
   "execution_count": 7,
   "metadata": {},
   "outputs": [
    {
     "name": "stdout",
     "output_type": "stream",
     "text": [
      "Train length: 21802\n",
      "Test length: 6099\n"
     ]
    }
   ],
   "source": [
    "#separating instance and label for Train\n",
    "X_train_raw = [x[0] for x in train_data[['text']].values]\n",
    "Y_train = [x[0] for x in train_data[['sentiment']].values]\n",
    "\n",
    "#check the result\n",
    "print(\"Train length:\",len(X_train_raw))\n",
    "\n",
    "#separating instance and label for Test\n",
    "X_test_raw = [x[0] for x in test_data[['text']].values]\n",
    "\n",
    "#check the result\n",
    "print(\"Test length:\",len(X_test_raw))"
   ]
  },
  {
   "cell_type": "code",
   "execution_count": 106,
   "metadata": {},
   "outputs": [
    {
     "data": {
      "image/png": "[encoded data removed]",
      "text/plain": [
       "<Figure size 432x288 with 1 Axes>"
      ]
     },
     "metadata": {
      "needs_background": "light"
     },
     "output_type": "display_data"
    }
   ],
   "source": [
    "\n",
    "counter = dict(collections.Counter(Y_train))\n",
    "label = ['positive','netural','negative']\n",
    "data = [counter['positive'],counter['neutral'],counter['negative']]\n",
    "plt.bar(label, data)\n",
    "plt.title('label distribution of the training set')\n",
    "plt.xlabel('label type')\n",
    "plt.ylabel('number of labels')\n",
    "plt.show()"
   ]
  },
  {
   "cell_type": "code",
   "execution_count": 8,
   "metadata": {},
   "outputs": [],
   "source": [
    "#Split data\n",
    "X_train,X_valid,y_train,y_valid = train_test_split(X_train_raw,Y_train,test_size=0.28, random_state=30027)"
   ]
  },
  {
   "cell_type": "code",
   "execution_count": 9,
   "metadata": {},
   "outputs": [],
   "source": [
    "tknzr = TweetTokenizer(strip_handles=True, reduce_len=True) \n",
    "ps = nltk.PorterStemmer()\n",
    "wordnet = nltk.WordNetLemmatizer()\n",
    "stop_words = nltk.corpus.stopwords.words('english')\n",
    "stopwords = []\n",
    "# exclude words from stopwords list\n",
    "for i in stop_words:\n",
    "    if i != 'not' and i != 'no':\n",
    "        stopwords.append(i)\n",
    "    "
   ]
  },
  {
   "cell_type": "code",
   "execution_count": 10,
   "metadata": {},
   "outputs": [],
   "source": [
    "def remove_links(text):\n",
    "    return re.sub(r'\\w+:\\/{2}[\\d\\w-]+(\\.[\\d\\w-]+)*(?:(?:\\/[^\\s/]*))*', '', text)\n",
    "def remove_email(text):\n",
    "    return re.sub(r'[\\.a-zA-Z0-9_-]*@[\\.a-zA-Z0-9_-]*', '', text)\n",
    "def remove_accented_chars(text):\n",
    "    \"\"\"remove accented characters from text, e.g. café\"\"\"\n",
    "    text = unidecode.unidecode(text)\n",
    "    return text\n",
    "\n",
    "def expand_contractions(text):\n",
    "    \"\"\"expand shortened words, e.g. don't to do not\"\"\"\n",
    "    text = contractions.fix(text)\n",
    "    return text\n",
    "\n",
    "def remove_num(text):\n",
    "    return ''.join([i for i in text if not i.isdigit()])\n",
    "\n",
    "def strip_html_tags(text):\n",
    "    \"\"\"remove html tags from text\"\"\"\n",
    "    soup = BeautifulSoup(text, \"html.parser\")\n",
    "    stripped_text = soup.get_text(separator=\" \")\n",
    "    return stripped_text\n",
    "def remove_stopwords(text):\n",
    "    return ' '.join([wordnet.lemmatize(i) for i in text.split() if i not in stopwords])\n",
    "\n",
    "def remove_punc(text):\n",
    "    return ''.join([i.casefold() for i in text if i not in punctuation])\n",
    "\n",
    "def remove_num(text):\n",
    "    return ''.join([i for i in text if not i.isdigit()])\n",
    "\n",
    "def remove_whitespace(text):\n",
    "    \"\"\"remove extra whitespaces from text\"\"\"\n",
    "    text = text.strip()\n",
    "    return \" \".join(text.split())\n",
    "\n",
    "def remove_not_alpha(text):\n",
    "    return re.sub(r'[^\\s\\.a-zA-Z0-9_-]+', '', text)\n",
    "\n",
    "def preprocess(text):\n",
    "    \n",
    "#     text = text.replace(r'\\n','').replace(r'\\m','').replace(r'\\r','').replace(r'\\t','') \n",
    "    no_email = remove_email(text)\n",
    "    no_accented_chars = remove_accented_chars(no_email)\n",
    "    no_links = remove_links(no_accented_chars) \n",
    "    no_white_space = remove_whitespace(no_links)\n",
    "    no_punc = remove_punc(no_white_space)  \n",
    "    no_contractions = expand_contractions(no_punc)\n",
    "    no_html_tags = strip_html_tags(no_contractions)\n",
    "    no_num = remove_num(no_html_tags)\n",
    "    no_stopwords = remove_stopwords(no_num)\n",
    "    no_alpha = remove_not_alpha(no_stopwords)\n",
    "    tok = tknzr.tokenize(no_alpha)\n",
    "    return \" \".join([ps.stem(word) for word in tok])\n",
    "\n",
    "def prepare(text): \n",
    "    res = []\n",
    "    for line in text:\n",
    "        line = preprocess(line) \n",
    "        res.append(line)    \n",
    "    return res    \n",
    "X_train_clean = prepare(X_train)\n",
    "X_valid_clean = prepare(X_valid) \n"
   ]
  },
  {
   "cell_type": "markdown",
   "metadata": {},
   "source": [
    "### Preprocessing: Vectorization\n",
    "**Bag of Words (BoW)**\n",
    "\n",
    "In this approach, we use the **CountVectorizer** library to separate all the words in the Train corpus (dataset). These words are then used as the 'vectors' or 'features' to represent each instance (Tweet) in `Train` and `Test` datasets. "
   ]
  },
  {
   "cell_type": "code",
   "execution_count": 11,
   "metadata": {},
   "outputs": [],
   "source": [
    "\n",
    "\n",
    "BoW_vectorizer_12 = CountVectorizer(ngram_range=(1,2))\n",
    "#Build the feature set (vocabulary) and vectorise the Tarin dataset using BoW\n",
    "X_train_BoW_12 = BoW_vectorizer_12.fit_transform(X_train_clean)\n",
    "\n",
    "#Use the feature set (vocabulary) from Train to vectorise the Test dataset \n",
    "X_valid_BoW_12 = BoW_vectorizer_12.transform(X_valid_clean)\n"
   ]
  },
  {
   "cell_type": "markdown",
   "metadata": {},
   "source": [
    "**TFIDF**\n",
    "\n",
    "In this approach, we use the **TfidfVectorizer** library to separate all the words in this corpus (dataset). Same as the BoW approach, these words are then used as the 'vectors' or 'features' to represent each instance (Tweet).\n",
    "\n",
    "However, in this method for each instance the value associated with each 'vector' (word) is not the number of times the word repeated in that tweet, but the TFIDF value of then 'voctor' (word)."
   ]
  },
  {
   "cell_type": "code",
   "execution_count": 12,
   "metadata": {},
   "outputs": [],
   "source": [
    "\n",
    "\n",
    "tfidf_vectorizer = TfidfVectorizer(ngram_range=(1,2))\n",
    "\n",
    "#Build the feature set (vocabulary) and vectorise the Tarin dataset using TFIDF\n",
    "X_train_tfidf_12 = tfidf_vectorizer.fit_transform(X_train_clean)\n",
    "\n",
    "#Use the feature set (vocabulary) from Train to vectorise the Test dataset \n",
    "X_valid_tfidf_12 = tfidf_vectorizer.transform(X_valid_clean)\n"
   ]
  },
  {
   "cell_type": "markdown",
   "metadata": {},
   "source": [
    "### Preprocessing: feature selection \n",
    "**select kbest + chi2** "
   ]
  },
  {
   "cell_type": "code",
   "execution_count": 156,
   "metadata": {},
   "outputs": [],
   "source": [
    "\n",
    "\n",
    "def chi(k_value):\n",
    "    selector = SelectKBest(chi2,k=k_value)\n",
    "    x_train_chi_12 = selector.fit_transform(X_train_BoW_12 ,y_train)\n",
    "    x_test_chi_12 = selector.transform(X_valid_BoW_12)\n",
    "\n",
    "    return x_train_chi_12, x_test_chi_12\n"
   ]
  },
  {
   "cell_type": "code",
   "execution_count": 157,
   "metadata": {},
   "outputs": [],
   "source": [
    "def fscore(k_value):\n",
    "    selector = SelectKBest(f_classif,k=k_value)\n",
    "    x_train_f_12 = selector.fit_transform(X_train_BoW_12 ,y_train)\n",
    "    x_test_f_12 = selector.transform(X_valid_BoW_12)\n",
    "\n",
    "    return x_train_f_12, x_test_f_12\n"
   ]
  },
  {
   "cell_type": "markdown",
   "metadata": {},
   "source": [
    "### Compare BoW and TFIDF\n"
   ]
  },
  {
   "cell_type": "code",
   "execution_count": 14,
   "metadata": {},
   "outputs": [],
   "source": [
    "\n",
    "def chi_Tfidf(k_value, X_train_tfidf,X_valid_tfidf):\n",
    "    selector = SelectKBest(chi2,k=k_value)\n",
    "    x_train_chi_Tfidf = selector.fit_transform(X_train_tfidf ,y_train)\n",
    "    x_test_chi_Tfidf = selector.transform(X_valid_tfidf)\n",
    "\n",
    "    return x_train_chi_Tfidf , x_test_chi_Tfidf\n",
    "    \n",
    "def chi_BoW(k_value, X_train_BoW,X_valid_BoW ):\n",
    "    selector = SelectKBest(chi2,k=k_value)\n",
    "    x_train_chi_Bow = selector.fit_transform(X_train_BoW ,y_train)\n",
    "    x_test_chi_Bow = selector.transform(X_valid_BoW)\n",
    "\n",
    "    return x_train_chi_Bow, x_test_chi_Bow\n"
   ]
  },
  {
   "cell_type": "code",
   "execution_count": null,
   "metadata": {},
   "outputs": [],
   "source": [
    "#TFidf vs BoW\n",
    "LR_BoW = []\n",
    "LR_tfidf = []\n",
    "SVM_BoW = []\n",
    "SVM_tfidf = []\n",
    "NB_BoW = []\n",
    "NB_tfidf = []\n",
    "for k in range(200,3000,200):\n",
    "    x_train_chi_Bow, x_test_chi_Bow = chi_BoW(k, X_train_BoW_12, X_valid_BoW_12)\n",
    "    x_train_chi_Tfidf , x_test_chi_Tfidf = chi_Tfidf(k, X_train_tfidf_12,X_valid_tfidf_12)\n",
    "    lr1 = LogisticRegression(max_iter=2000).fit(x_train_chi_Bow, y_train)\n",
    "    LR1_acc = np.mean(cross_val_score(lr1,x_test_chi_Bow,y_valid,cv = 5))\n",
    "    LR_BoW.append(LR1_acc)\n",
    "    lr2 = LogisticRegression(max_iter=2000).fit(x_train_chi_Tfidf, y_train)\n",
    "    LR2_acc = np.mean(cross_val_score(lr2,x_test_chi_Tfidf,y_valid,cv = 5))\n",
    "    LR_tfidf.append(LR2_acc)\n",
    "    clf1 = SVC().fit(x_train_chi_Bow, y_train)\n",
    "    clf1_acc = np.mean(cross_val_score(clf1,x_test_chi_Bow,y_valid,cv = 5))\n",
    "    SVM_BoW.append(clf1_acc)\n",
    "    clf2 = SVC().fit(x_train_chi_Tfidf, y_train)\n",
    "    clf2_acc = np.mean(cross_val_score(clf2,x_test_chi_Tfidf,y_valid,cv = 5))\n",
    "    SVM_tfidf.append(clf2_acc)\n",
    "    nb1 = MultinomialNB().fit(x_train_chi_Bow, y_train)\n",
    "    nb1_acc = np.mean(cross_val_score(nb1,x_test_chi_Bow,y_valid,cv = 5))\n",
    "    NB_BoW.append(nb1_acc)\n",
    "    nb2 = MultinomialNB().fit(x_train_chi_Tfidf, y_train)\n",
    "    nb2_acc = np.mean(cross_val_score(nb2,x_test_chi_Tfidf,y_valid,cv = 5))\n",
    "    NB_tfidf.append(nb2_acc)"
   ]
  },
  {
   "cell_type": "code",
   "execution_count": 21,
   "metadata": {},
   "outputs": [
    {
     "data": {
      "text/plain": [
       "<matplotlib.legend.Legend at 0x1b1f1a5bee0>"
      ]
     },
     "execution_count": 21,
     "metadata": {},
     "output_type": "execute_result"
    },
    {
     "data": {
      "image/png": "[encoded data removed]",
      "text/plain": [
       "<Figure size 432x288 with 1 Axes>"
      ]
     },
     "metadata": {
      "needs_background": "light"
     },
     "output_type": "display_data"
    }
   ],
   "source": [
    "x = np.arange(200,3000,200)\n",
    "y1 = np.array(LR_BoW )\n",
    "y2 = np.array(LR_tfidf)\n",
    "y3 = np.array(SVM_BoW )\n",
    "y4 = np.array(SVM_tfidf)\n",
    "y5 = np.array(NB_BoW )\n",
    "y6 = np.array(NB_tfidf)\n",
    "plt.plot(x, y1) \n",
    "plt.plot(x, y2)\n",
    "plt.plot(x, y3)\n",
    "plt.plot(x, y4) \n",
    "plt.plot(x, y5)\n",
    "plt.plot(x, y6)\n",
    "plt.xlabel(\"K Value\") \n",
    "plt.ylabel(\"Accuracy rate\") \n",
    "plt.title('BoW VS TF-idf')\n",
    "plt.legend(['LR_BoW','LR_TFidf', 'SVM_BoW', 'SVM_TFidf', 'NB_BoW', 'NB_TFidf'],bbox_to_anchor=(1, 0.48))"
   ]
  },
  {
   "cell_type": "markdown",
   "metadata": {},
   "source": [
    "**By obsverving the plots, K = 400 and BoW has the best perfermence.**"
   ]
  },
  {
   "cell_type": "markdown",
   "metadata": {},
   "source": [
    "### Model: Print results\n",
    " "
   ]
  },
  {
   "cell_type": "code",
   "execution_count": 264,
   "metadata": {},
   "outputs": [],
   "source": [
    "#This function print the result of models\n",
    "x_train_chi, x_valid_chi = chi(400)\n",
    "x_train_f, x_valid_f = fscore(400)\n",
    "\n",
    "def print_result(model, x_train, x_test):\n",
    "    y_train_predicted = model.predict(x_train)\n",
    "    ta = np.mean(y_train_predicted == y_train)\n",
    "    print(\"training accuracy \", ta)\n",
    "    va = np.mean(cross_val_score(model,x_test,y_valid,cv = 5))\n",
    "    print('validation accuracy: ' ,va)\n",
    "    #y_predicted = model.predict(x_test)\n",
    "    pa = model.score(x_test, y_valid)\n",
    "    print('prediction accuracy: ', pa)\n",
    "\n",
    "    y_pred = model.predict(x_test)\n",
    "    M_precision = precision_score(y_valid, y_pred, average=\"macro\")\n",
    "    print('Macro Precision: %f ' % M_precision)\n",
    "    M_recall = recall_score(y_valid, y_pred, average=\"macro\")\n",
    "    print('Macro Recall: %f ' % M_recall)\n",
    "    M_f1 = f1_score(y_valid, y_pred, average=\"macro\")\n",
    "    print('Macro F1 score: %f ' % M_f1)\n",
    "\n",
    "    W_precision = precision_score(y_valid, y_pred, average=\"weighted\")\n",
    "    print('Weighted Precision: %f ' % W_precision)\n",
    "    W_recall = recall_score(y_valid, y_pred, average=\"weighted\")\n",
    "    print('Weighted Recall: %f ' % W_recall)\n",
    "    W_f1 = f1_score(y_valid, y_pred, average=\"weighted\")\n",
    "    print('Weighted F1 score: %f ' % W_f1)\n",
    "    cm = confusion_matrix(y_valid, y_pred, labels =model.classes_)\n",
    "    disp =ConfusionMatrixDisplay(confusion_matrix = cm, display_labels =model.classes_ )\n",
    "    disp.plot()\n",
    "\n",
    "    return ta,va,pa,M_precision,M_recall,M_f1,W_precision,W_recall,W_f1\n",
    "\n",
    "ta_chi = []\n",
    "va_chi = []\n",
    "pa_chi = []\n",
    "M_precision_chi = []\n",
    "M_recall_chi = []\n",
    "M_f1_chi = []\n",
    "W_precision_chi = []\n",
    "W_recall_chi = []\n",
    "W_f1_chi = []\n",
    "\n",
    "ta_f = []\n",
    "va_f = []\n",
    "pa_f = []\n",
    "M_precision_f = []\n",
    "M_recall_f = []\n",
    "M_f1_f = []\n",
    "W_precision_f = []\n",
    "W_recall_f = []\n",
    "W_f1_f = []"
   ]
  },
  {
   "cell_type": "markdown",
   "metadata": {},
   "source": [
    "### Model: Logistic Regression"
   ]
  },
  {
   "cell_type": "code",
   "execution_count": null,
   "metadata": {},
   "outputs": [],
   "source": [
    "\n",
    "#Set K = 400\n",
    "x_train_chi_LR, x_test_chi_LR = chi(400)\n",
    "\n",
    "def gs_LogisticRegression(x_train):\n",
    "    parameters_LR = {'solver':('newton-cg','lbfgs','sag','saga'),'C':[0.1,0.2,0.3,0.4,0.5,0.6,0.7,0.8,0.9,1],'multi_class':('auto','ovr','multinomial')}\n",
    "    LR = LogisticRegression(max_iter=2000)\n",
    "    gs = GridSearchCV(LR,parameters_LR)\n",
    "    gs.fit(x_train,y_train)\n",
    "\n",
    "    return gs.best_estimator_, gs.best_score_\n",
    "\n",
    "\n",
    "best_estimator_LR, best_score_LR = gs_LogisticRegression(x_train_chi_LR)\n"
   ]
  },
  {
   "cell_type": "code",
   "execution_count": 30,
   "metadata": {},
   "outputs": [
    {
     "name": "stdout",
     "output_type": "stream",
     "text": [
      "The best estimators area: LogisticRegression(C=1, max_iter=2000, solver='saga')\n",
      "The best score is: 0.6746513859945661\n"
     ]
    }
   ],
   "source": [
    "print(f\"The best estimators area: {best_estimator_LR}\")\n",
    "print(f\"The best score is: {best_score_LR}\")"
   ]
  },
  {
   "cell_type": "code",
   "execution_count": 42,
   "metadata": {},
   "outputs": [],
   "source": [
    "#C, solver, multi_class, penalty, max_iter\n",
    "def logistic_regression(k_value, c_value):\n",
    "    \n",
    "    x_train_chi_final_LR, x_test_chi_final_LR = chi(k_value)\n",
    "    #newton-cg's acc is as same as other solvers, e.g. saga\n",
    "    LR = LogisticRegression(solver= 'saga', C = c_value, max_iter = 2000).fit(x_train_chi_final_LR, y_train)\n",
    "    y_train_predicted = LR.predict(x_train_chi_final_LR)\n",
    "    #print(\"training accuracy \", np.mean(y_train_predicted == y_train))\n",
    "    LR_acc = np.mean(cross_val_score(LR,x_test_chi_final_LR,y_valid,cv = 5))\n",
    "    #print('validation accuracy: ' ,LR_acc)\n",
    "    # y_predicted = LR.predict(x_test_chi)\n",
    "    #print('prediction accuracy: ',LR.score(x_test_chi_final, y_valid))\n",
    "\n",
    "    return np.mean(y_train_predicted == y_train), LR_acc, LR.score(x_test_chi_final_LR, y_valid)\n",
    "\n",
    "#ta_LR, va_LR, pa_LR = logistic_regression(400, 1)"
   ]
  },
  {
   "cell_type": "markdown",
   "metadata": {},
   "source": [
    "**By observing the plots, K = 400**"
   ]
  },
  {
   "cell_type": "code",
   "execution_count": 43,
   "metadata": {},
   "outputs": [
    {
     "data": {
      "image/png": "[encoded data removed]",
      "text/plain": [
       "<Figure size 432x288 with 1 Axes>"
      ]
     },
     "metadata": {
      "needs_background": "light"
     },
     "output_type": "display_data"
    }
   ],
   "source": [
    "#Accuracy when K = 400\n",
    "training_accuracy_list_LR = []\n",
    "validation_accuracy_list_LR = []\n",
    "prediction_accuracy_list_LR = []\n",
    "\n",
    "\n",
    "for i in range(1,11,1):\n",
    "    ta, va, pa = logistic_regression(400, i/10)\n",
    "    training_accuracy_list_LR.append(ta)\n",
    "    validation_accuracy_list_LR.append(va)\n",
    "    prediction_accuracy_list_LR.append(pa)\n",
    "\n",
    "x = np.arange(0.1,1.1,0.1) \n",
    "y1 = np.array(training_accuracy_list_LR)\n",
    "y2 = np.array(validation_accuracy_list_LR)\n",
    "y3 = np.array(prediction_accuracy_list_LR)\n",
    "# PLot\n",
    "plt.plot(x, y1) \n",
    "plt.plot(x, y2)\n",
    "plt.plot(x, y3)\n",
    "# Add Title\n",
    "plt.title(\"Logistic Regression Accuracy (BoW)\") \n",
    "\n",
    "# Add Axes Labels and legend\n",
    "plt.xlabel(\"C Value\") \n",
    "plt.ylabel(\"Accuracy rate\") \n",
    "plt.legend(['Training accuracy','Validation accuracy', 'Prediction accuracy'])\n",
    "# Display\n",
    "plt.show()"
   ]
  },
  {
   "cell_type": "code",
   "execution_count": 44,
   "metadata": {},
   "outputs": [
    {
     "data": {
      "image/png": "[encoded data removed]",
      "text/plain": [
       "<Figure size 432x288 with 1 Axes>"
      ]
     },
     "metadata": {
      "needs_background": "light"
     },
     "output_type": "display_data"
    }
   ],
   "source": [
    "#Accuracy when c = 0.4\n",
    "training_accuracy_list_LR = []\n",
    "validation_accuracy_list_LR = []\n",
    "prediction_accuracy_list_LR = []\n",
    "\n",
    "\n",
    "for i in range(100,1600,100):\n",
    "    ta, va, pa = logistic_regression(i,0.4)\n",
    "    training_accuracy_list_LR.append(ta)\n",
    "    validation_accuracy_list_LR.append(va)\n",
    "    prediction_accuracy_list_LR.append(pa)\n",
    "\n",
    "x = np.arange(100,1600,100) \n",
    "y1 = np.array(training_accuracy_list_LR)\n",
    "y2 = np.array(validation_accuracy_list_LR)\n",
    "y3 = np.array(prediction_accuracy_list_LR)\n",
    "# PLot\n",
    "plt.plot(x, y1) \n",
    "plt.plot(x, y2)\n",
    "plt.plot(x, y3)\n",
    "# Add Title\n",
    "plt.title(\"Logistic Regression Accuracy (BoW)\") \n",
    "\n",
    "# Add Axes Labels and legend\n",
    "plt.xlabel(\"K Value\") \n",
    "plt.ylabel(\"Accuracy rate\") \n",
    "plt.legend(['Training accuracy','Validation accuracy', 'Prediction accuracy'])\n",
    "# Display\n",
    "plt.show()"
   ]
  },
  {
   "cell_type": "code",
   "execution_count": 265,
   "metadata": {},
   "outputs": [
    {
     "name": "stdout",
     "output_type": "stream",
     "text": [
      "Excution time of Logtistic Regression classifier: 0.126 s\n",
      "\n",
      "training accuracy  0.6901318723322928\n",
      "validation accuracy:  0.6584766584766585\n",
      "prediction accuracy:  0.6684684684684684\n",
      "Macro Precision: 0.654097 \n",
      "Macro Recall: 0.530436 \n",
      "Macro F1 score: 0.558428 \n",
      "Weighted Precision: 0.664786 \n",
      "Weighted Recall: 0.668468 \n",
      "Weighted F1 score: 0.640679 \n"
     ]
    },
    {
     "data": {
      "image/png": "[encoded data removed]",
      "text/plain": [
       "<Figure size 432x288 with 2 Axes>"
      ]
     },
     "metadata": {
      "needs_background": "light"
     },
     "output_type": "display_data"
    }
   ],
   "source": [
    "#Finla model: K = 400, c = 0.4\n",
    "#chi\n",
    "x_train_chi, x_valid_chi = chi(400)\n",
    "\n",
    "t0 = time.time()\n",
    "LR_final = LogisticRegression(solver= 'saga', C = 0.4, max_iter = 2000).fit(x_train_chi, y_train)\n",
    "t1 = time.time()-t0\n",
    "print(\"Excution time of Logtistic Regression classifier: {} s\\n\". format(round(t1,3)))\n",
    "\n",
    "ta_chi_LR,va_chi_LR,pa_chi_LR,M_precision_chi_LR,M_recall_chi_LR,M_f1_chi_LR,W_precision_chi_LR,W_recall_chi_LR,W_f1_chi_LR = print_result(LR_final, x_train_chi, x_valid_chi)\n",
    "ta_chi.append(ta_chi_LR)\n",
    "va_chi.append(va_chi_LR)\n",
    "pa_chi.append(pa_chi_LR)\n",
    "M_precision_chi.append(M_precision_chi_LR)\n",
    "M_recall_chi.append(M_recall_chi_LR)\n",
    "M_f1_chi.append(M_f1_chi_LR)\n",
    "W_precision_chi.append(W_precision_chi_LR)\n",
    "W_recall_chi.append(W_recall_chi_LR)\n",
    "W_f1_chi.append(W_f1_chi_LR)"
   ]
  },
  {
   "cell_type": "code",
   "execution_count": 266,
   "metadata": {},
   "outputs": [
    {
     "name": "stdout",
     "output_type": "stream",
     "text": [
      "Excution time of Logtistic Regression classifier: 0.132 s\n",
      "\n",
      "training accuracy  0.6909600560616679\n",
      "validation accuracy:  0.6602784602784603\n",
      "prediction accuracy:  0.666011466011466\n",
      "Macro Precision: 0.649385 \n",
      "Macro Recall: 0.527549 \n",
      "Macro F1 score: 0.555002 \n",
      "Weighted Precision: 0.661635 \n",
      "Weighted Recall: 0.666011 \n",
      "Weighted F1 score: 0.637962 \n"
     ]
    },
    {
     "data": {
      "image/png": "[encoded data removed]",
      "text/plain": [
       "<Figure size 432x288 with 2 Axes>"
      ]
     },
     "metadata": {
      "needs_background": "light"
     },
     "output_type": "display_data"
    }
   ],
   "source": [
    "#fscore\n",
    "x_train_chi, x_valid_chi = chi(400)\n",
    "\n",
    "t0 = time.time()\n",
    "LR_final = LogisticRegression(solver= 'saga', C = 0.4, max_iter = 2000).fit(x_train_f, y_train)\n",
    "t1 = time.time()-t0\n",
    "print(\"Excution time of Logtistic Regression classifier: {} s\\n\". format(round(t1,3)))\n",
    "\n",
    "ta_f_LR,va_f_LR,pa_f_LR,M_precision_f_LR,M_recall_f_LR,M_f1_f_LR,W_precision_f_LR,W_recall_f_LR,W_f1_f_LR = print_result(LR_final, x_train_f, x_valid_f)\n",
    "ta_f.append(ta_f_LR)\n",
    "va_f.append(va_f_LR)\n",
    "pa_f.append(pa_f_LR)\n",
    "M_precision_f.append(M_precision_f_LR)\n",
    "M_recall_f.append(M_recall_f_LR)\n",
    "M_f1_f.append(M_f1_f_LR)\n",
    "W_precision_f.append(W_precision_f_LR)\n",
    "W_recall_f.append(W_recall_f_LR)\n",
    "W_f1_f.append(W_f1_f_LR)"
   ]
  },
  {
   "cell_type": "markdown",
   "metadata": {},
   "source": [
    "### Model: SVM\n",
    "\n"
   ]
  },
  {
   "cell_type": "code",
   "execution_count": null,
   "metadata": {},
   "outputs": [],
   "source": [
    "parameters_svc = {\"kernel\":('linear', 'poly', 'rbf', 'sigmoid'), \"decision_function_shape\":('ovo','ovr')}\n",
    "gs_svc = GridSearchCV(SVC(), param_grid = parameters_svc)  \n",
    "gs_svc.fit(x_train_chi, y_train)"
   ]
  },
  {
   "cell_type": "code",
   "execution_count": 54,
   "metadata": {},
   "outputs": [
    {
     "name": "stdout",
     "output_type": "stream",
     "text": [
      "{'decision_function_shape': 'ovo', 'kernel': 'linear'}\n"
     ]
    }
   ],
   "source": [
    "print(gs_svc.best_params_)"
   ]
  },
  {
   "cell_type": "code",
   "execution_count": 177,
   "metadata": {},
   "outputs": [],
   "source": [
    "#C, kernel, degree, gamma, max_iter, decision_function_shape\n",
    "def svc(c_value):\n",
    "    clf = SVC(kernel=\"linear\", C = c_value, decision_function_shape = 'ovo').fit(x_train_chi, y_train)\n",
    "    y_train_predicted = clf.predict(x_train_chi)\n",
    "    #print(\"training accuracy \", np.mean(y_train_predicted == y_train))\n",
    "    clf_va = np.mean(cross_val_score(clf,x_valid_chi,y_valid,cv = 5))\n",
    "    #print('validation accuracy: ' ,clf_va)\n",
    "    # y_predicted = LR.predict(x_test_chi)\n",
    "    #print('prediction accuracy: ',clf.score(x_test_chi_SVM, y_valid))\n",
    "\n",
    "    return np.mean(y_train_predicted == y_train), clf_va, clf.score(x_valid_chi, y_valid)"
   ]
  },
  {
   "cell_type": "code",
   "execution_count": 60,
   "metadata": {},
   "outputs": [
    {
     "data": {
      "image/png": "[encoded data removed]",
      "text/plain": [
       "<Figure size 432x288 with 1 Axes>"
      ]
     },
     "metadata": {
      "needs_background": "light"
     },
     "output_type": "display_data"
    }
   ],
   "source": [
    "#Accuracy when K = 400\n",
    "training_accuracy_list_SVM = []\n",
    "validation_accuracy_list_SVM = []\n",
    "prediction_accuracy_list_SVM = []\n",
    "\n",
    "\n",
    "for i in range(1,11,1):\n",
    "    ta, va, pa = svc(i/10)\n",
    "    training_accuracy_list_SVM.append(ta)\n",
    "    validation_accuracy_list_SVM.append(va)\n",
    "    prediction_accuracy_list_SVM.append(pa)\n",
    "\n",
    "x = np.arange(0.1,1.1,0.1) \n",
    "y1 = np.array(training_accuracy_list_SVM)\n",
    "y2 = np.array(validation_accuracy_list_SVM)\n",
    "y3 = np.array(prediction_accuracy_list_SVM)\n",
    "# PLot\n",
    "plt.plot(x, y1) \n",
    "plt.plot(x, y2)\n",
    "plt.plot(x, y3)\n",
    "# Add Title\n",
    "plt.title(\"SVM Accuracy (BoW)\") \n",
    "\n",
    "# Add Axes Labels and legend\n",
    "plt.xlabel(\"C Value\") \n",
    "plt.ylabel(\"Accuracy rate\") \n",
    "plt.legend(['Training accuracy','Validation accuracy', 'Prediction accuracy'])\n",
    "# Display\n",
    "plt.show()"
   ]
  },
  {
   "cell_type": "code",
   "execution_count": 267,
   "metadata": {},
   "outputs": [
    {
     "name": "stdout",
     "output_type": "stream",
     "text": [
      "Excution time of SVM classifier: 5.816 s\n",
      "training accuracy  0.6866917245333504\n",
      "validation accuracy:  0.6515970515970517\n",
      "prediction accuracy:  0.6588042588042589\n",
      "Macro Precision: 0.627407 \n",
      "Macro Recall: 0.523475 \n",
      "Macro F1 score: 0.548211 \n",
      "Weighted Precision: 0.649630 \n",
      "Weighted Recall: 0.658804 \n",
      "Weighted F1 score: 0.632546 \n"
     ]
    },
    {
     "data": {
      "image/png": "[encoded data removed]",
      "text/plain": [
       "<Figure size 432x288 with 2 Axes>"
      ]
     },
     "metadata": {
      "needs_background": "light"
     },
     "output_type": "display_data"
    }
   ],
   "source": [
    "#chi\n",
    "x_train_chi, x_valid_chi = chi(400)\n",
    "\n",
    "t0 = time.time()\n",
    "SVM_final = SVC(kernel=\"linear\", C = 0.4, decision_function_shape = 'ovo').fit(x_train_chi, y_train)\n",
    "t1 = time.time()-t0\n",
    "print(\"Excution time of SVM classifier: {} s\". format(round(t1,3)))\n",
    "\n",
    "ta_chi_SVM,va_chi_SVM,pa_chi_SVM,M_precision_chi_SVM,M_recall_chi_SVM,M_f1_chi_SVM,W_precision_chi_SVM,W_recall_chi_SVM,W_f1_chi_SVM = print_result(SVM_final, x_train_chi, x_valid_chi)\n",
    "ta_chi.append(ta_chi_SVM)\n",
    "va_chi.append(va_chi_SVM)\n",
    "pa_chi.append(pa_chi_SVM)\n",
    "M_precision_chi.append(M_precision_chi_SVM)\n",
    "M_recall_chi.append(M_recall_chi_SVM)\n",
    "M_f1_chi.append(M_f1_chi_SVM)\n",
    "W_precision_chi.append(W_precision_chi_SVM)\n",
    "W_recall_chi.append(W_recall_chi_SVM)\n",
    "W_f1_chi.append(W_f1_chi_SVM)"
   ]
  },
  {
   "cell_type": "code",
   "execution_count": 268,
   "metadata": {},
   "outputs": [
    {
     "name": "stdout",
     "output_type": "stream",
     "text": [
      "Excution time of SVM classifier: 5.69 s\n",
      "training accuracy  0.6876473211441677\n",
      "validation accuracy:  0.6515970515970517\n",
      "prediction accuracy:  0.6565110565110565\n",
      "Macro Precision: 0.622619 \n",
      "Macro Recall: 0.522959 \n",
      "Macro F1 score: 0.547180 \n",
      "Weighted Precision: 0.646399 \n",
      "Weighted Recall: 0.656511 \n",
      "Weighted F1 score: 0.630968 \n"
     ]
    },
    {
     "data": {
      "image/png": "[encoded data removed]",
      "text/plain": [
       "<Figure size 432x288 with 2 Axes>"
      ]
     },
     "metadata": {
      "needs_background": "light"
     },
     "output_type": "display_data"
    }
   ],
   "source": [
    "#f-score\n",
    "x_train_chi, x_valid_chi = chi(400)\n",
    "\n",
    "t0 = time.time()\n",
    "SVM_final = SVC(kernel=\"linear\", C = 0.4, decision_function_shape = 'ovo').fit(x_train_f, y_train)\n",
    "t1 = time.time()-t0\n",
    "\n",
    "print(\"Excution time of SVM classifier: {} s\". format(round(t1,3)))\n",
    "ta_f_SVM,va_f_SVM,pa_f_SVM,M_precision_f_SVM,M_recall_f_SVM,M_f1_f_SVM,W_precision_f_SVM,W_recall_f_SVM,W_f1_f_SVM = print_result(SVM_final, x_train_f, x_valid_f)\n",
    "ta_f.append(ta_f_SVM)\n",
    "va_f.append(va_f_SVM)\n",
    "pa_f.append(pa_f_SVM)\n",
    "M_precision_f.append(M_precision_f_SVM)\n",
    "M_recall_f.append(M_recall_f_SVM)\n",
    "M_f1_f.append(M_f1_f_SVM)\n",
    "W_precision_f.append(W_precision_f_SVM)\n",
    "W_recall_f.append(W_recall_f_SVM)\n",
    "W_f1_f.append(W_f1_f_SVM)"
   ]
  },
  {
   "cell_type": "markdown",
   "metadata": {},
   "source": [
    "### Model: Multi-nominal Naive Bayes"
   ]
  },
  {
   "cell_type": "code",
   "execution_count": 68,
   "metadata": {},
   "outputs": [
    {
     "data": {
      "text/plain": [
       "GridSearchCV(estimator=MultinomialNB(),\n",
       "             param_grid={'alpha': array([0.0001    , 0.00060201, 0.00110402, 0.00160603, 0.00210804,\n",
       "       0.00261005, 0.00311206, 0.00361407, 0.00411608, 0.00461809,\n",
       "       0.0051201 , 0.00562211, 0.00612412, 0.00662613, 0.00712814,\n",
       "       0.00763015, 0.00813216, 0.00863417, 0.00913618, 0.00963819,\n",
       "       0.0101402 , 0.01064221, 0.01114422, 0.01164623, 0.01214824,\n",
       "       0.01265025, 0.01...\n",
       "       0.08293166, 0.08343367, 0.08393568, 0.08443769, 0.0849397 ,\n",
       "       0.08544171, 0.08594372, 0.08644573, 0.08694774, 0.08744975,\n",
       "       0.08795176, 0.08845377, 0.08895578, 0.08945779, 0.0899598 ,\n",
       "       0.09046181, 0.09096382, 0.09146583, 0.09196784, 0.09246985,\n",
       "       0.09297186, 0.09347387, 0.09397588, 0.09447789, 0.0949799 ,\n",
       "       0.09548191, 0.09598392, 0.09648593, 0.09698794, 0.09748995,\n",
       "       0.09799196, 0.09849397, 0.09899598, 0.09949799, 0.1       ])})"
      ]
     },
     "execution_count": 68,
     "metadata": {},
     "output_type": "execute_result"
    }
   ],
   "source": [
    "parameters_MNB = {\"alpha\":np.linspace(0.0001,0.1,200)}\n",
    "gs_MNB = GridSearchCV(MultinomialNB(), param_grid = parameters_MNB)  \n",
    "gs_MNB.fit(x_train_chi, y_train)"
   ]
  },
  {
   "cell_type": "code",
   "execution_count": 83,
   "metadata": {},
   "outputs": [
    {
     "data": {
      "text/plain": [
       "MultinomialNB(alpha=0.024698492462311556)"
      ]
     },
     "execution_count": 83,
     "metadata": {},
     "output_type": "execute_result"
    }
   ],
   "source": [
    "gs_MNB.best_estimator_"
   ]
  },
  {
   "cell_type": "code",
   "execution_count": 269,
   "metadata": {},
   "outputs": [
    {
     "name": "stdout",
     "output_type": "stream",
     "text": [
      "Excution time of Multi-nominal Naive Bayes classifier: 0.012 s\n",
      "training accuracy  0.6710199401159457\n",
      "validation accuracy:  0.6420966420966421\n",
      "prediction accuracy:  0.6507780507780507\n",
      "Macro Precision: 0.611245 \n",
      "Macro Recall: 0.566472 \n",
      "Macro F1 score: 0.582301 \n",
      "Weighted Precision: 0.644567 \n",
      "Weighted Recall: 0.650778 \n",
      "Weighted F1 score: 0.641758 \n"
     ]
    },
    {
     "data": {
      "image/png": "[encoded data removed]",
      "text/plain": [
       "<Figure size 432x288 with 2 Axes>"
      ]
     },
     "metadata": {
      "needs_background": "light"
     },
     "output_type": "display_data"
    }
   ],
   "source": [
    "x_train_chi, x_valid_chi = chi(400)\n",
    "\n",
    "t0 = time.time()\n",
    "MNB_final = MultinomialNB(alpha = 0.024698492462311556).fit(x_train_chi, y_train)\n",
    "t1 = time.time()-t0\n",
    "print(\"Excution time of Multi-nominal Naive Bayes classifier: {} s\". format(round(t1,3)))\n",
    "\n",
    "ta_chi_MNB,va_chi_MNB,pa_chi_MNB,M_precision_chi_MNB,M_recall_chi_MNB,M_f1_chi_MNB,W_precision_chi_MNB,W_recall_chi_MNB,W_f1_chi_MNB = print_result(MNB_final, x_train_chi, x_valid_chi)\n",
    "ta_chi.append(ta_chi_MNB)\n",
    "va_chi.append(va_chi_MNB)\n",
    "pa_chi.append(pa_chi_MNB)\n",
    "M_precision_chi.append(M_precision_chi_MNB)\n",
    "M_recall_chi.append(M_recall_chi_MNB)\n",
    "M_f1_chi.append(M_f1_chi_MNB)\n",
    "W_precision_chi.append(W_precision_chi_MNB)\n",
    "W_recall_chi.append(W_recall_chi_MNB)\n",
    "W_f1_chi.append(W_f1_chi_MNB)"
   ]
  },
  {
   "cell_type": "code",
   "execution_count": 270,
   "metadata": {},
   "outputs": [
    {
     "name": "stdout",
     "output_type": "stream",
     "text": [
      "Excution time of Multi-nominal Naive Bayes classifier: 0.011 s\n",
      "training accuracy  0.6736319041855131\n",
      "validation accuracy:  0.6465192465192464\n",
      "prediction accuracy:  0.650941850941851\n",
      "Macro Precision: 0.611894 \n",
      "Macro Recall: 0.564414 \n",
      "Macro F1 score: 0.581032 \n",
      "Weighted Precision: 0.644376 \n",
      "Weighted Recall: 0.650942 \n",
      "Weighted F1 score: 0.641254 \n"
     ]
    },
    {
     "data": {
      "image/png": "[encoded data removed]",
      "text/plain": [
       "<Figure size 432x288 with 2 Axes>"
      ]
     },
     "metadata": {
      "needs_background": "light"
     },
     "output_type": "display_data"
    }
   ],
   "source": [
    "x_train_chi, x_valid_chi = chi(400)\n",
    "\n",
    "t0 = time.time()\n",
    "MNB_final = MultinomialNB(alpha = 0.024698492462311556).fit(x_train_f, y_train)\n",
    "t1 = time.time()-t0\n",
    "print(\"Excution time of Multi-nominal Naive Bayes classifier: {} s\". format(round(t1,3)))\n",
    "\n",
    "ta_f_MNB,va_f_MNB,pa_f_MNB,M_precision_f_MNB,M_recall_f_MNB,M_f1_f_MNB,W_precision_f_MNB,W_recall_f_MNB,W_f1_f_MNB = print_result(MNB_final, x_train_f, x_valid_f)\n",
    "ta_f.append(ta_f_MNB)\n",
    "va_f.append(va_f_MNB)\n",
    "pa_f.append(pa_f_MNB)\n",
    "M_precision_f.append(M_precision_f_MNB)\n",
    "M_recall_f.append(M_recall_f_MNB)\n",
    "M_f1_f.append(M_f1_f_MNB)\n",
    "W_precision_f.append(W_precision_f_MNB)\n",
    "W_recall_f.append(W_recall_f_MNB)\n",
    "W_f1_f.append(W_f1_f_MNB)"
   ]
  },
  {
   "cell_type": "markdown",
   "metadata": {},
   "source": [
    "### Model: Random Forest"
   ]
  },
  {
   "cell_type": "code",
   "execution_count": 107,
   "metadata": {},
   "outputs": [
    {
     "data": {
      "text/plain": [
       "GridSearchCV(estimator=RandomForestClassifier(),\n",
       "             param_grid={'criterion': ('gini', 'entropy'),\n",
       "                         'max_depth': [40, 50, 60, 70],\n",
       "                         'min_samples_leaf': [1, 3, 5],\n",
       "                         'min_samples_split': [2, 4, 6],\n",
       "                         'n_estimators': [100, 200, 300, 400]})"
      ]
     },
     "execution_count": 107,
     "metadata": {},
     "output_type": "execute_result"
    }
   ],
   "source": [
    "x_train_chi_RF, x_test_chi_RF = chi(400)\n",
    "parameters_RF = {\"n_estimators\":[100,200,300,400], \"criterion\": ('gini', 'entropy'), \"max_depth\":[40,50,60,70], \"min_samples_split\":[2,4,6], \"min_samples_leaf\":[1,3,5]}\n",
    "gs_RF = GridSearchCV(RandomForestClassifier(), param_grid = parameters_RF)  \n",
    "gs_RF.fit(x_train_chi_RF, y_train)"
   ]
  },
  {
   "cell_type": "code",
   "execution_count": 108,
   "metadata": {},
   "outputs": [
    {
     "data": {
      "text/plain": [
       "RandomForestClassifier(max_depth=70, min_samples_leaf=3, n_estimators=300)"
      ]
     },
     "execution_count": 108,
     "metadata": {},
     "output_type": "execute_result"
    }
   ],
   "source": [
    "gs_RF.best_estimator_"
   ]
  },
  {
   "cell_type": "code",
   "execution_count": 271,
   "metadata": {},
   "outputs": [
    {
     "name": "stdout",
     "output_type": "stream",
     "text": [
      "Excution time of Random Forest classifier: 2.147 s\n",
      "training accuracy  0.698732241829649\n",
      "validation accuracy:  0.6501228501228502\n",
      "prediction accuracy:  0.6563472563472563\n",
      "Macro Precision: 0.639205 \n",
      "Macro Recall: 0.498863 \n",
      "Macro F1 score: 0.519186 \n",
      "Weighted Precision: 0.649797 \n",
      "Weighted Recall: 0.656347 \n",
      "Weighted F1 score: 0.617851 \n"
     ]
    },
    {
     "data": {
      "image/png": "[encoded data removed]",
      "text/plain": [
       "<Figure size 432x288 with 2 Axes>"
      ]
     },
     "metadata": {
      "needs_background": "light"
     },
     "output_type": "display_data"
    }
   ],
   "source": [
    "x_train_chi, x_valid_chi = chi(400)\n",
    "\n",
    "t0 = time.time()\n",
    "RF_final = RandomForestClassifier(max_depth=70, min_samples_leaf=2, n_estimators=250).fit(x_train_chi, y_train)\n",
    "t1 = time.time()-t0\n",
    "print(\"Excution time of Random Forest classifier: {} s\". format(round(t1,3)))\n",
    "\n",
    "ta_chi_RF,va_chi_RF,pa_chi_RF,M_precision_chi_RF,M_recall_chi_RF,M_f1_chi_RF,W_precision_chi_RF,W_recall_chi_RF,W_f1_chi_RF = print_result(RF_final, x_train_chi, x_valid_chi)\n",
    "ta_chi.append(ta_chi_RF)\n",
    "va_chi.append(va_chi_RF)\n",
    "pa_chi.append(pa_chi_RF)\n",
    "M_precision_chi.append(M_precision_chi_RF)\n",
    "M_recall_chi.append(M_recall_chi_RF)\n",
    "M_f1_chi.append(M_f1_chi_RF)\n",
    "W_precision_chi.append(W_precision_chi_RF)\n",
    "W_recall_chi.append(W_recall_chi_RF)\n",
    "W_f1_chi.append(W_f1_chi_RF)\n"
   ]
  },
  {
   "cell_type": "code",
   "execution_count": 272,
   "metadata": {},
   "outputs": [
    {
     "name": "stdout",
     "output_type": "stream",
     "text": [
      "Excution time of Random Forest classifier: 2.09 s\n",
      "training accuracy  0.698732241829649\n",
      "validation accuracy:  0.6511056511056511\n",
      "prediction accuracy:  0.6563472563472563\n",
      "Macro Precision: 0.640806 \n",
      "Macro Recall: 0.498477 \n",
      "Macro F1 score: 0.518961 \n",
      "Weighted Precision: 0.650507 \n",
      "Weighted Recall: 0.656347 \n",
      "Weighted F1 score: 0.617619 \n"
     ]
    },
    {
     "data": {
      "image/png": "[encoded data removed]",
      "text/plain": [
       "<Figure size 432x288 with 2 Axes>"
      ]
     },
     "metadata": {
      "needs_background": "light"
     },
     "output_type": "display_data"
    }
   ],
   "source": [
    "#fscore\n",
    "x_train_chi, x_valid_chi = chi(400)\n",
    "\n",
    "t0 = time.time()\n",
    "RF_final = RandomForestClassifier(max_depth=70, min_samples_leaf=2, n_estimators=250).fit(x_train_f, y_train)\n",
    "t1 = time.time()-t0\n",
    "print(\"Excution time of Random Forest classifier: {} s\". format(round(t1,3)))\n",
    "\n",
    "ta_f_RF,va_f_RF,pa_f_RF,M_precision_f_RF,M_recall_f_RF,M_f1_f_RF,W_precision_f_RF,W_recall_f_RF,W_f1_f_RF = print_result(RF_final, x_train_f, x_valid_f)\n",
    "ta_f.append(ta_f_RF)\n",
    "va_f.append(va_f_RF)\n",
    "pa_f.append(pa_f_RF)\n",
    "M_precision_f.append(M_precision_f_RF)\n",
    "M_recall_f.append(M_recall_f_RF)\n",
    "M_f1_f.append(M_f1_f_RF)\n",
    "W_precision_f.append(W_precision_f_RF)\n",
    "W_recall_f.append(W_recall_f_RF)\n",
    "W_f1_f.append(W_f1_f_RF)"
   ]
  },
  {
   "cell_type": "markdown",
   "metadata": {},
   "source": [
    "### Model: Stacking"
   ]
  },
  {
   "cell_type": "code",
   "execution_count": 281,
   "metadata": {},
   "outputs": [],
   "source": [
    "x_train_chi, x_valid_chi = chi(400)\n",
    "\n",
    "estimator = [('lr', LogisticRegression(solver= 'saga', C = 0.4)),\n",
    "            ('svc', SVC(kernel=\"linear\", C = 0.4)),\n",
    "            ('nb',  MultinomialNB(alpha = 0.024698492462311556),\n",
    "            ('RF', RandomForestClassifier(max_depth=70, min_samples_leaf=2, n_estimators=250))\n",
    "            )]\n",
    "clf2 = StackingClassifier(estimators= estimator, final_estimator=LogisticRegression(solver= 'saga'))\n"
   ]
  },
  {
   "cell_type": "code",
   "execution_count": 282,
   "metadata": {},
   "outputs": [
    {
     "name": "stdout",
     "output_type": "stream",
     "text": [
      "Excution time of Stacking classifier: 27.857 s\n",
      "training accuracy  0.6952283875899854\n",
      "validation accuracy:  0.6651924651924651\n",
      "prediction accuracy:  0.6707616707616708\n",
      "Macro Precision: 0.648190 \n",
      "Macro Recall: 0.546267 \n",
      "Macro F1 score: 0.573628 \n",
      "Weighted Precision: 0.664881 \n",
      "Weighted Recall: 0.670762 \n",
      "Weighted F1 score: 0.649179 \n"
     ]
    },
    {
     "data": {
      "image/png": "[encoded data removed]",
      "text/plain": [
       "<Figure size 432x288 with 2 Axes>"
      ]
     },
     "metadata": {
      "needs_background": "light"
     },
     "output_type": "display_data"
    }
   ],
   "source": [
    "t0 = time.time()\n",
    "S_final = clf2.fit(x_train_chi, y_train)\n",
    "t1 = time.time()-t0\n",
    "print(\"Excution time of Stacking classifier: {} s\". format(round(t1,3)))\n",
    "\n",
    "ta_chi_S,va_chi_S,pa_chi_S,M_precision_chi_S,M_recall_chi_S,M_f1_chi_S,W_precision_chi_S,W_recall_chi_S,W_f1_chi_S = print_result(S_final, x_train_chi, x_valid_chi)\n",
    "ta_chi.append(ta_chi_S)\n",
    "va_chi.append(va_chi_S)\n",
    "pa_chi.append(pa_chi_S)\n",
    "M_precision_chi.append(M_precision_chi_S)\n",
    "M_recall_chi.append(M_recall_chi_S)\n",
    "M_f1_chi.append(M_f1_chi_S)\n",
    "W_precision_chi.append(W_precision_chi_S)\n",
    "W_recall_chi.append(W_recall_chi_S)\n",
    "W_f1_chi.append(W_f1_chi_S)\n"
   ]
  },
  {
   "cell_type": "code",
   "execution_count": 274,
   "metadata": {},
   "outputs": [
    {
     "name": "stdout",
     "output_type": "stream",
     "text": [
      "Excution time of Stacking classifier: 8.579 s\n",
      "training accuracy  0.7721220615404217\n",
      "validation accuracy:  0.6461916461916463\n",
      "prediction accuracy:  0.6583128583128584\n",
      "Macro Precision: 0.633177 \n",
      "Macro Recall: 0.511508 \n",
      "Macro F1 score: 0.535244 \n",
      "Weighted Precision: 0.649599 \n",
      "Weighted Recall: 0.658313 \n",
      "Weighted F1 score: 0.626164 \n"
     ]
    },
    {
     "data": {
      "image/png": "[encoded data removed]",
      "text/plain": [
       "<Figure size 432x288 with 2 Axes>"
      ]
     },
     "metadata": {
      "needs_background": "light"
     },
     "output_type": "display_data"
    }
   ],
   "source": [
    "x_train_chi, x_valid_chi = chi(400)\n",
    "\n",
    "t0 = time.time()\n",
    "S_final = clf2.fit(x_train_f, y_train)\n",
    "t1 = time.time()-t0\n",
    "print(\"Excution time of Stacking classifier: {} s\". format(round(t1,3)))\n",
    "\n",
    "ta_f_S,va_f_S,pa_f_S,M_precision_f_S,M_recall_f_S,M_f1_f_S,W_precision_f_S,W_recall_f_S,W_f1_f_S = print_result(S_final, x_train_f, x_valid_f)\n",
    "ta_f.append(ta_f_S)\n",
    "va_f.append(va_f_S)\n",
    "pa_f.append(pa_f_S)\n",
    "M_precision_f.append(M_precision_f_S)\n",
    "M_recall_f.append(M_recall_f_S)\n",
    "M_f1_f.append(M_f1_f_S)\n",
    "W_precision_f.append(W_precision_f_S)\n",
    "W_recall_f.append(W_recall_f_S)\n",
    "W_f1_f.append(W_f1_f_S)"
   ]
  },
  {
   "cell_type": "code",
   "execution_count": 276,
   "metadata": {},
   "outputs": [],
   "source": [
    "#lr, svm, mnb, rf, s\n",
    "chi_list = []\n",
    "chi_columns = []\n",
    "chi_index = []\n",
    "chi_list.append(ta_chi)\n",
    "chi_list.append(va_chi)\n",
    "chi_list.append(pa_chi)\n",
    "chi_list.append(M_precision_chi)\n",
    "chi_list.append(M_recall_chi)\n",
    "chi_list.append(M_f1_chi)\n",
    "chi_list.append(W_precision_chi)\n",
    "chi_list.append(W_recall_chi)\n",
    "chi_list.append(W_f1_chi)\n",
    "chi_columns = ['Logistic Regression', 'SVM', 'MNB','Random Forest', 'Staking']\n",
    "chi_index = ['Training Accuracy', 'Validation Accuray', 'Prediction Accuracy', 'Macro Precision', 'Macro Recall', 'Macro F1-score', \n",
    "'Weighted Precision', 'Weighted Recall', 'Weighted F1-score']\n",
    "chi_np_list = np.array(chi_list)\n",
    "chi_df = pd.DataFrame(chi_np_list,columns=chi_columns, index = chi_index)\n",
    "\n",
    "f_list = []\n",
    "f_columns = []\n",
    "f_index = []\n",
    "f_list.append(ta_f)\n",
    "f_list.append(va_f)\n",
    "f_list.append(pa_f)\n",
    "f_list.append(M_precision_f)\n",
    "f_list.append(M_recall_f)\n",
    "f_list.append(M_f1_f)\n",
    "f_list.append(W_precision_f)\n",
    "f_list.append(W_recall_f)\n",
    "f_list.append(W_f1_f)\n",
    "f_columns = ['Logistic Regression', 'SVM', 'MNB','Random Forest', 'Staking']\n",
    "f_index = ['Training Accuracy', 'Validation Accuray', 'Prediction Accuracy', 'Macro Precision', 'Macro Recall', 'Macro F1-score', \n",
    "'Weighted Precision', 'Weighted Recall', 'Weighted F1-score']\n",
    "f_np_list = np.array(f_list)\n",
    "f_df = pd.DataFrame(f_np_list,columns=f_columns, index=f_index)\n"
   ]
  },
  {
   "cell_type": "code",
   "execution_count": 279,
   "metadata": {},
   "outputs": [
    {
     "data": {
      "text/html": [
       "<div>\n",
       "<style scoped>\n",
       "    .dataframe tbody tr th:only-of-type {\n",
       "        vertical-align: middle;\n",
       "    }\n",
       "\n",
       "    .dataframe tbody tr th {\n",
       "        vertical-align: top;\n",
       "    }\n",
       "\n",
       "    .dataframe thead th {\n",
       "        text-align: right;\n",
       "    }\n",
       "</style>\n",
       "<table border=\"1\" class=\"dataframe\">\n",
       "  <thead>\n",
       "    <tr style=\"text-align: right;\">\n",
       "      <th></th>\n",
       "      <th>Logistic Regression</th>\n",
       "      <th>SVM</th>\n",
       "      <th>MNB</th>\n",
       "      <th>Random Forest</th>\n",
       "      <th>Staking</th>\n",
       "    </tr>\n",
       "  </thead>\n",
       "  <tbody>\n",
       "    <tr>\n",
       "      <th>Training Accuracy</th>\n",
       "      <td>0.690132</td>\n",
       "      <td>0.686692</td>\n",
       "      <td>0.671020</td>\n",
       "      <td>0.698732</td>\n",
       "      <td>0.771421</td>\n",
       "    </tr>\n",
       "    <tr>\n",
       "      <th>Validation Accuray</th>\n",
       "      <td>0.658477</td>\n",
       "      <td>0.651597</td>\n",
       "      <td>0.642097</td>\n",
       "      <td>0.650123</td>\n",
       "      <td>0.647338</td>\n",
       "    </tr>\n",
       "    <tr>\n",
       "      <th>Prediction Accuracy</th>\n",
       "      <td>0.668468</td>\n",
       "      <td>0.658804</td>\n",
       "      <td>0.650778</td>\n",
       "      <td>0.656347</td>\n",
       "      <td>0.660442</td>\n",
       "    </tr>\n",
       "    <tr>\n",
       "      <th>Macro Precision</th>\n",
       "      <td>0.654097</td>\n",
       "      <td>0.627407</td>\n",
       "      <td>0.611245</td>\n",
       "      <td>0.639205</td>\n",
       "      <td>0.637614</td>\n",
       "    </tr>\n",
       "    <tr>\n",
       "      <th>Macro Recall</th>\n",
       "      <td>0.530436</td>\n",
       "      <td>0.523475</td>\n",
       "      <td>0.566472</td>\n",
       "      <td>0.498863</td>\n",
       "      <td>0.511449</td>\n",
       "    </tr>\n",
       "    <tr>\n",
       "      <th>Macro F1-score</th>\n",
       "      <td>0.558428</td>\n",
       "      <td>0.548211</td>\n",
       "      <td>0.582301</td>\n",
       "      <td>0.519186</td>\n",
       "      <td>0.534953</td>\n",
       "    </tr>\n",
       "    <tr>\n",
       "      <th>Weighted Precision</th>\n",
       "      <td>0.664786</td>\n",
       "      <td>0.649630</td>\n",
       "      <td>0.644567</td>\n",
       "      <td>0.649797</td>\n",
       "      <td>0.652443</td>\n",
       "    </tr>\n",
       "    <tr>\n",
       "      <th>Weighted Recall</th>\n",
       "      <td>0.668468</td>\n",
       "      <td>0.658804</td>\n",
       "      <td>0.650778</td>\n",
       "      <td>0.656347</td>\n",
       "      <td>0.660442</td>\n",
       "    </tr>\n",
       "    <tr>\n",
       "      <th>Weighted F1-score</th>\n",
       "      <td>0.640679</td>\n",
       "      <td>0.632546</td>\n",
       "      <td>0.641758</td>\n",
       "      <td>0.617851</td>\n",
       "      <td>0.627224</td>\n",
       "    </tr>\n",
       "  </tbody>\n",
       "</table>\n",
       "</div>"
      ],
      "text/plain": [
       "                     Logistic Regression       SVM       MNB  Random Forest  \\\n",
       "Training Accuracy               0.690132  0.686692  0.671020       0.698732   \n",
       "Validation Accuray              0.658477  0.651597  0.642097       0.650123   \n",
       "Prediction Accuracy             0.668468  0.658804  0.650778       0.656347   \n",
       "Macro Precision                 0.654097  0.627407  0.611245       0.639205   \n",
       "Macro Recall                    0.530436  0.523475  0.566472       0.498863   \n",
       "Macro F1-score                  0.558428  0.548211  0.582301       0.519186   \n",
       "Weighted Precision              0.664786  0.649630  0.644567       0.649797   \n",
       "Weighted Recall                 0.668468  0.658804  0.650778       0.656347   \n",
       "Weighted F1-score               0.640679  0.632546  0.641758       0.617851   \n",
       "\n",
       "                      Staking  \n",
       "Training Accuracy    0.771421  \n",
       "Validation Accuray   0.647338  \n",
       "Prediction Accuracy  0.660442  \n",
       "Macro Precision      0.637614  \n",
       "Macro Recall         0.511449  \n",
       "Macro F1-score       0.534953  \n",
       "Weighted Precision   0.652443  \n",
       "Weighted Recall      0.660442  \n",
       "Weighted F1-score    0.627224  "
      ]
     },
     "metadata": {},
     "output_type": "display_data"
    },
    {
     "data": {
      "text/html": [
       "<div>\n",
       "<style scoped>\n",
       "    .dataframe tbody tr th:only-of-type {\n",
       "        vertical-align: middle;\n",
       "    }\n",
       "\n",
       "    .dataframe tbody tr th {\n",
       "        vertical-align: top;\n",
       "    }\n",
       "\n",
       "    .dataframe thead th {\n",
       "        text-align: right;\n",
       "    }\n",
       "</style>\n",
       "<table border=\"1\" class=\"dataframe\">\n",
       "  <thead>\n",
       "    <tr style=\"text-align: right;\">\n",
       "      <th></th>\n",
       "      <th>Logistic Regression</th>\n",
       "      <th>SVM</th>\n",
       "      <th>MNB</th>\n",
       "      <th>Random Forest</th>\n",
       "      <th>Staking</th>\n",
       "    </tr>\n",
       "  </thead>\n",
       "  <tbody>\n",
       "    <tr>\n",
       "      <th>Training Accuracy</th>\n",
       "      <td>0.690960</td>\n",
       "      <td>0.687647</td>\n",
       "      <td>0.673632</td>\n",
       "      <td>0.698732</td>\n",
       "      <td>0.772122</td>\n",
       "    </tr>\n",
       "    <tr>\n",
       "      <th>Validation Accuray</th>\n",
       "      <td>0.660278</td>\n",
       "      <td>0.651597</td>\n",
       "      <td>0.646519</td>\n",
       "      <td>0.651106</td>\n",
       "      <td>0.646192</td>\n",
       "    </tr>\n",
       "    <tr>\n",
       "      <th>Prediction Accuracy</th>\n",
       "      <td>0.666011</td>\n",
       "      <td>0.656511</td>\n",
       "      <td>0.650942</td>\n",
       "      <td>0.656347</td>\n",
       "      <td>0.658313</td>\n",
       "    </tr>\n",
       "    <tr>\n",
       "      <th>Macro Precision</th>\n",
       "      <td>0.649385</td>\n",
       "      <td>0.622619</td>\n",
       "      <td>0.611894</td>\n",
       "      <td>0.640806</td>\n",
       "      <td>0.633177</td>\n",
       "    </tr>\n",
       "    <tr>\n",
       "      <th>Macro Recall</th>\n",
       "      <td>0.527549</td>\n",
       "      <td>0.522959</td>\n",
       "      <td>0.564414</td>\n",
       "      <td>0.498477</td>\n",
       "      <td>0.511508</td>\n",
       "    </tr>\n",
       "    <tr>\n",
       "      <th>Macro F1-score</th>\n",
       "      <td>0.555002</td>\n",
       "      <td>0.547180</td>\n",
       "      <td>0.581032</td>\n",
       "      <td>0.518961</td>\n",
       "      <td>0.535244</td>\n",
       "    </tr>\n",
       "    <tr>\n",
       "      <th>Weighted Precision</th>\n",
       "      <td>0.661635</td>\n",
       "      <td>0.646399</td>\n",
       "      <td>0.644376</td>\n",
       "      <td>0.650507</td>\n",
       "      <td>0.649599</td>\n",
       "    </tr>\n",
       "    <tr>\n",
       "      <th>Weighted Recall</th>\n",
       "      <td>0.666011</td>\n",
       "      <td>0.656511</td>\n",
       "      <td>0.650942</td>\n",
       "      <td>0.656347</td>\n",
       "      <td>0.658313</td>\n",
       "    </tr>\n",
       "    <tr>\n",
       "      <th>Weighted F1-score</th>\n",
       "      <td>0.637962</td>\n",
       "      <td>0.630968</td>\n",
       "      <td>0.641254</td>\n",
       "      <td>0.617619</td>\n",
       "      <td>0.626164</td>\n",
       "    </tr>\n",
       "  </tbody>\n",
       "</table>\n",
       "</div>"
      ],
      "text/plain": [
       "                     Logistic Regression       SVM       MNB  Random Forest  \\\n",
       "Training Accuracy               0.690960  0.687647  0.673632       0.698732   \n",
       "Validation Accuray              0.660278  0.651597  0.646519       0.651106   \n",
       "Prediction Accuracy             0.666011  0.656511  0.650942       0.656347   \n",
       "Macro Precision                 0.649385  0.622619  0.611894       0.640806   \n",
       "Macro Recall                    0.527549  0.522959  0.564414       0.498477   \n",
       "Macro F1-score                  0.555002  0.547180  0.581032       0.518961   \n",
       "Weighted Precision              0.661635  0.646399  0.644376       0.650507   \n",
       "Weighted Recall                 0.666011  0.656511  0.650942       0.656347   \n",
       "Weighted F1-score               0.637962  0.630968  0.641254       0.617619   \n",
       "\n",
       "                      Staking  \n",
       "Training Accuracy    0.772122  \n",
       "Validation Accuray   0.646192  \n",
       "Prediction Accuracy  0.658313  \n",
       "Macro Precision      0.633177  \n",
       "Macro Recall         0.511508  \n",
       "Macro F1-score       0.535244  \n",
       "Weighted Precision   0.649599  \n",
       "Weighted Recall      0.658313  \n",
       "Weighted F1-score    0.626164  "
      ]
     },
     "metadata": {},
     "output_type": "display_data"
    }
   ],
   "source": [
    "\n",
    "display(chi_df)\n",
    "display(f_df)"
   ]
  }
 ],
 "metadata": {
  "kernelspec": {
   "display_name": "Python 3",
   "language": "python",
   "name": "python3"
  },
  "language_info": {
   "codemirror_mode": {
    "name": "ipython",
    "version": 3
   },
   "file_extension": ".py",
   "mimetype": "text/x-python",
   "name": "python",
   "nbconvert_exporter": "python",
   "pygments_lexer": "ipython3",
   "version": "3.10.2"
  }
 },
 "nbformat": 4,
 "nbformat_minor": 4
}
