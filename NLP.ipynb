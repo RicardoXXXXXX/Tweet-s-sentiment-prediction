{
 "cells": [
  {
   "cell_type": "markdown",
   "metadata": {},
   "source": [
    "##### The University of Melbourne, School of Computing and Information Systems\n",
    "# COMP30027 Machine Learning, 2022 Semester 1\n",
    "\n",
    "## Assignment 2: Sentiment Classification of Tweets"
   ]
  },
  {
   "cell_type": "code",
   "execution_count": 1,
   "metadata": {},
   "outputs": [],
   "source": [
    "#--IMPORTANT--#\n",
    "#-- Please use 'pip install <missed-pakage>' to download the needed pakage. --#\n",
    "#-- For loading the file, please put the .csv file and .ipynb file in the same folder --#\n",
    "#-- Python 3.10.2 is recomended --#\n",
    "#-- Grid search is used in this project, for saving time, please don't run thoes codes --#\n",
    "#-- Note: Due to the algorithm, the result of Random Forest changes each time --#\n",
    "#-----------------------------------------------------------------------------#\n",
    "import pandas as pd\n",
    "from random import sample\n",
    "from IPython.display import display\n",
    "import matplotlib.pyplot as plt\n",
    "import numpy as np\n",
    "import nltk\n",
    "# nltk.download('stopwords')\n",
    "# nltk.download('wordnet')\n",
    "# nltk.download('omw-1.4')\n",
    "from nltk.tokenize import TweetTokenizer\n",
    "from bs4 import BeautifulSoup\n",
    "import re\n",
    "import unidecode\n",
    "from string import punctuation\n",
    "import contractions\n",
    "import collections\n",
    "\n",
    "from sklearn.linear_model import LogisticRegression\n",
    "from sklearn.model_selection import cross_val_score\n",
    "from sklearn.model_selection import train_test_split\n",
    "from sklearn.feature_extraction.text import TfidfVectorizer\n",
    "from sklearn.feature_selection import SelectKBest, chi2\n",
    "from sklearn.svm import SVC\n",
    "from sklearn.model_selection import GridSearchCV\n",
    "from sklearn.feature_extraction.text import CountVectorizer\n",
    "from sklearn.ensemble import RandomForestClassifier\n",
    "from sklearn.ensemble import StackingClassifier\n",
    "from sklearn.metrics import accuracy_score\n",
    "from sklearn.metrics import precision_score\n",
    "from sklearn.metrics import recall_score\n",
    "from sklearn.metrics import f1_score\n",
    "from sklearn.metrics import confusion_matrix, ConfusionMatrixDisplay\n",
    "from sklearn.dummy import DummyClassifier\n",
    "import time"
   ]
  },
  {
   "cell_type": "markdown",
   "metadata": {},
   "source": [
    "# Preprocessing"
   ]
  },
  {
   "cell_type": "markdown",
   "metadata": {},
   "source": [
    "### Read&Split data "
   ]
  },
  {
   "cell_type": "code",
   "execution_count": 2,
   "metadata": {},
   "outputs": [],
   "source": [
    "#Read the CSV datafiles (Train and Test).\n",
    "train_data = pd.read_csv(\"Train.csv\", sep=',')\n",
    "test_data = pd.read_csv(\"Test.csv\", sep=',')"
   ]
  },
  {
   "cell_type": "markdown",
   "metadata": {},
   "source": [
    "Then we separate the tweet text and the label (sentiment). "
   ]
  },
  {
   "cell_type": "code",
   "execution_count": 3,
   "metadata": {},
   "outputs": [
    {
     "name": "stdout",
     "output_type": "stream",
     "text": [
      "Train length: 21802\n",
      "Test length: 6099\n"
     ]
    }
   ],
   "source": [
    "#separating instance and label for Train\n",
    "X_train_raw = [x[0] for x in train_data[['text']].values]\n",
    "Y_train = [x[0] for x in train_data[['sentiment']].values]\n",
    "\n",
    "#check the result\n",
    "print(\"Train length:\",len(X_train_raw))\n",
    "\n",
    "#separating instance and label for Test\n",
    "X_test_raw = [x[0] for x in test_data[['text']].values]\n",
    "\n",
    "#check the result\n",
    "print(\"Test length:\",len(X_test_raw))"
   ]
  },
  {
   "cell_type": "code",
   "execution_count": 4,
   "metadata": {},
   "outputs": [],
   "source": [
    "#Split data of Train.csv\n",
    "X_train,X_valid,y_train,y_valid = train_test_split(X_train_raw,Y_train,test_size=0.28, random_state=30027)"
   ]
  },
  {
   "cell_type": "code",
   "execution_count": 5,
   "metadata": {},
   "outputs": [
    {
     "data": {
      "image/png": "[encoded data removed]",
      "text/plain": [
       "<Figure size 432x288 with 1 Axes>"
      ]
     },
     "metadata": {
      "needs_background": "light"
     },
     "output_type": "display_data"
    }
   ],
   "source": [
    "#Count label distribution of training data\n",
    "counter = dict(collections.Counter(y_train))\n",
    "label = ['positive','netural','negative']\n",
    "data = [counter['positive'],counter['neutral'],counter['negative']]\n",
    "plt.bar(label, data)\n",
    "plt.title('label distribution of the training set')\n",
    "plt.xlabel('label type')\n",
    "plt.ylabel('number of labels')\n",
    "plt.show()"
   ]
  },
  {
   "cell_type": "code",
   "execution_count": 6,
   "metadata": {},
   "outputs": [
    {
     "name": "stdout",
     "output_type": "stream",
     "text": [
      "{'neutral': 9088, 'positive': 3925, 'negative': 2684}\n"
     ]
    }
   ],
   "source": [
    "print(counter)"
   ]
  },
  {
   "cell_type": "code",
   "execution_count": 7,
   "metadata": {},
   "outputs": [
    {
     "name": "stdout",
     "output_type": "stream",
     "text": [
      "Lenngth of the training data: 15697\n",
      "Lenngth of the test data: 6105\n"
     ]
    }
   ],
   "source": [
    "print(f'Lenngth of the training data: {len(X_train)}')\n",
    "print(f'Lenngth of the test data: {len(X_valid)}')"
   ]
  },
  {
   "cell_type": "markdown",
   "metadata": {},
   "source": [
    "### Preprocessing: Data cleaning"
   ]
  },
  {
   "cell_type": "code",
   "execution_count": 8,
   "metadata": {},
   "outputs": [],
   "source": [
    "#This cell remove all unmeaningful characters\n",
    "\n",
    "#Note：Some of following codes are modified based on the GitHub open sourse repositry#\n",
    "#Link: https://gist.github.com/jiahao87/d57a2535c2ed7315390920ea9296d79f #\n",
    "\n",
    "tknzr = TweetTokenizer(strip_handles=True, reduce_len=True) \n",
    "ps = nltk.PorterStemmer()\n",
    "wordnet = nltk.WordNetLemmatizer()\n",
    "stop_words = nltk.corpus.stopwords.words('english')\n",
    "stopwords = []\n",
    "# exclude words from stopwords list\n",
    "for i in stop_words:\n",
    "    if i != 'not' and i != 'no':\n",
    "        stopwords.append(i)\n",
    "\n",
    "def remove_links(text):\n",
    "    return re.sub(r'\\w+:\\/{2}[\\d\\w-]+(\\.[\\d\\w-]+)*(?:(?:\\/[^\\s/]*))*', '', text)\n",
    "def remove_email(text):\n",
    "    return re.sub(r'[\\.a-zA-Z0-9_-]*@[\\.a-zA-Z0-9_-]*', '', text)\n",
    "def remove_accented_chars(text):\n",
    "    \"\"\"remove accented characters from text, e.g. café\"\"\"\n",
    "    text = unidecode.unidecode(text)\n",
    "    return text\n",
    "\n",
    "def expand_contractions(text):\n",
    "    \"\"\"expand shortened words, e.g. don't to do not\"\"\"\n",
    "    text = contractions.fix(text)\n",
    "    return text\n",
    "\n",
    "def remove_num(text):\n",
    "    return ''.join([i for i in text if not i.isdigit()])\n",
    "\n",
    "def strip_html_tags(text):\n",
    "    \"\"\"remove html tags from text\"\"\"\n",
    "    soup = BeautifulSoup(text, \"html.parser\")\n",
    "    stripped_text = soup.get_text(separator=\" \")\n",
    "    return stripped_text\n",
    "def remove_stopwords(text):\n",
    "    return ' '.join([wordnet.lemmatize(i) for i in text.split() if i not in stopwords])\n",
    "\n",
    "def remove_punc(text):\n",
    "    return ''.join([i for i in text if i not in punctuation])\n",
    "\n",
    "def remove_num(text):\n",
    "    return ''.join([i for i in text if not i.isdigit()])\n",
    "\n",
    "def remove_whitespace(text):\n",
    "    \"\"\"remove extra whitespaces from text\"\"\"\n",
    "    text = text.strip()\n",
    "    return \" \".join(text.split())\n",
    "\n",
    "def remove_not_alpha(text):\n",
    "    return re.sub(r'[^\\s\\.a-zA-Z_-]+', '', text)\n",
    "\n",
    "def preprocess(text):\n",
    "    no_email = remove_email(text)\n",
    "    no_accented_chars = remove_accented_chars(no_email)\n",
    "    no_links = remove_links(no_accented_chars) \n",
    "    no_white_space = remove_whitespace(no_links)\n",
    "    no_punc = remove_punc(no_white_space)  \n",
    "    no_contractions = expand_contractions(no_punc)\n",
    "    no_html_tags = strip_html_tags(no_contractions)\n",
    "    no_num = remove_num(no_html_tags)\n",
    "    no_stopwords = remove_stopwords(no_num)\n",
    "    no_alpha = remove_not_alpha(no_stopwords)\n",
    "    tok = tknzr.tokenize(no_alpha)\n",
    "    return \" \".join([ps.stem(word) for word in tok])\n",
    "\n",
    "def preprocess_with_stopwords(text):\n",
    "    no_email = remove_email(text)\n",
    "    no_accented_chars = remove_accented_chars(no_email)\n",
    "    no_links = remove_links(no_accented_chars) \n",
    "    no_white_space = remove_whitespace(no_links)\n",
    "    no_punc = remove_punc(no_white_space)  \n",
    "    no_contractions = expand_contractions(no_punc)\n",
    "    no_html_tags = strip_html_tags(no_contractions)\n",
    "    no_num = remove_num(no_html_tags)\n",
    "    no_alpha = remove_not_alpha(no_num)\n",
    "    tok = tknzr.tokenize(no_alpha)\n",
    "    return \" \".join([ps.stem(word) for word in tok])\n",
    "\n",
    "def prepare(text): \n",
    "    res = []\n",
    "    for line in text:\n",
    "        line = line.lower()\n",
    "        line = preprocess(line) \n",
    "        res.append(line)    \n",
    "    return res   \n",
    "def prepare_with_stopwords(text): \n",
    "    res = []\n",
    "    for line in text:\n",
    "        line = line.lower()\n",
    "        line = preprocess_with_stopwords(line) \n",
    "        res.append(line)    \n",
    "    return res    \n"
   ]
  },
  {
   "cell_type": "code",
   "execution_count": 9,
   "metadata": {},
   "outputs": [],
   "source": [
    "#Data cleaning\n",
    "X_train_clean = prepare(X_train)\n",
    "X_valid_clean = prepare(X_valid) "
   ]
  },
  {
   "cell_type": "code",
   "execution_count": 10,
   "metadata": {},
   "outputs": [],
   "source": [
    "X_train_clean_with_stopwords = prepare_with_stopwords(X_train)\n",
    "X_valid_clean_with_stopwords = prepare_with_stopwords(X_valid) "
   ]
  },
  {
   "cell_type": "markdown",
   "metadata": {},
   "source": [
    "### Preprocessing: Vectorization\n",
    "**Bag of Words (BoW)**\n",
    "\n",
    "In this approach, we use the **CountVectorizer** library to separate all the words in the Train corpus (dataset). These words are then used as the 'vectors' or 'features' to represent each instance (Tweet) in `Train` and `Test` datasets. "
   ]
  },
  {
   "cell_type": "code",
   "execution_count": 11,
   "metadata": {},
   "outputs": [
    {
     "data": {
      "text/plain": [
       "(6105, 127768)"
      ]
     },
     "execution_count": 11,
     "metadata": {},
     "output_type": "execute_result"
    }
   ],
   "source": [
    "\n",
    "#Apply BoW to training data\n",
    "BoW_vectorizer_12 = CountVectorizer(ngram_range=(1,2))\n",
    "#Build the feature set (vocabulary) and vectorise the Train dataset using BoW\n",
    "X_train_BoW_12 = BoW_vectorizer_12.fit_transform(X_train_clean)\n",
    "\n",
    "#Use the feature set (vocabulary) from Train to vectorise the Test dataset \n",
    "X_valid_BoW_12 = BoW_vectorizer_12.transform(X_valid_clean)\n",
    "X_valid_BoW_12.shape\n"
   ]
  },
  {
   "cell_type": "code",
   "execution_count": 12,
   "metadata": {},
   "outputs": [
    {
     "data": {
      "text/plain": [
       "(6105, 144868)"
      ]
     },
     "execution_count": 12,
     "metadata": {},
     "output_type": "execute_result"
    }
   ],
   "source": [
    "#Apply BoW to training data with stopwords\n",
    "BoW_vectorizer_12_stopwords = CountVectorizer(ngram_range=(1,2))\n",
    "#Build the feature set (vocabulary) and vectorise the Train dataset using BoW\n",
    "X_train_BoW_12_stopwords = BoW_vectorizer_12_stopwords.fit_transform(X_train_clean_with_stopwords)\n",
    "\n",
    "#Use the feature set (vocabulary) from Train to vectorise the Test dataset \n",
    "X_valid_BoW_12_stopwords = BoW_vectorizer_12_stopwords.transform(X_valid_clean_with_stopwords)\n",
    "X_valid_BoW_12_stopwords.shape"
   ]
  },
  {
   "cell_type": "markdown",
   "metadata": {},
   "source": [
    "**TF-IDF**\n",
    "\n",
    "In this approach, we use the **TfidfVectorizer** library to separate all the words in this corpus (dataset). Same as the BoW approach, these words are then used as the 'vectors' or 'features' to represent each instance (Tweet).\n",
    "\n",
    "However, in this method for each instance the value associated with each 'vector' (word) is not the number of times the word repeated in that tweet, but the TFIDF value of then 'voctor' (word)."
   ]
  },
  {
   "cell_type": "code",
   "execution_count": 13,
   "metadata": {},
   "outputs": [
    {
     "data": {
      "text/plain": [
       "(6105, 127768)"
      ]
     },
     "execution_count": 13,
     "metadata": {},
     "output_type": "execute_result"
    }
   ],
   "source": [
    "\n",
    "#Apply TF-IDF to training data\n",
    "tfidf_vectorizer = TfidfVectorizer(ngram_range=(1,2))\n",
    "\n",
    "#Build the feature set (vocabulary) and vectorise the Train dataset using TFIDF\n",
    "X_train_tfidf_12 = tfidf_vectorizer.fit_transform(X_train_clean)\n",
    "\n",
    "#Use the feature set (vocabulary) from Train to vectorise the Test dataset \n",
    "X_valid_tfidf_12 = tfidf_vectorizer.transform(X_valid_clean)\n",
    "\n",
    "X_valid_tfidf_12.shape\n"
   ]
  },
  {
   "cell_type": "markdown",
   "metadata": {},
   "source": [
    "### Preprocessing: feature selection \n",
    "**selectKBest + chi2 (Used in the report)** "
   ]
  },
  {
   "cell_type": "code",
   "execution_count": 14,
   "metadata": {},
   "outputs": [],
   "source": [
    "#Function of selectKBest with chi2\n",
    "def chi(k_value):\n",
    "    selector = SelectKBest(chi2,k=k_value)\n",
    "    x_train_chi_12 = selector.fit_transform(X_train_BoW_12 ,y_train)\n",
    "    x_test_chi_12 = selector.transform(X_valid_BoW_12)\n",
    "\n",
    "    return x_train_chi_12, x_test_chi_12"
   ]
  },
  {
   "cell_type": "code",
   "execution_count": 15,
   "metadata": {},
   "outputs": [],
   "source": [
    "#Function of selectKBest with chi2\n",
    "def chi_stopwords(k_value):\n",
    "    selector = SelectKBest(chi2,k=k_value)\n",
    "    x_train_chi_12_stopwords = selector.fit_transform(X_train_BoW_12_stopwords ,y_train)\n",
    "    x_test_chi_12_stopwords = selector.transform(X_valid_BoW_12_stopwords)\n",
    "\n",
    "    return x_train_chi_12_stopwords, x_test_chi_12_stopwords"
   ]
  },
  {
   "cell_type": "markdown",
   "metadata": {},
   "source": [
    "### Compare BoW and TFIDF\n"
   ]
  },
  {
   "cell_type": "code",
   "execution_count": 16,
   "metadata": {},
   "outputs": [],
   "source": [
    "#Function of TF-IDF with chi2\n",
    "def Tfidf_chi(k_value, X_train_tfidf,X_valid_tfidf):\n",
    "    selector = SelectKBest(chi2,k=k_value)\n",
    "    x_train_chi_Tfidf = selector.fit_transform(X_train_tfidf ,y_train)\n",
    "    x_test_chi_Tfidf = selector.transform(X_valid_tfidf)\n",
    "\n",
    "    return x_train_chi_Tfidf , x_test_chi_Tfidf\n",
    "\n",
    "#Function of BoW with chi2\n",
    "def BoW_chi(k_value, X_train_BoW,X_valid_BoW ):\n",
    "    selector = SelectKBest(chi2,k=k_value)\n",
    "    x_train_chi_Bow = selector.fit_transform(X_train_BoW ,y_train)\n",
    "    x_test_chi_Bow = selector.transform(X_valid_BoW)\n",
    "\n",
    "    return x_train_chi_Bow, x_test_chi_Bow\n"
   ]
  },
  {
   "cell_type": "code",
   "execution_count": 17,
   "metadata": {},
   "outputs": [],
   "source": [
    "#TFidf vs BoW\n",
    "LR_BoW_chi = []\n",
    "LR_tfidf_chi = []\n",
    "SVM_BoW_chi = []\n",
    "SVM_tfidf_chi = []\n",
    "NB_BoW_chi = []\n",
    "NB_tfidf_chi = []\n",
    "RF_BoW_chi = []\n",
    "RF_tfidf_chi = []\n",
    "for k in range(200,3000,200):\n",
    "    x_train_chi_Bow, x_test_chi_Bow = BoW_chi(k, X_train_BoW_12, X_valid_BoW_12)\n",
    "    x_train_chi_Tfidf , x_test_chi_Tfidf = Tfidf_chi(k, X_train_tfidf_12,X_valid_tfidf_12)\n",
    "    lr1 = LogisticRegression(max_iter=2000).fit(x_train_chi_Bow, y_train)\n",
    "    LR1_acc = np.mean(cross_val_score(lr1,x_test_chi_Bow,y_valid,cv = 5))\n",
    "    LR_BoW_chi.append(LR1_acc)\n",
    "    lr2 = LogisticRegression(max_iter=2000).fit(x_train_chi_Tfidf, y_train)\n",
    "    LR2_acc = np.mean(cross_val_score(lr2,x_test_chi_Tfidf,y_valid,cv = 5))\n",
    "    LR_tfidf_chi.append(LR2_acc)\n",
    "    clf1 = SVC().fit(x_train_chi_Bow, y_train)\n",
    "    clf1_acc = np.mean(cross_val_score(clf1,x_test_chi_Bow,y_valid,cv = 5))\n",
    "    SVM_BoW_chi.append(clf1_acc)\n",
    "    clf2 = SVC().fit(x_train_chi_Tfidf, y_train)\n",
    "    clf2_acc = np.mean(cross_val_score(clf2,x_test_chi_Tfidf,y_valid,cv = 5))\n",
    "    SVM_tfidf_chi.append(clf2_acc)\n",
    "    rf1 = RandomForestClassifier().fit(x_train_chi_Bow, y_train)\n",
    "    rf1_acc = np.mean(cross_val_score(rf1,x_test_chi_Bow,y_valid,cv = 5))\n",
    "    RF_BoW_chi.append(rf1_acc)\n",
    "    rf2 = RandomForestClassifier().fit(x_train_chi_Tfidf, y_train)\n",
    "    rf2_acc = np.mean(cross_val_score(rf2,x_test_chi_Tfidf,y_valid,cv = 5))\n",
    "    RF_tfidf_chi.append(rf2_acc)\n"
   ]
  },
  {
   "cell_type": "code",
   "execution_count": 18,
   "metadata": {},
   "outputs": [
    {
     "data": {
      "text/plain": [
       "<matplotlib.legend.Legend at 0x23ec0c954e0>"
      ]
     },
     "execution_count": 18,
     "metadata": {},
     "output_type": "execute_result"
    },
    {
     "data": {
      "image/png": "[encoded data removed]",
      "text/plain": [
       "<Figure size 432x288 with 1 Axes>"
      ]
     },
     "metadata": {
      "needs_background": "light"
     },
     "output_type": "display_data"
    }
   ],
   "source": [
    "#Plot models with chi2\n",
    "x = np.arange(200,3000,200)\n",
    "y1 = np.array(LR_BoW_chi )\n",
    "y2 = np.array(LR_tfidf_chi)\n",
    "y3 = np.array(SVM_BoW_chi) \n",
    "y4 = np.array(SVM_tfidf_chi)\n",
    "y5 = np.array(RF_BoW_chi )\n",
    "y6 = np.array(RF_tfidf_chi)\n",
    "plt.plot(x, y1) \n",
    "plt.plot(x, y2)\n",
    "plt.plot(x, y3)\n",
    "plt.plot(x, y4) \n",
    "plt.plot(x, y5)\n",
    "plt.plot(x, y6)\n",
    "\n",
    "plt.xlabel(\"K Value\") \n",
    "plt.ylabel(\"Prediction Accuracy\") \n",
    "plt.title('BoW VS TF-idf (chi)')\n",
    "plt.legend(['LR_BoW','LR_TFidf', 'SVM_BoW', 'SVM_TFidf','RF_BoW','RF_TFidf'],bbox_to_anchor=(1, 0.60))"
   ]
  },
  {
   "cell_type": "markdown",
   "metadata": {},
   "source": [
    "**By obsverving the plots, K = 400 and BoW has the best perfermence.**"
   ]
  },
  {
   "cell_type": "markdown",
   "metadata": {},
   "source": [
    "## Print results\n",
    " "
   ]
  },
  {
   "cell_type": "code",
   "execution_count": 19,
   "metadata": {},
   "outputs": [],
   "source": [
    "x_train_chi, x_valid_chi = chi(400)\n",
    "\n",
    "#This function print the result of models\n",
    "def print_result(model, x_train, x_test):\n",
    "    y_train_predicted = model.predict(x_train)\n",
    "    ta = accuracy_score(y_train, y_train_predicted)\n",
    "\n",
    "    print(\"training accuracy \", ta)\n",
    "    va = np.mean(cross_val_score(model,x_test,y_valid,cv = 5))\n",
    "    print('validation accuracy: ' ,va)\n",
    "    #y_predicted = model.predict(x_test)\n",
    "    pa = model.score(x_test, y_valid)\n",
    "    print('prediction accuracy: ', pa)\n",
    "\n",
    "    y_pred = model.predict(x_test)\n",
    "    W_precision = precision_score(y_valid, y_pred, average=\"weighted\")\n",
    "    print('Weighted Precision: %f ' % W_precision)\n",
    "    W_recall = recall_score(y_valid, y_pred, average=\"weighted\")\n",
    "    print('Weighted Recall: %f ' % W_recall)\n",
    "    W_f1 = f1_score(y_valid, y_pred, average=\"weighted\")\n",
    "    print('Weighted F1 score: %f ' % W_f1)\n",
    "    cm = confusion_matrix(y_valid, y_pred, labels =model.classes_)\n",
    "    disp =ConfusionMatrixDisplay(confusion_matrix = cm, display_labels =model.classes_ )\n",
    "    disp.plot()\n",
    "\n",
    "    return ta,va,pa,W_precision,W_recall,W_f1\n",
    "\n",
    "#Empty lists for storing the model's results\n",
    "ta_chi = []\n",
    "va_chi = []\n",
    "pa_chi = []\n",
    "W_precision_chi = []\n",
    "W_recall_chi = []\n",
    "W_f1_chi = []\n",
    "time_chi = []\n"
   ]
  },
  {
   "cell_type": "markdown",
   "metadata": {},
   "source": [
    "# Models"
   ]
  },
  {
   "cell_type": "markdown",
   "metadata": {},
   "source": [
    "### Model: Zero-R"
   ]
  },
  {
   "cell_type": "code",
   "execution_count": 20,
   "metadata": {},
   "outputs": [
    {
     "name": "stdout",
     "output_type": "stream",
     "text": [
      "Excution time of Logtistic Regression classifier: 0.003s\n",
      "\n",
      "training accuracy  0.578964133273874\n",
      "validation accuracy:  0.5849303849303849\n",
      "prediction accuracy:  0.584930384930385\n",
      "Weighted Precision: 0.342144 \n",
      "Weighted Recall: 0.584930 \n",
      "Weighted F1 score: 0.431746 \n"
     ]
    },
    {
     "name": "stderr",
     "output_type": "stream",
     "text": [
      "C:\\Users\\Lingpeng\\AppData\\Roaming\\Python\\Python310\\site-packages\\sklearn\\metrics\\_classification.py:1318: UndefinedMetricWarning: Precision is ill-defined and being set to 0.0 in labels with no predicted samples. Use `zero_division` parameter to control this behavior.\n",
      "  _warn_prf(average, modifier, msg_start, len(result))\n"
     ]
    },
    {
     "data": {
      "image/png": "[encoded data removed]",
      "text/plain": [
       "<Figure size 432x288 with 2 Axes>"
      ]
     },
     "metadata": {
      "needs_background": "light"
     },
     "output_type": "display_data"
    }
   ],
   "source": [
    "#Zero-R with chi\n",
    "x_train_chi, x_valid_chi = chi(400)\n",
    "clf_0R = DummyClassifier(strategy= 'most_frequent')\n",
    "\n",
    "t0 = time.time()\n",
    "ZR_chi = clf_0R.fit(x_train_chi,y_train)\n",
    "t1 = time.time()-t0\n",
    "print(\"Excution time of Logtistic Regression classifier: {}s\\n\". format(round(t1,3)))\n",
    "\n",
    "ZR_chi.score(x_valid_chi,y_valid)\n",
    "ta_chi_base,va_chi_base,pa_chi_base,W_precision_chi_base,W_recall_chi_base,W_f1_chi_base = print_result(ZR_chi, x_train_chi,x_valid_chi)\n"
   ]
  },
  {
   "cell_type": "code",
   "execution_count": 21,
   "metadata": {},
   "outputs": [],
   "source": [
    "#Add result to relative lists\n",
    "ta_chi.append(ta_chi_base)\n",
    "va_chi.append(va_chi_base)\n",
    "pa_chi.append(pa_chi_base)\n",
    "W_precision_chi.append(W_precision_chi_base)\n",
    "W_recall_chi.append(W_recall_chi_base)\n",
    "W_f1_chi.append(W_f1_chi_base)\n",
    "time_chi.append(t1)"
   ]
  },
  {
   "cell_type": "markdown",
   "metadata": {},
   "source": [
    "### Model: Logistic Regression"
   ]
  },
  {
   "cell_type": "code",
   "execution_count": 18,
   "metadata": {},
   "outputs": [],
   "source": [
    "#Set K = 400 and do grid search\n",
    "x_train_chi_LR, x_test_chi_LR = chi(400)\n",
    "\n",
    "def gs_LogisticRegression(x_train):\n",
    "    parameters_LR = {'solver':('newton-cg','lbfgs','sag','saga'),'C':np.arange(0.1,2.5,0.2),'multi_class':('auto','ovr','multinomial')}\n",
    "    LR = LogisticRegression(max_iter=2000)\n",
    "    gs = GridSearchCV(LR,parameters_LR)\n",
    "    gs.fit(x_train,y_train)\n",
    "\n",
    "    return gs.best_params_, gs.best_score_\n",
    "\n",
    "\n",
    "best_estimator_LR, best_score_LR = gs_LogisticRegression(x_train_chi_LR)\n"
   ]
  },
  {
   "cell_type": "code",
   "execution_count": 19,
   "metadata": {},
   "outputs": [
    {
     "name": "stdout",
     "output_type": "stream",
     "text": [
      "The best estimators are: {'C': 2.1000000000000005, 'multi_class': 'auto', 'solver': 'saga'}\n",
      "The best score is: 0.6761804136576418\n"
     ]
    }
   ],
   "source": [
    "print(f\"The best estimators are: {best_estimator_LR}\")\n",
    "print(f\"The best score is: {best_score_LR}\")"
   ]
  },
  {
   "cell_type": "code",
   "execution_count": 22,
   "metadata": {},
   "outputs": [],
   "source": [
    "#Function of logistic regression\n",
    "def logistic_regression(k_value, c_value):\n",
    "    x_train_chi_final_LR, x_test_chi_final_LR = chi(k_value)\n",
    "    LR = LogisticRegression(solver= 'saga', C = c_value, max_iter = 2000).fit(x_train_chi_final_LR, y_train)\n",
    "    y_train_predicted = LR.predict(x_train_chi_final_LR)\n",
    "    LR_acc = np.mean(cross_val_score(LR,x_test_chi_final_LR,y_valid,cv = 5))\n",
    "\n",
    "    return np.mean(y_train_predicted == y_train), LR_acc, LR.score(x_test_chi_final_LR, y_valid)\n"
   ]
  },
  {
   "cell_type": "code",
   "execution_count": 23,
   "metadata": {},
   "outputs": [
    {
     "data": {
      "image/png": "[encoded data removed]",
      "text/plain": [
       "<Figure size 432x288 with 1 Axes>"
      ]
     },
     "metadata": {
      "needs_background": "light"
     },
     "output_type": "display_data"
    }
   ],
   "source": [
    "#Accuracy when K = 400\n",
    "#Print Logistic regression's accuracy with different C\n",
    "training_accuracy_list_LR = []\n",
    "validation_accuracy_list_LR = []\n",
    "prediction_accuracy_list_LR = []\n",
    "\n",
    "\n",
    "for i in range(1,30,2):\n",
    "    ta, va, pa = logistic_regression(400, i/10)\n",
    "    training_accuracy_list_LR.append(ta)\n",
    "    validation_accuracy_list_LR.append(va)\n",
    "    prediction_accuracy_list_LR.append(pa)\n",
    "\n",
    "x = np.arange(0.1,3.0,0.2) \n",
    "y1 = np.array(training_accuracy_list_LR)\n",
    "y2 = np.array(validation_accuracy_list_LR)\n",
    "y3 = np.array(prediction_accuracy_list_LR)\n",
    "\n",
    "# PLot\n",
    "plt.plot(x, y1) \n",
    "plt.plot(x, y2)\n",
    "plt.plot(x, y3)\n",
    "# Add Title\n",
    "plt.title(\"Logistic Regression Accuracy (BoW)\") \n",
    "# Add Axes Labels and legend\n",
    "plt.xlabel(\"C Value\") \n",
    "plt.ylabel(\"Accuracy rate\") \n",
    "plt.legend(['Training accuracy','Validation accuracy', 'Prediction accuracy'])\n",
    "# Display\n",
    "plt.show()"
   ]
  },
  {
   "cell_type": "markdown",
   "metadata": {},
   "source": [
    "**C = 1.4: Highest validation accuracy**\n",
    "\n",
    "**C = 2.1: Highest prediction accuracy**"
   ]
  },
  {
   "cell_type": "code",
   "execution_count": 24,
   "metadata": {},
   "outputs": [
    {
     "data": {
      "image/png": "[encoded data removed]",
      "text/plain": [
       "<Figure size 432x288 with 1 Axes>"
      ]
     },
     "metadata": {
      "needs_background": "light"
     },
     "output_type": "display_data"
    }
   ],
   "source": [
    "#Accuracy when c = 1.4\n",
    "#Plot Logistic regression's accuracy with different k\n",
    "training_accuracy_list_LR = []\n",
    "validation_accuracy_list_LR = []\n",
    "prediction_accuracy_list_LR = []\n",
    "\n",
    "\n",
    "for i in range(100,1600,100):\n",
    "    ta, va, pa = logistic_regression(i,1.4)\n",
    "    training_accuracy_list_LR.append(ta)\n",
    "    validation_accuracy_list_LR.append(va)\n",
    "    prediction_accuracy_list_LR.append(pa)\n",
    "\n",
    "x = np.arange(100,1600,100) \n",
    "y1 = np.array(training_accuracy_list_LR)\n",
    "y2 = np.array(validation_accuracy_list_LR)\n",
    "y3 = np.array(prediction_accuracy_list_LR)\n",
    "# PLot\n",
    "plt.plot(x, y1) \n",
    "plt.plot(x, y2)\n",
    "plt.plot(x, y3)\n",
    "# Add Title\n",
    "plt.title(\"Logistic Regression Accuracy (BoW)\") \n",
    "\n",
    "# Add Axes Labels and legend\n",
    "plt.xlabel(\"K Value\") \n",
    "plt.ylabel(\"Accuracy rate\") \n",
    "plt.legend(['Training accuracy','Validation accuracy', 'Prediction accuracy'])\n",
    "# Display\n",
    "plt.show()"
   ]
  },
  {
   "cell_type": "code",
   "execution_count": 25,
   "metadata": {},
   "outputs": [
    {
     "name": "stdout",
     "output_type": "stream",
     "text": [
      "Excution time of Logtistic Regression classifier: 0.259 s\n",
      "\n",
      "training accuracy  0.695865451997197\n",
      "validation accuracy:  0.6665028665028665\n",
      "prediction accuracy:  0.6701064701064701\n",
      "Weighted Precision: 0.665460 \n",
      "Weighted Recall: 0.670106 \n",
      "Weighted F1 score: 0.646076 \n"
     ]
    },
    {
     "data": {
      "image/png": "[encoded data removed]",
      "text/plain": [
       "<Figure size 432x288 with 2 Axes>"
      ]
     },
     "metadata": {
      "needs_background": "light"
     },
     "output_type": "display_data"
    }
   ],
   "source": [
    "#Final model with chi2\n",
    "x_train_chi, x_valid_chi = chi(400)\n",
    "\n",
    "t0 = time.time()\n",
    "LR_final_chi = LogisticRegression(solver= 'saga', C = 1.4, max_iter = 2000).fit(x_train_chi, y_train)\n",
    "t1 = time.time()-t0\n",
    "print(\"Excution time of Logtistic Regression classifier: {} s\\n\". format(round(t1,3)))\n",
    "\n",
    "ta_chi_LR,va_chi_LR,pa_chi_LR,W_precision_chi_LR,W_recall_chi_LR,W_f1_chi_LR = print_result(LR_final_chi, x_train_chi, x_valid_chi)\n"
   ]
  },
  {
   "cell_type": "code",
   "execution_count": 26,
   "metadata": {},
   "outputs": [],
   "source": [
    "#Add results to relative lists\n",
    "ta_chi.append(ta_chi_LR)\n",
    "va_chi.append(va_chi_LR)\n",
    "pa_chi.append(pa_chi_LR)\n",
    "W_precision_chi.append(W_precision_chi_LR)\n",
    "W_recall_chi.append(W_recall_chi_LR)\n",
    "W_f1_chi.append(W_f1_chi_LR)\n",
    "time_chi.append(t1)"
   ]
  },
  {
   "cell_type": "code",
   "execution_count": 27,
   "metadata": {},
   "outputs": [
    {
     "name": "stdout",
     "output_type": "stream",
     "text": [
      "Excution time of Logtistic Regression classifier: 0.354 s\n",
      "\n",
      "training accuracy  0.6962476906415238\n",
      "validation accuracy:  0.6588042588042589\n",
      "prediction accuracy:  0.6673218673218673\n",
      "Weighted Precision: 0.662920 \n",
      "Weighted Recall: 0.667322 \n",
      "Weighted F1 score: 0.643884 \n"
     ]
    },
    {
     "data": {
      "image/png": "[encoded data removed]",
      "text/plain": [
       "<Figure size 432x288 with 2 Axes>"
      ]
     },
     "metadata": {
      "needs_background": "light"
     },
     "output_type": "display_data"
    }
   ],
   "source": [
    "#model without stopwords\n",
    "x_train_chi_stopwords, x_valid_chi_stopwords = chi_stopwords(400)\n",
    "\n",
    "t0 = time.time()\n",
    "LR_final_chi = LogisticRegression(solver= 'saga', C = 1.4, max_iter = 2000).fit(x_train_chi_stopwords, y_train)\n",
    "t1 = time.time()-t0\n",
    "print(\"Excution time of Logtistic Regression classifier: {} s\\n\". format(round(t1,3)))\n",
    "\n",
    "ta_chi_LR_s,va_chi_LR_s,pa_chi_LR_s,W_precision_chi_LR_s,W_recall_chi_LR_s,W_f1_chi_LR_s = print_result(LR_final_chi, x_train_chi_stopwords, x_valid_chi_stopwords)\n",
    "\n"
   ]
  },
  {
   "cell_type": "markdown",
   "metadata": {},
   "source": [
    "### Model: SVM\n",
    "\n"
   ]
  },
  {
   "cell_type": "code",
   "execution_count": 26,
   "metadata": {},
   "outputs": [
    {
     "data": {
      "text/plain": [
       "GridSearchCV(estimator=SVC(),\n",
       "             param_grid={'C': array([0.1, 0.4, 0.7, 1. , 1.3, 1.6, 1.9, 2.2, 2.5, 2.8, 3.1, 3.4, 3.7,\n",
       "       4. , 4.3, 4.6, 4.9]),\n",
       "                         'decision_function_shape': ('ovo', 'ovr'),\n",
       "                         'kernel': ('linear', 'poly', 'rbf', 'sigmoid')})"
      ]
     },
     "execution_count": 26,
     "metadata": {},
     "output_type": "execute_result"
    }
   ],
   "source": [
    "#Do grid search\n",
    "parameters_svc = {\"kernel\":('linear', 'poly', 'rbf', 'sigmoid'), \"decision_function_shape\":('ovo','ovr'), 'C':np.arange(0.1,5.0,0.3)}\n",
    "gs_svc = GridSearchCV(SVC(), param_grid = parameters_svc)  \n",
    "gs_svc.fit(x_train_chi, y_train)"
   ]
  },
  {
   "cell_type": "code",
   "execution_count": 27,
   "metadata": {},
   "outputs": [
    {
     "name": "stdout",
     "output_type": "stream",
     "text": [
      "{'C': 3.1000000000000005, 'decision_function_shape': 'ovo', 'kernel': 'linear'}\n"
     ]
    }
   ],
   "source": [
    "print(gs_svc.best_params_)"
   ]
  },
  {
   "cell_type": "code",
   "execution_count": 28,
   "metadata": {},
   "outputs": [],
   "source": [
    "#SVC function\n",
    "def svc(c_value):\n",
    "    clf = SVC(C = c_value).fit(x_train_chi, y_train)\n",
    "    y_train_predicted = clf.predict(x_train_chi)\n",
    "    #print(\"training accuracy \", np.mean(y_train_predicted == y_train))\n",
    "    clf_va = np.mean(cross_val_score(clf,x_valid_chi,y_valid,cv = 5))\n",
    "\n",
    "    return np.mean(y_train_predicted == y_train), clf_va, clf.score(x_valid_chi, y_valid)"
   ]
  },
  {
   "cell_type": "code",
   "execution_count": 29,
   "metadata": {},
   "outputs": [
    {
     "data": {
      "image/png": "[encoded data removed]",
      "text/plain": [
       "<Figure size 432x288 with 1 Axes>"
      ]
     },
     "metadata": {
      "needs_background": "light"
     },
     "output_type": "display_data"
    }
   ],
   "source": [
    "#Accuracy when K = 400\n",
    "#Plot model results with different C\n",
    "training_accuracy_list_SVM = []\n",
    "validation_accuracy_list_SVM = []\n",
    "prediction_accuracy_list_SVM = []\n",
    "\n",
    "\n",
    "for i in range(1,100,5):\n",
    "    ta, va, pa = svc(i/10)\n",
    "    training_accuracy_list_SVM.append(ta)\n",
    "    validation_accuracy_list_SVM.append(va)\n",
    "    prediction_accuracy_list_SVM.append(pa)\n",
    "\n",
    "x = np.arange(0.1,10.0,0.5) \n",
    "y1 = np.array(training_accuracy_list_SVM)\n",
    "y2 = np.array(validation_accuracy_list_SVM)\n",
    "y3 = np.array(prediction_accuracy_list_SVM)\n",
    "# PLot\n",
    "plt.plot(x, y1) \n",
    "plt.plot(x, y2)\n",
    "plt.plot(x, y3)\n",
    "# Add Title\n",
    "plt.title(\"SVM Accuracy (BoW)\") \n",
    "\n",
    "# Add Axes Labels and legend\n",
    "plt.xlabel(\"C Value\") \n",
    "plt.ylabel(\"Accuracy rate\") \n",
    "plt.legend(['Training accuracy','Validation accuracy', 'Prediction accuracy'])\n",
    "# Display\n",
    "plt.show()"
   ]
  },
  {
   "cell_type": "markdown",
   "metadata": {},
   "source": [
    "Highest va: c = 0.4\n",
    "\n",
    "Highest pa: c = 3.1"
   ]
  },
  {
   "cell_type": "code",
   "execution_count": 30,
   "metadata": {},
   "outputs": [
    {
     "name": "stdout",
     "output_type": "stream",
     "text": [
      "Excution time of SVM classifier: 5.003s\n",
      "training accuracy  0.6866917245333504\n",
      "validation accuracy:  0.6515970515970517\n",
      "prediction accuracy:  0.6588042588042589\n",
      "Weighted Precision: 0.649630 \n",
      "Weighted Recall: 0.658804 \n",
      "Weighted F1 score: 0.632546 \n"
     ]
    },
    {
     "data": {
      "image/png": "[encoded data removed]",
      "text/plain": [
       "<Figure size 432x288 with 2 Axes>"
      ]
     },
     "metadata": {
      "needs_background": "light"
     },
     "output_type": "display_data"
    }
   ],
   "source": [
    "#Final model with chi2\n",
    "x_train_chi, x_valid_chi = chi(400)\n",
    "\n",
    "t0 = time.time()\n",
    "SVM_final_chi = SVC(kernel=\"linear\", C = 0.4, decision_function_shape = 'ovo').fit(x_train_chi, y_train)\n",
    "t1 = time.time()-t0\n",
    "print(\"Excution time of SVM classifier: {}s\". format(round(t1,3)))\n",
    "ta_chi_SVM,va_chi_SVM,pa_chi_SVM,W_precision_chi_SVM,W_recall_chi_SVM,W_f1_chi_SVM = print_result(SVM_final_chi, x_train_chi, x_valid_chi)\n"
   ]
  },
  {
   "cell_type": "code",
   "execution_count": 31,
   "metadata": {},
   "outputs": [],
   "source": [
    "#Add results to relative lists\n",
    "ta_chi.append(ta_chi_SVM)\n",
    "va_chi.append(va_chi_SVM)\n",
    "pa_chi.append(pa_chi_SVM)\n",
    "W_precision_chi.append(W_precision_chi_SVM)\n",
    "W_recall_chi.append(W_recall_chi_SVM)\n",
    "W_f1_chi.append(W_f1_chi_SVM)\n",
    "time_chi.append(t1)"
   ]
  },
  {
   "cell_type": "code",
   "execution_count": 32,
   "metadata": {},
   "outputs": [
    {
     "name": "stdout",
     "output_type": "stream",
     "text": [
      "Excution time of Logtistic Regression classifier: 9.473 s\n",
      "\n",
      "training accuracy  0.6856724214818118\n",
      "validation accuracy:  0.6479934479934479\n",
      "prediction accuracy:  0.6596232596232596\n",
      "Weighted Precision: 0.654516 \n",
      "Weighted Recall: 0.659623 \n",
      "Weighted F1 score: 0.630524 \n"
     ]
    },
    {
     "data": {
      "image/png": "[encoded data removed]",
      "text/plain": [
       "<Figure size 432x288 with 2 Axes>"
      ]
     },
     "metadata": {
      "needs_background": "light"
     },
     "output_type": "display_data"
    }
   ],
   "source": [
    "#Model without stopwords\n",
    "x_train_chi_stopwords, x_valid_chi_stopwords = chi_stopwords(400)\n",
    "\n",
    "t0 = time.time()\n",
    "SVM_final_chi = SVC(kernel=\"linear\", C = 0.4, decision_function_shape = 'ovo').fit(x_train_chi_stopwords, y_train)\n",
    "t1 = time.time()-t0\n",
    "print(\"Excution time of Logtistic Regression classifier: {} s\\n\". format(round(t1,3)))\n",
    "\n",
    "ta_chi_SVM_s,va_chi_SVM_s,pa_chi_SVM_s,W_precision_chi_SVM_s,W_recall_chi_SVM_s,W_f1_chi_SVM_s = print_result(SVM_final_chi, x_train_chi_stopwords, x_valid_chi_stopwords)"
   ]
  },
  {
   "cell_type": "markdown",
   "metadata": {},
   "source": [
    "### Model: Random Forest"
   ]
  },
  {
   "cell_type": "code",
   "execution_count": 33,
   "metadata": {},
   "outputs": [
    {
     "data": {
      "text/plain": [
       "GridSearchCV(estimator=RandomForestClassifier(),\n",
       "             param_grid={'criterion': ('gini', 'entropy'),\n",
       "                         'max_depth': [40, 50, 60, 70],\n",
       "                         'min_samples_leaf': [1, 2, 3, 4, 5],\n",
       "                         'min_samples_split': [2, 3, 4, 5, 6],\n",
       "                         'n_estimators': [100, 150, 200, 250, 300, 350, 400]})"
      ]
     },
     "execution_count": 33,
     "metadata": {},
     "output_type": "execute_result"
    }
   ],
   "source": [
    "#Do grid search\n",
    "x_train_chi_RF, x_test_chi_RF = chi(400)\n",
    "parameters_RF = {\"n_estimators\":[100,150,200,250,300,350,400], \"criterion\": ('gini', 'entropy'), \"max_depth\":[40,50,60,70], \"min_samples_split\":[2,3,4,5,6], \"min_samples_leaf\":[1,2,3,4,5]}\n",
    "gs_RF = GridSearchCV(RandomForestClassifier(), param_grid = parameters_RF)  \n",
    "gs_RF.fit(x_train_chi_RF, y_train)"
   ]
  },
  {
   "cell_type": "code",
   "execution_count": 34,
   "metadata": {},
   "outputs": [
    {
     "data": {
      "text/plain": [
       "RandomForestClassifier(max_depth=70, min_samples_leaf=2, min_samples_split=3,\n",
       "                       n_estimators=250)"
      ]
     },
     "execution_count": 34,
     "metadata": {},
     "output_type": "execute_result"
    }
   ],
   "source": [
    "gs_RF.best_estimator_"
   ]
  },
  {
   "cell_type": "code",
   "execution_count": 33,
   "metadata": {},
   "outputs": [],
   "source": [
    "#Change max_depth and plot the accuracy\n",
    "x_train_chi, x_valid_chi = chi(400)\n",
    "lt = []\n",
    "lv = []\n",
    "lp = []\n",
    "for i in range(10,500,40):\n",
    "    rf = RandomForestClassifier(min_samples_leaf=2, max_depth=i, n_estimators=250, min_samples_split=3).fit(x_train_chi, y_train)\n",
    "    y_train_predicted = rf.predict(x_train_chi)\n",
    "    clf_va = np.mean(cross_val_score(rf,x_valid_chi,y_valid,cv = 5))\n",
    "    ta = np.mean(y_train_predicted == y_train)\n",
    "    va = clf_va\n",
    "    pa = rf.score(x_valid_chi, y_valid)\n",
    "    lt.append(ta)\n",
    "    lv.append(va)\n",
    "    lp.append(pa)\n",
    "x = np.arange(10,500,40) \n",
    "y1 = np.array(lt)\n",
    "y2 = np.array(lv)\n",
    "y3 = np.array(lp)\n"
   ]
  },
  {
   "cell_type": "code",
   "execution_count": 34,
   "metadata": {},
   "outputs": [
    {
     "data": {
      "image/png": "[encoded data removed]",
      "text/plain": [
       "<Figure size 432x288 with 1 Axes>"
      ]
     },
     "metadata": {
      "needs_background": "light"
     },
     "output_type": "display_data"
    }
   ],
   "source": [
    "# PLot\n",
    "plt.plot(x, y1) \n",
    "plt.plot(x, y2)\n",
    "plt.plot(x, y3)\n",
    "# Add Title\n",
    "plt.title(\"Random Forest Accuracy\") \n",
    "\n",
    "# Add Axes Labels and legend\n",
    "plt.xlabel(\"Max Depth\") \n",
    "plt.ylabel(\"Accuracy rate\") \n",
    "plt.legend(['Training accuracy','Validation accuracy', 'Prediction accuracy'])\n",
    "# Display\n",
    "plt.show()"
   ]
  },
  {
   "cell_type": "code",
   "execution_count": 35,
   "metadata": {},
   "outputs": [
    {
     "data": {
      "image/png": "[encoded data removed]",
      "text/plain": [
       "<Figure size 432x288 with 1 Axes>"
      ]
     },
     "metadata": {
      "needs_background": "light"
     },
     "output_type": "display_data"
    }
   ],
   "source": [
    "#Change min_sample_leaf and plot the accuracy\n",
    "x_train_chi, x_valid_chi = chi(400)\n",
    "lt = []\n",
    "lv = []\n",
    "lp = []\n",
    "for i in range(2,10,1):\n",
    "    rf = RandomForestClassifier(min_samples_leaf=2, max_depth=90, n_estimators=250,min_samples_split=i ).fit(x_train_chi, y_train)\n",
    "    y_train_predicted = rf.predict(x_train_chi)\n",
    "    clf_va = np.mean(cross_val_score(rf,x_valid_chi,y_valid,cv = 5))\n",
    "    ta = np.mean(y_train_predicted == y_train)\n",
    "    va = clf_va\n",
    "    pa = rf.score(x_valid_chi, y_valid)\n",
    "    lt.append(ta)\n",
    "    lv.append(va)\n",
    "    lp.append(pa)\n",
    "x = np.arange(2,10,1) \n",
    "y1 = np.array(lt)\n",
    "y2 = np.array(lv)\n",
    "y3 = np.array(lp)\n",
    "# PLot\n",
    "plt.plot(x, y1) \n",
    "plt.plot(x, y2)\n",
    "plt.plot(x, y3)\n",
    "# Add Title\n",
    "plt.title(\"Random Forest Accuracy\") \n",
    "\n",
    "# Add Axes Labels and legend\n",
    "plt.xlabel(\"Min Samples Split\") \n",
    "plt.ylabel(\"Accuracy rate\") \n",
    "plt.legend(['Training accuracy','Validation accuracy', 'Prediction accuracy'])\n",
    "# Display\n",
    "plt.show()\n"
   ]
  },
  {
   "cell_type": "code",
   "execution_count": 36,
   "metadata": {},
   "outputs": [
    {
     "name": "stdout",
     "output_type": "stream",
     "text": [
      "Excution time of Random Forest classifier: 2.11s\n",
      "training accuracy  0.7084156208192648\n",
      "validation accuracy:  0.6527436527436528\n",
      "prediction accuracy:  0.6573300573300573\n",
      "Weighted Precision: 0.648595 \n",
      "Weighted Recall: 0.657330 \n",
      "Weighted F1 score: 0.623322 \n"
     ]
    },
    {
     "data": {
      "image/png": "[encoded data removed]",
      "text/plain": [
       "<Figure size 432x288 with 2 Axes>"
      ]
     },
     "metadata": {
      "needs_background": "light"
     },
     "output_type": "display_data"
    }
   ],
   "source": [
    "#Final model with chi2\n",
    "x_train_chi, x_valid_chi = chi(400)\n",
    "\n",
    "t0 = time.time()\n",
    "RF_final_chi = RandomForestClassifier(max_depth=90, min_samples_leaf=2, n_estimators=250).fit(x_train_chi, y_train)\n",
    "t1 = time.time()-t0\n",
    "print(\"Excution time of Random Forest classifier: {}s\". format(round(t1,3)))\n",
    "\n",
    "#Add results to relative lists\n",
    "ta_chi_RF,va_chi_RF,pa_chi_RF,W_precision_chi_RF,W_recall_chi_RF,W_f1_chi_RF = print_result(RF_final_chi, x_train_chi, x_valid_chi)\n",
    "ta_chi.append(ta_chi_RF)\n",
    "va_chi.append(va_chi_RF)\n",
    "pa_chi.append(pa_chi_RF)\n",
    "W_precision_chi.append(W_precision_chi_RF)\n",
    "W_recall_chi.append(W_recall_chi_RF)\n",
    "W_f1_chi.append(W_f1_chi_RF)\n",
    "time_chi.append(t1)"
   ]
  },
  {
   "cell_type": "markdown",
   "metadata": {},
   "source": [
    "### Model: Stacking"
   ]
  },
  {
   "cell_type": "code",
   "execution_count": 37,
   "metadata": {},
   "outputs": [],
   "source": [
    "#Set up Stacking model\n",
    "x_train_chi, x_valid_chi = chi(400)\n",
    "\n",
    "estimator = [('lr', LogisticRegression(solver= 'saga', C = 1.4, max_iter = 2000)),\n",
    "            #('svc', SVC(kernel=\"linear\", C = 0.4,decision_function_shape = 'ovo')),\n",
    "            ('RF', RandomForestClassifier(max_depth=90, min_samples_leaf=2, n_estimators=250))\n",
    "            ]\n",
    "clf2 = StackingClassifier(estimators= estimator, final_estimator=LogisticRegression(max_iter=2000))\n"
   ]
  },
  {
   "cell_type": "code",
   "execution_count": 38,
   "metadata": {},
   "outputs": [
    {
     "name": "stdout",
     "output_type": "stream",
     "text": [
      "Excution time of Stacking classifier: 12.372 s\n",
      "training accuracy  0.7075874370898898\n",
      "validation accuracy:  0.6673218673218673\n",
      "prediction accuracy:  0.6722358722358722\n",
      "Weighted Precision: 0.667325 \n",
      "Weighted Recall: 0.672236 \n",
      "Weighted F1 score: 0.649836 \n"
     ]
    },
    {
     "data": {
      "image/png": "[encoded data removed]",
      "text/plain": [
       "<Figure size 432x288 with 2 Axes>"
      ]
     },
     "metadata": {
      "needs_background": "light"
     },
     "output_type": "display_data"
    }
   ],
   "source": [
    "#Final model with chi2\n",
    "t0 = time.time()\n",
    "S_final_chi = clf2.fit(x_train_chi, y_train)\n",
    "t1 = time.time()-t0\n",
    "print(\"Excution time of Stacking classifier: {} s\". format(round(t1,3)))\n",
    "\n",
    "ta_chi_S,va_chi_S,pa_chi_S,W_precision_chi_S,W_recall_chi_S,W_f1_chi_S = print_result(S_final_chi, x_train_chi, x_valid_chi)\n"
   ]
  },
  {
   "cell_type": "code",
   "execution_count": 39,
   "metadata": {},
   "outputs": [],
   "source": [
    "#Add results to relative lists\n",
    "ta_chi.append(ta_chi_S)\n",
    "va_chi.append(va_chi_S)\n",
    "pa_chi.append(pa_chi_S)\n",
    "W_precision_chi.append(W_precision_chi_S)\n",
    "W_recall_chi.append(W_recall_chi_S)\n",
    "W_f1_chi.append(W_f1_chi_S)\n",
    "time_chi.append(t1)"
   ]
  },
  {
   "cell_type": "code",
   "execution_count": 40,
   "metadata": {},
   "outputs": [],
   "source": [
    "#Make dataset with model's results\n",
    "chi_list = []\n",
    "chi_columns = []\n",
    "chi_index = []\n",
    "chi_list.append(ta_chi)\n",
    "chi_list.append(va_chi)\n",
    "chi_list.append(pa_chi)\n",
    "chi_list.append(W_precision_chi)\n",
    "chi_list.append(W_recall_chi)\n",
    "chi_list.append(W_f1_chi)\n",
    "chi_list.append(time_chi)\n",
    "chi_columns = ['Base-line','LR', 'SVM','RF', 'S']\n",
    "chi_index = ['Training Accuracy', 'Validation Accuray', 'Prediction Accuracy', \n",
    "'Weighted Precision', 'Weighted Recall', 'Weighted F1-score', 'Execute time(s)']\n",
    "chi_np_list = np.array(chi_list)\n",
    "chi_df = pd.DataFrame(chi_np_list,columns=chi_columns, index = chi_index)\n",
    "\n"
   ]
  },
  {
   "cell_type": "code",
   "execution_count": 41,
   "metadata": {},
   "outputs": [
    {
     "name": "stdout",
     "output_type": "stream",
     "text": [
      "Chi2\n"
     ]
    },
    {
     "data": {
      "text/html": [
       "<div>\n",
       "<style scoped>\n",
       "    .dataframe tbody tr th:only-of-type {\n",
       "        vertical-align: middle;\n",
       "    }\n",
       "\n",
       "    .dataframe tbody tr th {\n",
       "        vertical-align: top;\n",
       "    }\n",
       "\n",
       "    .dataframe thead th {\n",
       "        text-align: right;\n",
       "    }\n",
       "</style>\n",
       "<table border=\"1\" class=\"dataframe\">\n",
       "  <thead>\n",
       "    <tr style=\"text-align: right;\">\n",
       "      <th></th>\n",
       "      <th>Base-line</th>\n",
       "      <th>LR</th>\n",
       "      <th>SVM</th>\n",
       "      <th>RF</th>\n",
       "      <th>S</th>\n",
       "    </tr>\n",
       "  </thead>\n",
       "  <tbody>\n",
       "    <tr>\n",
       "      <th>Training Accuracy</th>\n",
       "      <td>0.578964</td>\n",
       "      <td>0.695865</td>\n",
       "      <td>0.686692</td>\n",
       "      <td>0.708416</td>\n",
       "      <td>0.707587</td>\n",
       "    </tr>\n",
       "    <tr>\n",
       "      <th>Validation Accuray</th>\n",
       "      <td>0.584930</td>\n",
       "      <td>0.666503</td>\n",
       "      <td>0.651597</td>\n",
       "      <td>0.652744</td>\n",
       "      <td>0.667322</td>\n",
       "    </tr>\n",
       "    <tr>\n",
       "      <th>Prediction Accuracy</th>\n",
       "      <td>0.584930</td>\n",
       "      <td>0.670106</td>\n",
       "      <td>0.658804</td>\n",
       "      <td>0.657330</td>\n",
       "      <td>0.672236</td>\n",
       "    </tr>\n",
       "    <tr>\n",
       "      <th>Weighted Precision</th>\n",
       "      <td>0.342144</td>\n",
       "      <td>0.665460</td>\n",
       "      <td>0.649630</td>\n",
       "      <td>0.648595</td>\n",
       "      <td>0.667325</td>\n",
       "    </tr>\n",
       "    <tr>\n",
       "      <th>Weighted Recall</th>\n",
       "      <td>0.584930</td>\n",
       "      <td>0.670106</td>\n",
       "      <td>0.658804</td>\n",
       "      <td>0.657330</td>\n",
       "      <td>0.672236</td>\n",
       "    </tr>\n",
       "    <tr>\n",
       "      <th>Weighted F1-score</th>\n",
       "      <td>0.431746</td>\n",
       "      <td>0.646076</td>\n",
       "      <td>0.632546</td>\n",
       "      <td>0.623322</td>\n",
       "      <td>0.649836</td>\n",
       "    </tr>\n",
       "    <tr>\n",
       "      <th>Execute time(s)</th>\n",
       "      <td>0.003006</td>\n",
       "      <td>0.259035</td>\n",
       "      <td>5.002994</td>\n",
       "      <td>2.110214</td>\n",
       "      <td>12.371945</td>\n",
       "    </tr>\n",
       "  </tbody>\n",
       "</table>\n",
       "</div>"
      ],
      "text/plain": [
       "                     Base-line        LR       SVM        RF          S\n",
       "Training Accuracy     0.578964  0.695865  0.686692  0.708416   0.707587\n",
       "Validation Accuray    0.584930  0.666503  0.651597  0.652744   0.667322\n",
       "Prediction Accuracy   0.584930  0.670106  0.658804  0.657330   0.672236\n",
       "Weighted Precision    0.342144  0.665460  0.649630  0.648595   0.667325\n",
       "Weighted Recall       0.584930  0.670106  0.658804  0.657330   0.672236\n",
       "Weighted F1-score     0.431746  0.646076  0.632546  0.623322   0.649836\n",
       "Execute time(s)       0.003006  0.259035  5.002994  2.110214  12.371945"
      ]
     },
     "metadata": {},
     "output_type": "display_data"
    }
   ],
   "source": [
    "#Print results\n",
    "print(\"Chi2\")\n",
    "display(chi_df)\n"
   ]
  },
  {
   "cell_type": "markdown",
   "metadata": {},
   "source": [
    "### Final Prediction"
   ]
  },
  {
   "cell_type": "code",
   "execution_count": 43,
   "metadata": {},
   "outputs": [],
   "source": [
    "#preprocessing\n",
    "test_data = pd.read_csv(\"Test.csv\", sep=',')\n",
    "test = test_data['text']\n",
    "x_test = prepare(test)"
   ]
  },
  {
   "cell_type": "code",
   "execution_count": 45,
   "metadata": {},
   "outputs": [],
   "source": [
    "X_test_BoW_12 = BoW_vectorizer_12.transform(x_test)\n",
    "selector = SelectKBest(chi2,k=400)\n",
    "x_train_chi_12 = selector.fit_transform(X_train_BoW_12 ,y_train)\n",
    "x_test_12 = selector.transform(X_test_BoW_12)\n",
    "X_valid_chi = selector.transform(X_valid_BoW_12)"
   ]
  },
  {
   "cell_type": "code",
   "execution_count": 46,
   "metadata": {},
   "outputs": [],
   "source": [
    "#Output prediction data as .csv file\n",
    "y_predicted_LR = LR_final_chi.predict(x_test_12)\n",
    "l_LR = pd.DataFrame(y_predicted_LR, columns= ['sentiment'])\n",
    "result_LR = pd.concat([test_data[\"id\"],l_LR], axis = 1)\n",
    "result_LR.to_csv(\"prediction_LR.csv\", index = None)"
   ]
  },
  {
   "cell_type": "code",
   "execution_count": 47,
   "metadata": {},
   "outputs": [],
   "source": [
    "#Output prediction data as .csv file\n",
    "y_predicted_S = S_final_chi.predict(x_test_12)\n",
    "l_S = pd.DataFrame(y_predicted_S, columns= ['sentiment'])\n",
    "result_S = pd.concat([test_data[\"id\"],l_S], axis = 1)\n",
    "result_S.to_csv(\"prediction_S.csv\", index = None)\n"
   ]
  },
  {
   "cell_type": "code",
   "execution_count": 48,
   "metadata": {},
   "outputs": [],
   "source": [
    "#Output prediction data as .csv file\n",
    "y_predicted_RF = RF_final_chi.predict(x_test_12)\n",
    "l_RF = pd.DataFrame(y_predicted_RF, columns= ['sentiment'])\n",
    "result_RF = pd.concat([test_data[\"id\"],l_RF], axis = 1)\n",
    "result_RF.to_csv(\"prediction_RF.csv\", index = None)"
   ]
  },
  {
   "cell_type": "markdown",
   "metadata": {},
   "source": [
    "### Extra: Test the models with the even data distribution"
   ]
  },
  {
   "cell_type": "code",
   "execution_count": 47,
   "metadata": {},
   "outputs": [],
   "source": [
    "#Randomly extract 2000 instances from each label. And concate them together.\n",
    "train_data = pd.read_csv(\"Train.csv\", sep=',')\n",
    "positive_train_data = train_data[train_data['sentiment']=='positive']\n",
    "X1 = positive_train_data[\"text\"]\n",
    "y1 =positive_train_data[\"sentiment\"]\n",
    "X1_train,X1_valid,y1_train,y1_valid = train_test_split(X1,y1,train_size = 2000, test_size= 1715, random_state=30027)\n",
    "\n",
    "netural_train_data = train_data[train_data['sentiment']=='neutral']\n",
    "X2 = netural_train_data[\"text\"]\n",
    "y2 =netural_train_data[\"sentiment\"]\n",
    "X2_train,X2_valid,y2_train,y2_valid = train_test_split(X2,y2,train_size = 2000, test_size= 1715, random_state=30027)\n",
    "\n",
    "negative_train_data = train_data[train_data['sentiment']=='negative']\n",
    "X3 = negative_train_data[\"text\"]\n",
    "y3 =negative_train_data[\"sentiment\"]\n",
    "X3_train,X3_valid,y3_train,y3_valid = train_test_split(X3,y3,train_size = 2000, test_size= 1715, random_state=30027)\n",
    "\n",
    "X_train,X_valid,y_train,y_valid = pd.concat([X1_train,X2_train,X3_train]),pd.concat([X1_valid,X2_valid,X3_valid]),pd.concat([y1_train,y2_train,y3_train]),pd.concat([y1_valid,y2_valid,y3_valid])"
   ]
  },
  {
   "cell_type": "code",
   "execution_count": 48,
   "metadata": {},
   "outputs": [],
   "source": [
    "#Clean data\n",
    "x_train_even = prepare(X_train)\n",
    "x_valid_even = prepare(X_valid)"
   ]
  },
  {
   "cell_type": "code",
   "execution_count": 49,
   "metadata": {},
   "outputs": [
    {
     "data": {
      "text/plain": [
       "(5145, 56716)"
      ]
     },
     "execution_count": 49,
     "metadata": {},
     "output_type": "execute_result"
    }
   ],
   "source": [
    "#Apply BoW\n",
    "BoW_vectorizer_12 = CountVectorizer(ngram_range=(1,2))\n",
    "#Build the feature set (vocabulary) and vectorise the Tarin dataset using BoW\n",
    "X_train_BoW_12_even = BoW_vectorizer_12.fit_transform(x_train_even)\n",
    "\n",
    "#Use the feature set (vocabulary) from Train to vectorise the Test dataset \n",
    "X_valid_BoW_12_even = BoW_vectorizer_12.transform(x_valid_even)\n",
    "X_valid_BoW_12_even.shape"
   ]
  },
  {
   "cell_type": "code",
   "execution_count": 50,
   "metadata": {},
   "outputs": [],
   "source": [
    "#Apply chi2\n",
    "selector = SelectKBest(chi2,k= 400)\n",
    "x_train_chi_12 = selector.fit_transform(X_train_BoW_12_even ,y_train)\n",
    "x_valid_chi_12 = selector.transform(X_valid_BoW_12_even)"
   ]
  },
  {
   "cell_type": "code",
   "execution_count": 51,
   "metadata": {},
   "outputs": [
    {
     "name": "stdout",
     "output_type": "stream",
     "text": [
      "Excution time of SVM classifier: 0.936 s\n",
      "training accuracy  0.6753333333333333\n",
      "validation accuracy:  0.5797862001943634\n",
      "prediction accuracy:  0.5885325558794946\n",
      "Weighted Precision: 0.617436 \n",
      "Weighted Recall: 0.588533 \n",
      "Weighted F1 score: 0.594749 \n"
     ]
    },
    {
     "data": {
      "image/png": "[encoded data removed]",
      "text/plain": [
       "<Figure size 432x288 with 2 Axes>"
      ]
     },
     "metadata": {
      "needs_background": "light"
     },
     "output_type": "display_data"
    }
   ],
   "source": [
    "#Print the confusion matrix\n",
    "t0 = time.time()\n",
    "SVM_final_chi = SVC(kernel=\"linear\", C = 0.4, decision_function_shape = 'ovo').fit(x_train_chi_12, y_train)\n",
    "t1 = time.time()-t0\n",
    "print(\"Excution time of SVM classifier: {} s\". format(round(t1,3)))\n",
    "ta_chi_SVM,va_chi_SVM,pa_chi_SVM,W_precision_chi_SVM,W_recall_chi_SVM,W_f1_chi_SVM = print_result(SVM_final_chi, x_train_chi_12, x_valid_chi_12)\n"
   ]
  }
 ],
 "metadata": {
  "interpreter": {
   "hash": "d3e10ef16274dd72e574b8fa73b58450b957d8421a2901baded3cca26fcf5dda"
  },
  "kernelspec": {
   "display_name": "Python 3 (ipykernel)",
   "language": "python",
   "name": "python3"
  },
  "language_info": {
   "codemirror_mode": {
    "name": "ipython",
    "version": 3
   },
   "file_extension": ".py",
   "mimetype": "text/x-python",
   "name": "python",
   "nbconvert_exporter": "python",
   "pygments_lexer": "ipython3",
   "version": "3.10.2"
  }
 },
 "nbformat": 4,
 "nbformat_minor": 4
}
